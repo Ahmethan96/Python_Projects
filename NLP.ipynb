{
  "nbformat": 4,
  "nbformat_minor": 0,
  "metadata": {
    "kernelspec": {
      "display_name": "Python 3",
      "language": "python",
      "name": "python3"
    },
    "language_info": {
      "codemirror_mode": {
        "name": "ipython",
        "version": 3
      },
      "file_extension": ".py",
      "mimetype": "text/x-python",
      "name": "python",
      "nbconvert_exporter": "python",
      "pygments_lexer": "ipython3",
      "version": "3.6.5"
    },
    "colab": {
      "provenance": [],
      "collapsed_sections": [],
      "include_colab_link": true
    }
  },
  "cells": [
    {
      "cell_type": "markdown",
      "metadata": {
        "id": "view-in-github",
        "colab_type": "text"
      },
      "source": [
        "<a href=\"https://colab.research.google.com/github/Ahmethan96/Pytohn-Projects/blob/main/NLP.ipynb\" target=\"_parent\"><img src=\"https://colab.research.google.com/assets/colab-badge.svg\" alt=\"Open In Colab\"/></a>"
      ]
    },
    {
      "cell_type": "markdown",
      "metadata": {
        "id": "-Wj6vdO4_YSP"
      },
      "source": [
        "Need to run this to allow multiple ouputs"
      ]
    },
    {
      "cell_type": "code",
      "metadata": {
        "id": "OkS0NOmK_YST"
      },
      "source": [
        "from IPython.core.interactiveshell import InteractiveShell\n",
        "InteractiveShell.ast_node_interactivity = \"all\""
      ],
      "execution_count": null,
      "outputs": []
    },
    {
      "cell_type": "markdown",
      "metadata": {
        "id": "DLvuB7Wy_YSf"
      },
      "source": [
        "### Using a Tagger"
      ]
    },
    {
      "cell_type": "code",
      "metadata": {
        "id": "UTtIuZgg_YSh",
        "outputId": "6e3c783f-dfbf-498a-9ec3-d9027db9f8d4",
        "colab": {
          "base_uri": "https://localhost:8080/"
        }
      },
      "source": [
        "import nltk\n",
        "nltk.download('punkt')\n",
        "nltk.download('averaged_perceptron_tagger')\n",
        "nltk.download('tagsets')\n",
        "\n",
        "#Homonyms\n",
        "text = nltk.word_tokenize(\"they like to play football every day in summer to enjoy\")\n",
        "nltk.pos_tag(text)\n",
        "nltk.help.upenn_tagset('VBP')\n",
        "nltk.help.upenn_tagset('NN')\n"
      ],
      "execution_count": null,
      "outputs": [
        {
          "output_type": "stream",
          "name": "stderr",
          "text": [
            "[nltk_data] Downloading package punkt to /root/nltk_data...\n",
            "[nltk_data]   Package punkt is already up-to-date!\n"
          ]
        },
        {
          "output_type": "execute_result",
          "data": {
            "text/plain": [
              "True"
            ]
          },
          "metadata": {},
          "execution_count": 4
        },
        {
          "output_type": "stream",
          "name": "stderr",
          "text": [
            "[nltk_data] Downloading package averaged_perceptron_tagger to\n",
            "[nltk_data]     /root/nltk_data...\n",
            "[nltk_data]   Package averaged_perceptron_tagger is already up-to-\n",
            "[nltk_data]       date!\n"
          ]
        },
        {
          "output_type": "execute_result",
          "data": {
            "text/plain": [
              "True"
            ]
          },
          "metadata": {},
          "execution_count": 4
        },
        {
          "output_type": "stream",
          "name": "stderr",
          "text": [
            "[nltk_data] Downloading package tagsets to /root/nltk_data...\n",
            "[nltk_data]   Package tagsets is already up-to-date!\n"
          ]
        },
        {
          "output_type": "execute_result",
          "data": {
            "text/plain": [
              "True"
            ]
          },
          "metadata": {},
          "execution_count": 4
        },
        {
          "output_type": "execute_result",
          "data": {
            "text/plain": [
              "[('they', 'PRP'),\n",
              " ('like', 'VBP'),\n",
              " ('to', 'TO'),\n",
              " ('play', 'VB'),\n",
              " ('football', 'NN'),\n",
              " ('every', 'DT'),\n",
              " ('day', 'NN'),\n",
              " ('in', 'IN'),\n",
              " ('summer', 'NN'),\n",
              " ('to', 'TO'),\n",
              " ('enjoy', 'VB')]"
            ]
          },
          "metadata": {},
          "execution_count": 4
        },
        {
          "output_type": "stream",
          "name": "stdout",
          "text": [
            "VBP: verb, present tense, not 3rd person singular\n",
            "    predominate wrap resort sue twist spill cure lengthen brush terminate\n",
            "    appear tend stray glisten obtain comprise detest tease attract\n",
            "    emphasize mold postpone sever return wag ...\n",
            "NN: noun, common, singular or mass\n",
            "    common-carrier cabbage knuckle-duster Casino afghan shed thermostat\n",
            "    investment slide humour falloff slick wind hyena override subhumanity\n",
            "    machinist ...\n"
          ]
        }
      ]
    },
    {
      "cell_type": "markdown",
      "metadata": {
        "id": "c6_4YMkVyNDe"
      },
      "source": [
        "**Refuse** and **Permit** are verbs and nouns"
      ]
    },
    {
      "cell_type": "markdown",
      "metadata": {
        "id": "5AiLWx3G_YSt"
      },
      "source": [
        "### Tagged Corpora"
      ]
    },
    {
      "cell_type": "markdown",
      "metadata": {
        "id": "sKxvC9u0_YSv"
      },
      "source": [
        "Complete vs simplyfied (universal) tagging"
      ]
    },
    {
      "cell_type": "code",
      "metadata": {
        "id": "N4RdQQRT_YSw",
        "outputId": "49c8687a-9549-411c-9097-06522d5e6a14",
        "colab": {
          "base_uri": "https://localhost:8080/"
        }
      },
      "source": [
        "import nltk\n",
        "nltk.download('brown')\n",
        "nltk.download('universal_tagset')\n",
        "print(nltk.corpus.brown.tagged_words())\n",
        "nltk.corpus.brown.tagged_words(tagset='universal')"
      ],
      "execution_count": null,
      "outputs": [
        {
          "output_type": "stream",
          "name": "stderr",
          "text": [
            "[nltk_data] Downloading package brown to /root/nltk_data...\n",
            "[nltk_data]   Package brown is already up-to-date!\n"
          ]
        },
        {
          "output_type": "execute_result",
          "data": {
            "text/plain": [
              "True"
            ]
          },
          "metadata": {},
          "execution_count": 12
        },
        {
          "output_type": "stream",
          "name": "stderr",
          "text": [
            "[nltk_data] Downloading package universal_tagset to /root/nltk_data...\n",
            "[nltk_data]   Package universal_tagset is already up-to-date!\n"
          ]
        },
        {
          "output_type": "execute_result",
          "data": {
            "text/plain": [
              "True"
            ]
          },
          "metadata": {},
          "execution_count": 12
        },
        {
          "output_type": "stream",
          "name": "stdout",
          "text": [
            "[('The', 'AT'), ('Fulton', 'NP-TL'), ...]\n"
          ]
        },
        {
          "output_type": "execute_result",
          "data": {
            "text/plain": [
              "[('The', 'DET'), ('Fulton', 'NOUN'), ...]"
            ]
          },
          "metadata": {},
          "execution_count": 12
        }
      ]
    },
    {
      "cell_type": "code",
      "metadata": {
        "id": "2m4Z5kHRemmU"
      },
      "source": [],
      "execution_count": null,
      "outputs": []
    },
    {
      "cell_type": "markdown",
      "metadata": {
        "id": "5NePssu__YS3"
      },
      "source": [
        "Tagging other languages"
      ]
    },
    {
      "cell_type": "code",
      "metadata": {
        "id": "Q-zVDwlr_YS4",
        "outputId": "9869ce5a-ad49-45cb-b9d2-294c53fab3b1",
        "colab": {
          "base_uri": "https://localhost:8080/"
        }
      },
      "source": [
        "import nltk\n",
        "nltk.download('cess_esp')\n",
        "nltk.corpus.cess_esp.tagged_words()"
      ],
      "execution_count": null,
      "outputs": [
        {
          "output_type": "stream",
          "name": "stderr",
          "text": [
            "[nltk_data] Downloading package cess_esp to /root/nltk_data...\n",
            "[nltk_data]   Unzipping corpora/cess_esp.zip.\n"
          ]
        },
        {
          "output_type": "execute_result",
          "data": {
            "text/plain": [
              "True"
            ]
          },
          "metadata": {},
          "execution_count": 4
        },
        {
          "output_type": "execute_result",
          "data": {
            "text/plain": [
              "[('El', 'da0ms0'), ('grupo', 'ncms000'), ...]"
            ]
          },
          "metadata": {},
          "execution_count": 4
        }
      ]
    },
    {
      "cell_type": "markdown",
      "metadata": {
        "id": "To2iC07c_YS9"
      },
      "source": [
        "Most common tags"
      ]
    },
    {
      "cell_type": "code",
      "metadata": {
        "id": "UO_fCXlB_YS-",
        "outputId": "c1635b52-6cc8-4987-c333-5d19c49de634",
        "colab": {
          "base_uri": "https://localhost:8080/",
          "height": 864
        }
      },
      "source": [
        "import pandas as pd\n",
        "from nltk.corpus import brown\n",
        "import matplotlib.pyplot as plt \n",
        "brown_news_tagged = brown.tagged_words(categories='news', tagset='universal')\n",
        "print (brown_news_tagged)\n",
        "tag_fd = nltk.FreqDist(tag for (word, tag) in brown_news_tagged)\n",
        "print(tag_fd.values())\n",
        "tag_fd.keys()\n",
        "\n",
        "list(tag_fd.most_common())\n",
        "\n",
        "print(len(tag_fd))\n",
        "\n",
        "print(len(brown_news_tagged))\n",
        "\n",
        "data = pd.DataFrame(brown_news_tagged)\n",
        "\n",
        "data.head()\n",
        "print(data.shape)\n",
        "\n",
        "plt.figure(figsize=(10,10))\n",
        "data.head(10)\n",
        "# class_distribution = tag_fd.value_counts()\n",
        "# class_distribution.plot(kind='pie')\n"
      ],
      "execution_count": null,
      "outputs": [
        {
          "output_type": "stream",
          "name": "stdout",
          "text": [
            "[('The', 'DET'), ('Fulton', 'NOUN'), ...]\n",
            "dict_values([11389, 30654, 6706, 14399, 12355, 11928, 3349, 2717, 2264, 2535, 2166, 92])\n"
          ]
        },
        {
          "output_type": "execute_result",
          "data": {
            "text/plain": [
              "dict_keys(['DET', 'NOUN', 'ADJ', 'VERB', 'ADP', '.', 'ADV', 'CONJ', 'PRT', 'PRON', 'NUM', 'X'])"
            ]
          },
          "metadata": {},
          "execution_count": 33
        },
        {
          "output_type": "execute_result",
          "data": {
            "text/plain": [
              "[('NOUN', 30654),\n",
              " ('VERB', 14399),\n",
              " ('ADP', 12355),\n",
              " ('.', 11928),\n",
              " ('DET', 11389),\n",
              " ('ADJ', 6706),\n",
              " ('ADV', 3349),\n",
              " ('CONJ', 2717),\n",
              " ('PRON', 2535),\n",
              " ('PRT', 2264),\n",
              " ('NUM', 2166),\n",
              " ('X', 92)]"
            ]
          },
          "metadata": {},
          "execution_count": 33
        },
        {
          "output_type": "stream",
          "name": "stdout",
          "text": [
            "12\n",
            "100554\n"
          ]
        },
        {
          "output_type": "execute_result",
          "data": {
            "text/plain": [
              "        0     1\n",
              "0     The   DET\n",
              "1  Fulton  NOUN\n",
              "2  County  NOUN\n",
              "3   Grand   ADJ\n",
              "4    Jury  NOUN"
            ],
            "text/html": [
              "\n",
              "  <div id=\"df-3d90c542-6472-476b-b65b-70d553a4c6fe\">\n",
              "    <div class=\"colab-df-container\">\n",
              "      <div>\n",
              "<style scoped>\n",
              "    .dataframe tbody tr th:only-of-type {\n",
              "        vertical-align: middle;\n",
              "    }\n",
              "\n",
              "    .dataframe tbody tr th {\n",
              "        vertical-align: top;\n",
              "    }\n",
              "\n",
              "    .dataframe thead th {\n",
              "        text-align: right;\n",
              "    }\n",
              "</style>\n",
              "<table border=\"1\" class=\"dataframe\">\n",
              "  <thead>\n",
              "    <tr style=\"text-align: right;\">\n",
              "      <th></th>\n",
              "      <th>0</th>\n",
              "      <th>1</th>\n",
              "    </tr>\n",
              "  </thead>\n",
              "  <tbody>\n",
              "    <tr>\n",
              "      <th>0</th>\n",
              "      <td>The</td>\n",
              "      <td>DET</td>\n",
              "    </tr>\n",
              "    <tr>\n",
              "      <th>1</th>\n",
              "      <td>Fulton</td>\n",
              "      <td>NOUN</td>\n",
              "    </tr>\n",
              "    <tr>\n",
              "      <th>2</th>\n",
              "      <td>County</td>\n",
              "      <td>NOUN</td>\n",
              "    </tr>\n",
              "    <tr>\n",
              "      <th>3</th>\n",
              "      <td>Grand</td>\n",
              "      <td>ADJ</td>\n",
              "    </tr>\n",
              "    <tr>\n",
              "      <th>4</th>\n",
              "      <td>Jury</td>\n",
              "      <td>NOUN</td>\n",
              "    </tr>\n",
              "  </tbody>\n",
              "</table>\n",
              "</div>\n",
              "      <button class=\"colab-df-convert\" onclick=\"convertToInteractive('df-3d90c542-6472-476b-b65b-70d553a4c6fe')\"\n",
              "              title=\"Convert this dataframe to an interactive table.\"\n",
              "              style=\"display:none;\">\n",
              "        \n",
              "  <svg xmlns=\"http://www.w3.org/2000/svg\" height=\"24px\"viewBox=\"0 0 24 24\"\n",
              "       width=\"24px\">\n",
              "    <path d=\"M0 0h24v24H0V0z\" fill=\"none\"/>\n",
              "    <path d=\"M18.56 5.44l.94 2.06.94-2.06 2.06-.94-2.06-.94-.94-2.06-.94 2.06-2.06.94zm-11 1L8.5 8.5l.94-2.06 2.06-.94-2.06-.94L8.5 2.5l-.94 2.06-2.06.94zm10 10l.94 2.06.94-2.06 2.06-.94-2.06-.94-.94-2.06-.94 2.06-2.06.94z\"/><path d=\"M17.41 7.96l-1.37-1.37c-.4-.4-.92-.59-1.43-.59-.52 0-1.04.2-1.43.59L10.3 9.45l-7.72 7.72c-.78.78-.78 2.05 0 2.83L4 21.41c.39.39.9.59 1.41.59.51 0 1.02-.2 1.41-.59l7.78-7.78 2.81-2.81c.8-.78.8-2.07 0-2.86zM5.41 20L4 18.59l7.72-7.72 1.47 1.35L5.41 20z\"/>\n",
              "  </svg>\n",
              "      </button>\n",
              "      \n",
              "  <style>\n",
              "    .colab-df-container {\n",
              "      display:flex;\n",
              "      flex-wrap:wrap;\n",
              "      gap: 12px;\n",
              "    }\n",
              "\n",
              "    .colab-df-convert {\n",
              "      background-color: #E8F0FE;\n",
              "      border: none;\n",
              "      border-radius: 50%;\n",
              "      cursor: pointer;\n",
              "      display: none;\n",
              "      fill: #1967D2;\n",
              "      height: 32px;\n",
              "      padding: 0 0 0 0;\n",
              "      width: 32px;\n",
              "    }\n",
              "\n",
              "    .colab-df-convert:hover {\n",
              "      background-color: #E2EBFA;\n",
              "      box-shadow: 0px 1px 2px rgba(60, 64, 67, 0.3), 0px 1px 3px 1px rgba(60, 64, 67, 0.15);\n",
              "      fill: #174EA6;\n",
              "    }\n",
              "\n",
              "    [theme=dark] .colab-df-convert {\n",
              "      background-color: #3B4455;\n",
              "      fill: #D2E3FC;\n",
              "    }\n",
              "\n",
              "    [theme=dark] .colab-df-convert:hover {\n",
              "      background-color: #434B5C;\n",
              "      box-shadow: 0px 1px 3px 1px rgba(0, 0, 0, 0.15);\n",
              "      filter: drop-shadow(0px 1px 2px rgba(0, 0, 0, 0.3));\n",
              "      fill: #FFFFFF;\n",
              "    }\n",
              "  </style>\n",
              "\n",
              "      <script>\n",
              "        const buttonEl =\n",
              "          document.querySelector('#df-3d90c542-6472-476b-b65b-70d553a4c6fe button.colab-df-convert');\n",
              "        buttonEl.style.display =\n",
              "          google.colab.kernel.accessAllowed ? 'block' : 'none';\n",
              "\n",
              "        async function convertToInteractive(key) {\n",
              "          const element = document.querySelector('#df-3d90c542-6472-476b-b65b-70d553a4c6fe');\n",
              "          const dataTable =\n",
              "            await google.colab.kernel.invokeFunction('convertToInteractive',\n",
              "                                                     [key], {});\n",
              "          if (!dataTable) return;\n",
              "\n",
              "          const docLinkHtml = 'Like what you see? Visit the ' +\n",
              "            '<a target=\"_blank\" href=https://colab.research.google.com/notebooks/data_table.ipynb>data table notebook</a>'\n",
              "            + ' to learn more about interactive tables.';\n",
              "          element.innerHTML = '';\n",
              "          dataTable['output_type'] = 'display_data';\n",
              "          await google.colab.output.renderOutput(dataTable, element);\n",
              "          const docLink = document.createElement('div');\n",
              "          docLink.innerHTML = docLinkHtml;\n",
              "          element.appendChild(docLink);\n",
              "        }\n",
              "      </script>\n",
              "    </div>\n",
              "  </div>\n",
              "  "
            ]
          },
          "metadata": {},
          "execution_count": 33
        },
        {
          "output_type": "stream",
          "name": "stdout",
          "text": [
            "(100554, 2)\n"
          ]
        },
        {
          "output_type": "execute_result",
          "data": {
            "text/plain": [
              "<Figure size 720x720 with 0 Axes>"
            ]
          },
          "metadata": {},
          "execution_count": 33
        },
        {
          "output_type": "execute_result",
          "data": {
            "text/plain": [
              "               0     1\n",
              "0            The   DET\n",
              "1         Fulton  NOUN\n",
              "2         County  NOUN\n",
              "3          Grand   ADJ\n",
              "4           Jury  NOUN\n",
              "5           said  VERB\n",
              "6         Friday  NOUN\n",
              "7             an   DET\n",
              "8  investigation  NOUN\n",
              "9             of   ADP"
            ],
            "text/html": [
              "\n",
              "  <div id=\"df-3f2437d4-7edb-4433-af58-e271f13910db\">\n",
              "    <div class=\"colab-df-container\">\n",
              "      <div>\n",
              "<style scoped>\n",
              "    .dataframe tbody tr th:only-of-type {\n",
              "        vertical-align: middle;\n",
              "    }\n",
              "\n",
              "    .dataframe tbody tr th {\n",
              "        vertical-align: top;\n",
              "    }\n",
              "\n",
              "    .dataframe thead th {\n",
              "        text-align: right;\n",
              "    }\n",
              "</style>\n",
              "<table border=\"1\" class=\"dataframe\">\n",
              "  <thead>\n",
              "    <tr style=\"text-align: right;\">\n",
              "      <th></th>\n",
              "      <th>0</th>\n",
              "      <th>1</th>\n",
              "    </tr>\n",
              "  </thead>\n",
              "  <tbody>\n",
              "    <tr>\n",
              "      <th>0</th>\n",
              "      <td>The</td>\n",
              "      <td>DET</td>\n",
              "    </tr>\n",
              "    <tr>\n",
              "      <th>1</th>\n",
              "      <td>Fulton</td>\n",
              "      <td>NOUN</td>\n",
              "    </tr>\n",
              "    <tr>\n",
              "      <th>2</th>\n",
              "      <td>County</td>\n",
              "      <td>NOUN</td>\n",
              "    </tr>\n",
              "    <tr>\n",
              "      <th>3</th>\n",
              "      <td>Grand</td>\n",
              "      <td>ADJ</td>\n",
              "    </tr>\n",
              "    <tr>\n",
              "      <th>4</th>\n",
              "      <td>Jury</td>\n",
              "      <td>NOUN</td>\n",
              "    </tr>\n",
              "    <tr>\n",
              "      <th>5</th>\n",
              "      <td>said</td>\n",
              "      <td>VERB</td>\n",
              "    </tr>\n",
              "    <tr>\n",
              "      <th>6</th>\n",
              "      <td>Friday</td>\n",
              "      <td>NOUN</td>\n",
              "    </tr>\n",
              "    <tr>\n",
              "      <th>7</th>\n",
              "      <td>an</td>\n",
              "      <td>DET</td>\n",
              "    </tr>\n",
              "    <tr>\n",
              "      <th>8</th>\n",
              "      <td>investigation</td>\n",
              "      <td>NOUN</td>\n",
              "    </tr>\n",
              "    <tr>\n",
              "      <th>9</th>\n",
              "      <td>of</td>\n",
              "      <td>ADP</td>\n",
              "    </tr>\n",
              "  </tbody>\n",
              "</table>\n",
              "</div>\n",
              "      <button class=\"colab-df-convert\" onclick=\"convertToInteractive('df-3f2437d4-7edb-4433-af58-e271f13910db')\"\n",
              "              title=\"Convert this dataframe to an interactive table.\"\n",
              "              style=\"display:none;\">\n",
              "        \n",
              "  <svg xmlns=\"http://www.w3.org/2000/svg\" height=\"24px\"viewBox=\"0 0 24 24\"\n",
              "       width=\"24px\">\n",
              "    <path d=\"M0 0h24v24H0V0z\" fill=\"none\"/>\n",
              "    <path d=\"M18.56 5.44l.94 2.06.94-2.06 2.06-.94-2.06-.94-.94-2.06-.94 2.06-2.06.94zm-11 1L8.5 8.5l.94-2.06 2.06-.94-2.06-.94L8.5 2.5l-.94 2.06-2.06.94zm10 10l.94 2.06.94-2.06 2.06-.94-2.06-.94-.94-2.06-.94 2.06-2.06.94z\"/><path d=\"M17.41 7.96l-1.37-1.37c-.4-.4-.92-.59-1.43-.59-.52 0-1.04.2-1.43.59L10.3 9.45l-7.72 7.72c-.78.78-.78 2.05 0 2.83L4 21.41c.39.39.9.59 1.41.59.51 0 1.02-.2 1.41-.59l7.78-7.78 2.81-2.81c.8-.78.8-2.07 0-2.86zM5.41 20L4 18.59l7.72-7.72 1.47 1.35L5.41 20z\"/>\n",
              "  </svg>\n",
              "      </button>\n",
              "      \n",
              "  <style>\n",
              "    .colab-df-container {\n",
              "      display:flex;\n",
              "      flex-wrap:wrap;\n",
              "      gap: 12px;\n",
              "    }\n",
              "\n",
              "    .colab-df-convert {\n",
              "      background-color: #E8F0FE;\n",
              "      border: none;\n",
              "      border-radius: 50%;\n",
              "      cursor: pointer;\n",
              "      display: none;\n",
              "      fill: #1967D2;\n",
              "      height: 32px;\n",
              "      padding: 0 0 0 0;\n",
              "      width: 32px;\n",
              "    }\n",
              "\n",
              "    .colab-df-convert:hover {\n",
              "      background-color: #E2EBFA;\n",
              "      box-shadow: 0px 1px 2px rgba(60, 64, 67, 0.3), 0px 1px 3px 1px rgba(60, 64, 67, 0.15);\n",
              "      fill: #174EA6;\n",
              "    }\n",
              "\n",
              "    [theme=dark] .colab-df-convert {\n",
              "      background-color: #3B4455;\n",
              "      fill: #D2E3FC;\n",
              "    }\n",
              "\n",
              "    [theme=dark] .colab-df-convert:hover {\n",
              "      background-color: #434B5C;\n",
              "      box-shadow: 0px 1px 3px 1px rgba(0, 0, 0, 0.15);\n",
              "      filter: drop-shadow(0px 1px 2px rgba(0, 0, 0, 0.3));\n",
              "      fill: #FFFFFF;\n",
              "    }\n",
              "  </style>\n",
              "\n",
              "      <script>\n",
              "        const buttonEl =\n",
              "          document.querySelector('#df-3f2437d4-7edb-4433-af58-e271f13910db button.colab-df-convert');\n",
              "        buttonEl.style.display =\n",
              "          google.colab.kernel.accessAllowed ? 'block' : 'none';\n",
              "\n",
              "        async function convertToInteractive(key) {\n",
              "          const element = document.querySelector('#df-3f2437d4-7edb-4433-af58-e271f13910db');\n",
              "          const dataTable =\n",
              "            await google.colab.kernel.invokeFunction('convertToInteractive',\n",
              "                                                     [key], {});\n",
              "          if (!dataTable) return;\n",
              "\n",
              "          const docLinkHtml = 'Like what you see? Visit the ' +\n",
              "            '<a target=\"_blank\" href=https://colab.research.google.com/notebooks/data_table.ipynb>data table notebook</a>'\n",
              "            + ' to learn more about interactive tables.';\n",
              "          element.innerHTML = '';\n",
              "          dataTable['output_type'] = 'display_data';\n",
              "          await google.colab.output.renderOutput(dataTable, element);\n",
              "          const docLink = document.createElement('div');\n",
              "          docLink.innerHTML = docLinkHtml;\n",
              "          element.appendChild(docLink);\n",
              "        }\n",
              "      </script>\n",
              "    </div>\n",
              "  </div>\n",
              "  "
            ]
          },
          "metadata": {},
          "execution_count": 33
        },
        {
          "output_type": "display_data",
          "data": {
            "text/plain": [
              "<Figure size 720x720 with 0 Axes>"
            ]
          },
          "metadata": {}
        }
      ]
    },
    {
      "cell_type": "markdown",
      "metadata": {
        "id": "Ucz8hgjd_YTC"
      },
      "source": [
        "### Mapping Words to Properties Using Python Dictionaries (Spanish Example)"
      ]
    },
    {
      "cell_type": "code",
      "metadata": {
        "id": "UJydS-Pk_YTD",
        "outputId": "37bb455d-27a2-4755-f208-72ed70d65e8d",
        "colab": {
          "base_uri": "https://localhost:8080/",
          "height": 36
        }
      },
      "source": [
        "pos = {}\n",
        "pos\n",
        "pos['sin color'] = 'ADJ'\n",
        "pos\n",
        "pos['ideas'] = 'SUS'\n",
        "pos['dormir'] = 'V'\n",
        "pos['furiousamente'] = 'ADV'\n",
        "pos\n",
        "pos['ideas']\n",
        "pos['sin color']"
      ],
      "execution_count": null,
      "outputs": [
        {
          "output_type": "execute_result",
          "data": {
            "text/plain": [
              "{}"
            ]
          },
          "metadata": {},
          "execution_count": 23
        },
        {
          "output_type": "execute_result",
          "data": {
            "text/plain": [
              "{'sin color': 'ADJ'}"
            ]
          },
          "metadata": {},
          "execution_count": 23
        },
        {
          "output_type": "execute_result",
          "data": {
            "text/plain": [
              "{'sin color': 'ADJ', 'ideas': 'SUS', 'dormir': 'V', 'furiousamente': 'ADV'}"
            ]
          },
          "metadata": {},
          "execution_count": 23
        },
        {
          "output_type": "execute_result",
          "data": {
            "text/plain": [
              "'SUS'"
            ],
            "application/vnd.google.colaboratory.intrinsic+json": {
              "type": "string"
            }
          },
          "metadata": {},
          "execution_count": 23
        },
        {
          "output_type": "execute_result",
          "data": {
            "text/plain": [
              "'ADJ'"
            ],
            "application/vnd.google.colaboratory.intrinsic+json": {
              "type": "string"
            }
          },
          "metadata": {},
          "execution_count": 23
        }
      ]
    },
    {
      "cell_type": "markdown",
      "metadata": {
        "id": "_8I4f49L_YTI"
      },
      "source": [
        "### Default Dictionary\n",
        "Diccionary can automatically create am entry for new keys and give it a default value (0 or empty list)"
      ]
    },
    {
      "cell_type": "code",
      "metadata": {
        "id": "G53lXu9Q_YTJ",
        "outputId": "30f183fb-d872-4897-8577-6fccf008fcf7",
        "colab": {
          "base_uri": "https://localhost:8080/"
        }
      },
      "source": [
        "frequency = nltk.defaultdict(int)\n",
        "frequency['colorless'] = 4\n",
        "frequency['ideas']\n",
        "pos = nltk.defaultdict(list)\n",
        "pos['sleep'] = ['N','V']\n",
        "print('\\n')\n",
        "pos['ideas']\n",
        "print('\\n')\n",
        "pos['sleep']"
      ],
      "execution_count": null,
      "outputs": [
        {
          "output_type": "execute_result",
          "data": {
            "text/plain": [
              "0"
            ]
          },
          "metadata": {},
          "execution_count": 7
        },
        {
          "output_type": "stream",
          "name": "stdout",
          "text": [
            "\n",
            "\n"
          ]
        },
        {
          "output_type": "execute_result",
          "data": {
            "text/plain": [
              "[]"
            ]
          },
          "metadata": {},
          "execution_count": 7
        },
        {
          "output_type": "stream",
          "name": "stdout",
          "text": [
            "\n",
            "\n"
          ]
        },
        {
          "output_type": "execute_result",
          "data": {
            "text/plain": [
              "['N', 'V']"
            ]
          },
          "metadata": {},
          "execution_count": 7
        }
      ]
    },
    {
      "cell_type": "markdown",
      "metadata": {
        "id": "4YLDPwOz_YTM"
      },
      "source": [
        "### Automatic Tagging"
      ]
    },
    {
      "cell_type": "markdown",
      "metadata": {
        "id": "9HnQVXE0_YTM"
      },
      "source": [
        "The Default Tagger. The simplest possible tagger assigns the same tag to each token (NN). Notice poor performance."
      ]
    },
    {
      "cell_type": "code",
      "metadata": {
        "id": "1FOdFCyR_YTN",
        "outputId": "9e6aeb96-17b0-415b-d9da-6cd25cfd02da",
        "colab": {
          "base_uri": "https://localhost:8080/"
        }
      },
      "source": [
        "import nltk\n",
        "from nltk.corpus import brown\n",
        "raw = 'I do not like green eggs and ham, I do not like them Sam I am!'\n",
        "tokens = nltk.word_tokenize(raw)\n",
        "default_tagger = nltk.DefaultTagger('NN')\n",
        "default_tagger.tag(tokens)\n",
        "brown_tagged_sents = brown.tagged_sents(categories='news')\n",
        "print('\\n Perc of Correctly tagged tokens -> ', round(default_tagger.evaluate(brown_tagged_sents)*100),'%')\n"
      ],
      "execution_count": null,
      "outputs": [
        {
          "output_type": "execute_result",
          "data": {
            "text/plain": [
              "[('I', 'NN'),\n",
              " ('do', 'NN'),\n",
              " ('not', 'NN'),\n",
              " ('like', 'NN'),\n",
              " ('green', 'NN'),\n",
              " ('eggs', 'NN'),\n",
              " ('and', 'NN'),\n",
              " ('ham', 'NN'),\n",
              " (',', 'NN'),\n",
              " ('I', 'NN'),\n",
              " ('do', 'NN'),\n",
              " ('not', 'NN'),\n",
              " ('like', 'NN'),\n",
              " ('them', 'NN'),\n",
              " ('Sam', 'NN'),\n",
              " ('I', 'NN'),\n",
              " ('am', 'NN'),\n",
              " ('!', 'NN')]"
            ]
          },
          "metadata": {},
          "execution_count": 8
        },
        {
          "output_type": "stream",
          "name": "stderr",
          "text": [
            "/usr/local/lib/python3.7/dist-packages/ipykernel_launcher.py:8: DeprecationWarning: \n",
            "  Function evaluate() has been deprecated.  Use accuracy(gold)\n",
            "  instead.\n",
            "  \n"
          ]
        },
        {
          "output_type": "stream",
          "name": "stdout",
          "text": [
            "\n",
            " Perc of Correctly tagged tokens ->  13 %\n"
          ]
        }
      ]
    },
    {
      "cell_type": "markdown",
      "metadata": {
        "id": "_dwalOOZzgPP"
      },
      "source": [
        "Creating and evaluating lookup tagger with a range of sizes.\n",
        "(Read 4.3   The Lookup Tagger in https://www.nltk.org/book/ch05.html)\n",
        "\n",
        "---\n",
        "\n"
      ]
    },
    {
      "cell_type": "code",
      "metadata": {
        "id": "YceesuV9_YTR",
        "outputId": "8803f294-7d86-40af-93fa-a9de547dafec",
        "colab": {
          "base_uri": "https://localhost:8080/",
          "height": 402
        }
      },
      "source": [
        "import nltk\n",
        "from nltk.corpus import brown\n",
        "words_by_freq = list(nltk.FreqDist(brown.words(categories='news')))\n",
        "print (words_by_freq)\n",
        "def performance(cfd, wordlist):\n",
        "    lt = dict((word, cfd[word].max()) for word in wordlist)\n",
        "    baseline_tagger = nltk.UnigramTagger(model=lt, backoff=nltk.DefaultTagger('NN'))\n",
        "    return baseline_tagger.evaluate(brown.tagged_sents(categories='news'))\n",
        "def display():\n",
        "    import pylab\n",
        "    words_by_freq = list(nltk.FreqDist(brown.words(categories='news')))\n",
        "    cfd = nltk.ConditionalFreqDist(brown.tagged_words(categories='news'))\n",
        "    sizes = 2 ** pylab.arange(15)\n",
        "    perfs = [performance(cfd, words_by_freq[:size]) for size in sizes]\n",
        "    pylab.plot(sizes, perfs, '-bo')\n",
        "    pylab.title('Lookup Tagger Performance with Varying Model Size')\n",
        "    pylab.xlabel('Model Size')\n",
        "    pylab.ylabel('Performance')\n",
        "    pylab.show()\n",
        "\n",
        "display()"
      ],
      "execution_count": null,
      "outputs": [
        {
          "output_type": "stream",
          "name": "stdout",
          "text": [
            "['the', ',', '.', 'of', 'and', 'to', 'a', 'in', 'for', 'The', 'that', '``', 'is', 'was', \"''\", 'on', 'at', 'with', 'be', 'by', 'as', 'he', 'said', 'his', 'will', 'it', 'from', 'are', ';', 'an', 'has', '--', 'had', 'who', 'have', 'not', 'Mrs.', 'were', 'this', 'which', 'would', 'their', 'been', 'they', 'He', 'one', 'I', 'but', 'its', 'or', ')', 'more', 'Mr.', '(', 'up', 'all', 'out', 'last', 'two', 'other', ':', 'new', 'first', 'than', 'year', 'A', 'about', 'there', 'when', 'home', 'after', 'In', 'also', 'It', 'over', 'into', 'no', 'But', 'made', 'only', 'her', 'years', 'time', 'three', 'them', 'some', 'can', 'him', 'New', 'any', 'state', '?', 'President', 'before', 'week', 'could', 'under', 'against', 'we', 'what', 'now', 'most', 'if', 'off', 'four', 'man', 'House', 'such', 'This', 'back', 'members', 'so', 'here', 'American', 'may', 'program', 'work', 'get', 'Kennedy', 'John', 'school', 'night', 'did', 'State', 'do', 'They', 'meeting', 'since', 'per', 'each', 'day', 'many', 'these', 'should', 'where', 'There', 'U.S.', 'those', 'United', 'both', 'being', 'then', 'yesterday', 'our', 'you', 'during', 'through', 'Monday', 'tax', 'told', 'president', 'even', 'administration', 'people', 'high', 'York', 'today', 'government', 'cent', 'public', 'sales', 'Sunday', 'set', 'because', 'game', 'must', 'good', 'down', 'car', 'city', 'Dallas', 'much', 'without', 'take', 'Texas', 'Washington', 'took', '1', 'system', 'board', 'between', 'men', 'Jr.', 'like', \"'\", 'Miss', 'Mantle', 'plan', 'million', 'got', 'bill', 'children', 'jury', 'City', 'way', 'well', 'Tuesday', 'make', 'while', 'season', 'J.', '1961', 'just', 'Dr.', 'University', 'business', 'St.', 'months', 'she', 'company', 'Palmer', 'Friday', 'held', 'When', 'go', 'special', 'five', 'own', 'family', 'came', 'play', 'next', 'expected', 'White', 'National', 'And', 'problem', 'long', 'local', 'left', 'another', 'area', 'S.', 'election', 'law', 'might', 'committee', 'W.', 'see', 'days', 'A.', 'group', 'big', 'never', 'States', 'Laos', 'early', 'At', '!', '1960', 'p.m.', 'Committee', 'announced', 'James', 'session', 'however', 'given', 'Democratic', 'too', 'went', 'schools', 'called', '10', 'service', 'how', 'world', 'William', 'As', 'March', 'still', 'third', 'case', 'ago', 'same', 'Maris', 'County', 'federal', 'wife', 'run', 'chairman', 'past', 'little', 'young', 'record', 'member', 'She', 'second', 'On', 'E.', 'top', 'asked', 'party', 'several', 'my', 'later', '&', 'along', 'began', 'hit', 'received', 'added', '2', 'very', 'pay', 'annual', 'right', 'team', 'Saturday', 'ball', 'interest', 'number', 'Senate', 'give', 'ever', 'C.', 'national', 'month', 'total', 'B.', 'education', 'need', 'firm', 'police', 'use', 'part', 'again', 'come', 'far', 'show', 'equipment', 'library', 'Congo', 'Player', 'laws', 'result', 'found', 'present', 'taken', 'director', 'issue', 'help', 'We', 'eight', 'few', 'around', 'military', 'great', 'industry', 'runs', 'end', 'best', 'general', 'money', 'court', 'His', 'bonds', 'If', 'One', 'North', 'foreign', 'me', 'start', 'center', 'late', 'club', 'Judge', 'possible', 'funds', 'major', 'Robert', 'vote', 'says', 'better', 'reported', 'Co.', 'staff', 'Soviet', 'countries', 'Communist', 'know', 'until', 'To', 'university', 'political', 'together', 'put', 'former', 'enough', 'meet', 'Richard', 'H.', 'small', 'That', 'think', 'open', 'May', 'Court', 'daughter', 'county', 'does', 'house', '4', 'project', 'higher', 'needed', 'For', 'Republican', 'Club', 'market', 'place', 'future', 'fact', 'L.', 'making', 'every', 'paid', 'aid', 'report', 'including', 'series', '3', 'large', 'F.', 'used', 'weeks', 'minutes', 'Khrushchev', 'Street', 'single', 'away', 'won', 'among', 'provide', 'office', 'head', 'earlier', 'D.', 'increase', 'done', 'support', 'After', 'real', 'persons', 'almost', 'decided', 'Bill', 'able', 'six', '20', 'field', 'conference', 'country', 'course', 'British', 'collection', 'upon', 'according', 'become', 'toward', 'old', 'George', 'League', 'final', 'effort', 'say', 'statement', 'international', 'labor', 'victory', 'Portland', 'dinner', 'Yankees', 'baseball', 'Catholic', 'son', 'M.', 'Wednesday', '8', 'plans', 'Charles', 'Hughes', 'Jones', 'School', 'San', 'West', 'hours', 'matter', 'states', 'going', 'leader', 'policy', 'gave', 'control', 'efforts', 'point', 'leaders', 'whose', 'U.', 'With', 'Bob', 'games', 'yards', 'Chicago', 'libraries', 'fire', 'Hospital', 'brought', 'resolution', 'Congress', 'himself', 'students', '12', 'community', 'trial', 'tomorrow', 'billion', 'Secretary', 'period', '1959', 'income', 'Thomas', 'Government', 'union', 'Smith', 'farm', 'stock', 'anti-trust', 'recent', 'act', 'Department', 'became', 'race', 'wanted', 'action', '18', 'Thursday', 'kind', 'April', 'attack', 'history', 'College', 'involved', 'line', 'war', 'started', '15', 'playing', 'machinery', 'Service', 'Belgians', 'Legislature', 'feel', 'prices', 'council', 'face', 'afternoon', '1958', 'order', 'probably', 'coming', 'question', 'R.', 'return', 'Frank', '30', 'problems', 'themselves', 'What', 'rather', 'East', 'hospital', 'individual', 'power', 'Hotel', 'private', 'Premier', 'played', 'shares', 'proposed', 'services', 'Association', 'costs', 'medical', 'Henry', 'Georgia', 'Sen.', 'whether', 'passed', 'P.', 'certain', 'means', 'companies', 'amount', \"I'm\", 'All', 'college', 'least', 'cases', 'defense', 'Some', 'indicated', 'care', 'nine', 'cut', 'lines', '11', 'rule', 'cars', 'once', 'half', 'headquarters', 'complete', 'Joseph', 'officers', 'times', 'town', 'hand', 'necessary', 'full', 'bring', '7', 'G.', 'front', 'reason', 'Jack', 'opening', 'plane', 'turn', 'Her', 'Kowalski', 'primary', 'evidence', 'charge', 'effect', 'Mayor', 'attorney', 'candidate', 'getting', 'campaign', 'similar', 'Board', 'saw', 'led', 'attend', 'district', 'Two', 'fine', '22', 'development', 'Island', 'served', 'Martin', 'room', 'social', 'already', 'Both', 'student', 'hour', 'demand', 'Council', 'forces', 'South', 'situation', '25', 'David', 'Federal', 'traffic', 'position', 'life', 'Jim', 'Moscow', 'manager', 'Avenue', 'Then', 'tried', 'drive', 'boy', 'a.m.', 'Church', 'straight', 'hole', 'look', 'white', 'Christian', 'further', 'find', 'date', 'property', '13', 'official', 'relations', 'near', 'church', 'seven', 'designed', '6', 'sent', 'bills', 'taking', 'kept', 'High', 'working', 'organization', 'side', 'stand', 'within', 'want', 'spirit', 'job', 'move', 'form', 'religious', 'across', 'average', 'turned', 'Mitchell', 'women', 'share', 'failed', 'feet', 'Last', \"don't\", 'association', 'products', 'Robinson', 'lead', 'cost', 'effective', 'receive', 'Jan.', 'pass', 'operation', 'agreed', 'Republicans', 'worth', 'test', 'battle', 'research', 'event', 'Education', \"didn't\", 'soon', 'Austin', 'dollars', 'merely', 'firms', 'cannot', 'declared', 'Houston', 'live', 'heard', 'District', 'felt', 'Other', 'others', 'building', 'workers', 'thing', 'spring', 'economic', 'Eisenhower', 'Among', 'Providence', 'basis', 'Central', 'name', 'presented', 'charter', '100', 'Park', 'central', 'talk', 'June', 'Day', 'stage', 'example', 'above', 'reached', 'continued', 'Kansas', 'Oct.', 'thought', 'short', 'Francisco', 'golf', 'mother', 'First', 'faculty', 'Fulton', 'Atlanta', 'often', 'generally', 'additional', 'legislation', 'Williams', 'Aj', 'construction', 'word', 'something', 'shot', 'scheduled', 'fight', 'hearing', '17', 'estimated', 'tell', 'proposal', 'Louis', 'needs', 'football', 'serious', 'limited', 'July', 'summer', 'health', 'base', 'following', \"can't\", 'housing', 'floor', 'particularly', 'General', 'nuclear', 'Union', 'civil', 'call', 'level', 'Mary', 'parties', 'league', 'value', 'nearly', 'land', 'Wagner', 'conspiracy', 'agreement', 'round', 'Philadelphia', 'AP', 'father', 'Los', 'modern', '5', 'hits', 'Ohio', '14', 'So', 'Arnold', 'nor', 'guests', 'struck', 'Emory', 'coal', 'term', 'grand', 'welfare', 'counties', 'fees', 'couple', 'strong', 'governor', 'Sam', 'study', 'read', 'Davis', 'calls', 'measure', 'current', 'Howard', 'population', \"year's\", 'your', 'honor', 'television', 'returned', 'admitted', '9', 'security', 'grants', 'payroll', 'daily', 'Each', 'interested', 'Cuba', 'Morton', 'Boston', 'groups', 'America', 'nation', 'important', 'sense', 'having', 'theater', 'developed', 'sold', 'luncheon', 'really', 'explained', 'running', 'followed', 'fall', 'am', 'Thompson', \"It's\", 'Nations', 'N.', 'decision', 'Hill', 'headed', 'revenues', 'Warren', 'churches', 'International', 'Rev.', 'verdict', 'winning', 'news', 'coach', 'condition', 'seem', 'book', 'Pittsburgh', 'tournament', 'husband', 'food', 'unions', 'secrets', 'art', 'Stein', 'price', 'U.N.', 'charged', 'reports', 'voters', 'follow', 'However', 'weekend', 'officials', 'audience', 'areas', 'ready', 'road', 'fund', 'department', 'apparently', 'While', 'worked', 'seek', 'Many', 'seemed', 'books', 'personal', 'Lawrence', 'El', 'hear', 'letters', 'believe', 'although', 'passing', 'chief', 'lost', 'spent', 'teaching', 'junior', 'close', 'addition', 'knew', 'address', \"it's\", 'ruled', 'Americans', 'programs', 'caused', 'More', 'pressure', 'immediate', 'concerned', 'walk', 'clear', 'prevent', 'hardly', 'trade', 'nations', 'favor', 'growth', 'executive', 'opinion', 'us', 'neither', 'movement', 'using', 'considered', 'try', 'shown', 'lives', 'Their', 'view', 'reasons', 'Air', 'Of', 'include', 'Force', \"doesn't\", 'hands', 'contract', 'appeared', 'driving', 'Lee', 'society', 'Angeles', 'fourth', 'double', 'beat', 'players', 'finished', 'knee', 'happy', 'Mickey', 'award', 'evening', 'music', 'driven', 'arrested', 'August', 'strike', 'gin', 'concert', 'independence', 'personnel', 'urged', 'continue', 'previous', 'These', 'elected', 'age', 'Blue', 'bond', 'offered', 'veteran', 'leading', 'carry', 'despite', 'rules', 'bank', 'You', 'hard', 'plus', 'An', 'Feb.', 'information', 'water', 'De', 'required', 'immediately', 'joined', 'Corps', 'Army', 'color', 'secretary', '200', 'judge', 'build', \"President's\", '21', 'speed', 'agency', \"Kennedy's\", 'basic', 'whole', 'perhaps', 'Geneva', 'possibility', 'commission', 'free', 'score', 'Senator', 'clearly', 'negotiations', 'salary', 'financial', 'especially', 'known', 'vice', '60', 'hope', 'included', 'Now', 'either', 'Democrats', 'keep', 'green', 'opportunity', 'performance', 'key', 'seems', 'About', 'No', 'Orleans', 'Barnett', 'friends', 'though', 'loss', 'expansion', 'wide', 'owners', 'entire', 'bargaining', 'army', 'Old', 'Miami', 'dropped', 'moved', 'pitching', 'Moritz', 'Denver', '19', 'marriage', 'recently', 'bus', 'makes', 'Center', 'throughout', 'employees', 'wages', 'Russia', 'Havana', 'Hillsboro', 'Family', 'Congolese', 'textile', 'greater', 'less', 'available', 'fair', 'listed', 'career', 'attended', 'largest', 'candidates', 'hold', 'unit', 'Gov.', 'assistant', 'begin', 'let', 'roads', 'yet', 'Rep.', 'itself', 'November', 'increased', 'Harry', 'death', 'post', 'stocks', 'introduced', 'budget', 'Joe', 'adopted', 'Coast', 'taxes', 'Paris', 'gas', 'ended', 'methods', '24', 'Junior', 'request', 'outside', 'actually', 'facilities', 'knowledge', 'change', 'step', 'changes', 'track', 'leadership', 'points', 'treated', 'ground', 'hopes', 'Nixon', 'Southeast', 'prepared', 'Labor', 'Hawksley', 'advantage', 'status', 'vital', 'things', 'Gen.', 'placed', 'retired', 'product', 'manufacturers', 'goal', 'station', 'sell', 'Administration', 'ways', 'ahead', 'Ave.', 'Although', 'division', 'win', 'Southern', 'honored', '16', 'feeling', 'hotel', 'successful', 'professional', 'jobs', 'Company', 'approach', 'charges', 'account', 'apartment', 'formerly', 'bomb', 'graduate', 'Ralph', 'born', 'sixth', 'Beach', 'Stadium', 'champion', 'broke', 'Sox', 'film', 'trip', 'anything', 'Mays', 'Johnny', 'Skorich', 'California', 'Masters', 'buy', 'miles', 'furniture', 'February', 'operations', 'died', 'troops', 'institutions', 'French', 'Huff', 'cotton', 'dealers', 'academic', 'Lumumba', 'turnpikes', 'investigation', 'recommended', 'combined', 'child', 'homes', 'purpose', 'Four', 'employes', 'Police', 'Party', 'voted', 'sign', 'starts', 'rural', 'opened', 'offer', 'pointed', 'opposed', 'teacher', 'hot', 'superintendent', 'principal', 'lawyer', 'economy', 'millions', 'Sherman', 'Paso', 'why', 'informed', 'planning', 'estate', 'proposals', 'except', 'maximum', 'senior', 'person', 'degree', 'named', 'Rhode', 'Massachusetts', 'living', 'defendants', 'statements', 'grant', 'Berlin', 'Chief', 'questioned', 'reading', 'railroad', 'Capitol', 'stay', 'Wayne', 'behind', 'arms', 'greatest', 'Communists', 'table', 'instead', 'disclosed', 'anyone', 'responsibility', 'September', 'list', 'variety', 'caught', 'comes', 'minor', 'heavy', 'common', 'issues', 'plant', 'looks', 'faced', 'reference', 'announcement', 'spend', 'My', 'training', 'planned', \"I'll\", 'T.', 'touch', 'beyond', 'identified', 'Rules', 'colleges', 'biggest', 'panel', 'due', 'Britain', 'From', 'Also', 'severe', 'extra', 'spending', 'recovery', 'Samuel', 'rates', 'schedule', 'ran', 'World', 'reception', 'Al', 'Norman', 'ability', 'homer', 'entered', 'fashion', 'pair', 'break', 'signed', 'ten', 'halfback', 'injury', \"I've\", 'boys', 'Meek', 'Ramsey', 'ordered', 'Bears', 'Ann', 'Giants', '23', 'Shea', 'Roger', 'words', \"that's\", 'bride', 'wedding', 'activities', 'girl', 'Garson', 'Albert', 'orchestra', 'Vienna', 'class', 'designs', 'Russian', 'missile', 'Hengesbach', 'consultant', 'collective', 'investment', 'Fiedler', 'payments', 'Holmes', 'conducted', 'Only', 'size', 'legislators', 'believes', 'reduce', 'policies', 'steps', 'assistance', 'appointment', 'married', 'Aug.', 'Chairman', 'obtain', 'crowd', 'allowed', 'ballot', 'approved', 'traditional', 'issued', 'ones', 'rejected', 'constitutional', 'provided', 'directed', 'trouble', 'telephone', 'approval', 'bankers', 'Under', 'questions', 'representing', 'opposition', 'establish', 'Harris', 'authority', 'accept', 'license', 'suggested', 'legislative', 'Fort', 'cover', 'benefit', 'subject', 'Oklahoma', 'O.', 'blue', 'ADC', 'forced', 'mean', 'whom', 'spokesman', 'quite', 'raised', 'alone', 'systems', 'contributions', 'Those', 'Negro', 'Foreign', 'dramatic', 'met', 'attempt', 'Africa', 'Even', 'mind', 'achievement', 'different', 'difficult', 'attending', 'errors', 'gain', 'rate', 'Attorney', 'section', 'air', 'wrote', 'enterprise', 'fellow', 'gone', 'nothing', 'dead', 'Jersey', 'transportation', 'saying', 'managers', 'answer', 'January', 'October', 'units', 'bid', 'trying', 'talks', 'works', 'accused', 'families', 'agencies', 'carried', '1954', 'strength', 'completed', 'affairs', 'officer', '41', 'December', 'Field', 'block', 'records', 'largely', 'remained', 'Hemphill', 'morning', 'raise', 'Virginia', 'Corp.', 'figure', 'Barnes', 'God', 'light', 'Illinois', 'Fla.', 'Orioles', 'Dick', 'contest', 'ninth', 'fifth', 'Hansen', 'Baltimore', 'flight', 'gets', 'Dave', 'Mills', 'mark', 'Franklin', 'Place', 'practice', 'lot', 'delivered', 'walked', 'Don', \"world's\", 'Willie', 'hitting', 'strokes', 'fell', 'brother', 'winter', 'publicity', 'Phoenix', 'Jane', 'favorite', 'rest', 'closed', 'dancing', 'Calif.', 'Alfred', 'Week', 'exactly', 'sale', 'Anderson', 'Taylor', 'snow', 'supplies', 'German', 'highest', 'Av.', 'youth', 'institution', 'acres', 'competition', 'Foods', 'production', 'province', 'gallery', 'summit', 'Belgian', 'toll-road', 'manner', 'Allen', \"Georgia's\", 'studied', 'commented', 'practices', 'seen', 'none', 'distribution', 'serve', 'takes', 'establishment', 'prison', 'filed', 'Ala.', 'force', 'voting', 'highway', 'Before', 'likely', '$100', 'learned', 'source', 'authorities', 'expense', 'technical', 'ask', 'Commerce', 'formally', 'votes', 'armed', 'bit', 'ordinary', 'witnesses', 'produce', 'customers', 'argued', 'debate', 'Red', 'pro', 'willing', 'acts', 'Another', 'fee', 'Texans', '65', 'idea', 'Most', 'paying', 'La', 'learning', 'teachers', 'earned', 'employment', 'conflict', 'attention', 'press', 'advisers', 'doing', 'Nov.', 'Karns', '50', 'Morris', 'ward', '9th', '70', 'message', 'rise', 'payment', 'noted', 'modest', 'rising', 'matching', \"children's\", 'tonight', 'connection', 'nature', 'climate', 'NATO', 'somewhat', 'atomic', 'balance', 'hoped', 'always', 'danger', 'speech', 'tremendous', 'apparent', 'setting', 'Viet', 'Nam', 'raising', 'coalition', 'Castro', 'Latin', 'conditions', 'thus', 'Asia', 'fighting', 'Prince', 'supported', 'recognized', 'doubled', 'full-time', 'Raymond', 'CD', \"state's\", 'handed', 'letter', 'views', 'concern', 'chance', 'thousands', 'Johnston', 'Martinelli', 'Country', \"he's\", 'machines', 'Commissioner', 'established', 'looking', 'truth', 'partner', 'stop', 'terms', 'driver', 'Public', 'low', 'usually', 'quick', 'Act', 'science', 'corps', 'Western', 'beginning', 'joint', 'native', 'Pennsylvania', 'parade', 'War', 'hero', 'admission', 'Mississippi', 'throw', 'picture', 'cash', 'expenses', 'Inc.', 'Continental', 'houses', 'dog', 'accident', 'corporation', 'builders', 'suffered', 'Memorial', 'threat', 'join', 'By', 'helping', 'Salem', 'Dec.', 'delegates', 'consecutive', 'exhibition', 'deadlock', 'deep', 'batting', 'inning', 'fast', 'defensive', 'champions', 'Just', 'pretty', 'Garden', '1956', '26', '1957', 'Rice', 'bases', 'obvious', 'Ray', 'fly', 'Hodges', 'TV', 'Cincinnati', 'Van', 'Pirates', 'Award', 'I.', 'Patricia', 'Long', 'below', 'par', 'happened', 'Yet', 'stroke', 'therefore', 'Harvey', \"isn't\", 'Benington', 'talking', \"Ruth's\", 'Joan', 'Lake', 'Peter', 'entertainment', 'talent', 'London', 'streets', 'tour', 'Francis', 'black', 'wants', 'prospects', 'shop', 'Hills', 'Drexel', 'Anne', 'chose', 'north', 'Simpkins', 'testified', 'selling', 'advanced', 'Pohl', 'reach', 'Hall', 'processing', 'Achievement', 'Cranston', 'bought', 'Beverly', 'Fund', 'Society', 'closely', 'earnings', 'investors', 'gains', 'improvement', 'orders', 'France', 'simply', 'pieces', 'Library', 'Communism', 'ballet', 'Nassau', 'Grand', 'produced', 'Executive', 'thanks', 'achieve', 'recommendations', 'citizens', 'actions', 'appointed', 'management', 'jail', 'permit', 'suit', 'petition', 'Sept.', 'newly', 'petitions', 'names', 'Highway', 'gubernatorial', 'visit', 'mention', 'courts', 'sought', 'fully', 'sessions', 'congressional', 'Tom', 'drop', 'doubt', '31', 'treasurer', 'confidence', 'reduced', 'capital', 'V.', 'expects', 'favorable', 'extending', 'cities', 'quickly', 'choice', 'sponsored', 'Chapman', 'poor', 'English', 'Clark', 'range', 'volume', 'deal', 'arrest', 'bench', 'true', 'radio', 'decisions', 'obtained', 'ruling', 'Wexler', 'sitting', '35', 'retirement', 'tied', 'dental', 'boost', 'starting', 'parts', 'patient', 'nursing', '300', 'formula', \"nation's\", 'direct', 'reaction', 'Rayburn', 'troubles', 'prove', 'positions', 'discussed', 'closer', 'Dean', 'mood', 'affair', 'learn', 'completely', 'Lao', 'de', 'critical', 'moving', 'Detroit', 'feels', 'reply', 'direction', 'neighbors', 'Royal', 'certainly', 'factor', 'Arkansas', 'encouraging', 'trend', 'residents', 'Fire', 'apply', 'trucks', 'frequently', 'consider', 'Governor', 'Grant', 'review', 'Socialist', 'resources', 'original', 'philosophy', 'speaking', 'cited', 'Local', 'Walter', 'Young', 'cocktail', 'stopped', 'proud', 'challenge', 'stands', 'twice', 'intentions', 'seeking', 'nomination', 'chosen', 'purchase', 'Edward', 'experience', 'Forest', 'popular', \"We'll\", 'Green', '1950', 'rapidly', 'unless', 'presentation', 'Paul', 'mates', 'regarded', 'ticket', 'Buckley', 'announce', 'worse', 'provides', 'progress', 'loans', 'interview', 'latter', 'advertising', 'weather', 'ceremonies', 'ride', 'historic', 'buildings', 'famous', 'watch', 'located', '40', 'scene', 'currently', 'La.', 'integration', 'Since', \"city's\", 'Donald', 'claim', 'Douglas', 'Pratt', 'hotels', 'Leonard', 'drew', 'Eugene', 'probation', 'apartments', 'knocked', 'wall', 'emergency', 'created', 'Multnomah', 'Germany', 'sure', 'No.', 'organized', 'belief', 'centers', 'Powell', 'Birds', 'stole', 'singled', 'proved', 'Jerry', 'balls', 'surprise', 'Brown', 'Walker', 'Casey', 'Stengel', 'Yankee', 'bat', 'substantial', 'bright', 'Cleveland', 'Columbus', 'woman', 'Helen', 'Football', 'plays', 'Time', 'Cotton', 'kicked', 'Coach', 'kids', 'stayed', 'Kelsey', '45', 'passes', 'resulted', 'Railroad', 'conductor', 'cold', 'Liston', 'Carl', 'player', 'argument', 'suddenly', 'Room', \"Mantle's\", 'Charlie', 'sports', 'Ruth', 'dance', 'amateur', 'Open', \"Palmer's\", 'knows', 'potato', 'ending', 'honors', 'excellent', 'rare', 'body', '1927', 'Wendell', 'Christmas', 'sister', 'east', 'cultural', 'Hong', 'Kong', 'gown', 'Arts', 'Italian', 'Europe', 'entertain', 'movie', 'Stock', 'mentioned', 'Music', 'Santa', 'Marr', 'concerts', 'relatively', 'Baker', 'wore', 'door', 'Wall', 'Clayton', 'dress', 'Annapolis', 'detectives', 'bedroom', 'compared', 'submarine', 'Dreadnought', 'built', 'underwater', 'narcotics', 'Evanston', 'girls', 'collected', 'McClellan', 'existence', 'theaters', 'create', 'band', 'Wilson', 'appeals', '69', 'valued', \"company's\", 'crew', 'Buchheister', 'oil', 'Allied', 'weapons', 'Leavitt', 'yield', 'chip', 'Gin', 'larger', 'complex', 'lower', 'debentures', 'designer', 'Orchestra', 'adequate', 'Kern', 'convinced', 'Gallery', 'participation', 'Colmer', 'Augusta', 'putt', 'Turnpike', 'exports', 'Superior', 'governments', 'enabling', 'granted', 'taxpayers', 'procedures', 'servants', 'eliminate', 'employed', 'pension', 'Tax', 'Grady', 'Health', 'Hartsfield', 'Berry', 'birth', 'Pelham', 'goes', 'encouragement', 'enter', '1962', 'GOP', 'entering', 'signatures', 'Despite', 'courses', 'resigned', 'coordinator', 'shortly', 'heavily', 'notice', 'aside', 'amendment', 'allow', 'Jackson', 'Barber', 'asking', '13th', 'controversy', 'defeated', 'Carey', 'quiet', 'phone', 'During', 'Daniel', 'considerably', 'Revenue', 'conservative', 'fiscal', 'destroy', 'failure', 'gift', 'denied', 'Parkhouse', 'deaf', 'require', 'residential', 'oppose', 'creation', 'utility', 'Commission', 'representatives', 'poll', 'places', 'loan', 'educational', 'credit', 'permitted', 'teach', 'holds', 'Institute', 'basketball', 'Chester', 'Cook', 'causes', 'unity', 'projects', 'Several', 'Bellows', 'attorneys', 'aspects', 'highly', 'replied', 'talked', 'Mass.', 'Asked', 'demands', 'legal', 'individuals', 'judges', 'precinct', 'Actually', 'aged', 'requests', 'expand', 'hill', 'carries', 'allowing', 'visiting', 'wish', 'extended', 'essential', 'sufficient', 'handle', 'qualified', 'based', 'capacity', 'existing', 'dollar', 'criticized', 'Ill.', 'persuade', 'voluntary', 'Tex.', 'administrator', '1953', 'Oslo', 'understanding', 'meetings', 'route', 'atmosphere', 'allies', 'circumstances', 'explosion', 'bitter', 'advance', 'heart', 'various', 'firmly', 'impression', 'detailed', 'submarines', 'lack', 'maintenance', 'laid', 'moves', 'neutral', 'cease-fire', 'showing', 'How', 'wisdom', 'responsible', 'regime', 'diplomatic', 'Until', 'Cuban', 'changed', 'response', 'emphasis', 'fleet', 'pro-Western', 'Souvanna', 'appear', 'ideas', 'gradually', 'Relations', 'juvenile', 'Citizens', 'cooperation', 'else', 'Defense', 'rescue', 'Station', 'hundred', 'Notte', 'released', 'eye', 'operate', 'Reama', 'expert', 'type', '1955', 'industrial', 'Group', 'posts', 'Our', 'model', 'ordinance', 'Plains', 'remains', 'wrong', 'understand', 'judgment', 'taste', 'Sandman', 'majority', 'safety', 'commissioner', 'FBI', 'filled', 'co-operative', 'corner', \"you'll\", 'shall', 'representative', 'leaving', 'Bank', \"women's\", 'Brooklyn', 'Bronx', 'usual', 'declined', 'scientist', 'sharply', 'parochial', 'Peace', 'Gordon', 'Six', 'Why', 'explains', 'remarked', 'twenty', 'role', 'India', 'task', 'Minister', 'pace', 'factors', 'promotion', 'hundreds', 'Dwight', 'leave', 'street', 'Within', 'presidential', 'spectators', 'Square', 'Andrew', 'Division', 'operates', 'enjoy', 'decade', 'eyes', 'Delta', 'equally', 'flow', 'theme', 'segregation', 'shortage', 'losing', 'prospect', 'fired', 'Berger', 'directors', '$500', \"won't\", 'percent', 'rooms', '$1', 'Home', 'flat', 'killed', 'K.', 'agreements', 'Eastwick', 'master', 'row', 'UPI', 'injured', 'teamsters', 'blast', 'containing', 'threatening', 'stated', '29', 'practicing', 'doors', 'goods', 'Beaverton', 'workshop', 'Temple', 'Terry', 'Oak', 'Barbara', 'Assemblies', 'Bible', 'compromise', 'Christ', 'Brandt', 'stressed', 'England', 'mature', 'volunteers', 'pennant', 'wild', 'southpaw', 'plate', 'doubles', 'Brooks', 'bounced', 'Florida', 'pounds', 'arrived', '$10,000', \"That's\", 'tries', 'barely', 'net', 'timing', 'scored', 'rushing', 'touchdown', 'SMU', \"week's\", 'contributed', 'lay', 'Maryland', 'Gene', 'Tech', 'Louisiana', 'giving', 'showed', 'solid', 'mad', 'quoted', 'Spahn', '400', 'Eagles', 'Shaw', '1949', 'ceremony', 'championship', 'Ben', 'outstanding', 'Bernard', 'Dodgers', 'Ford', 'owned', 'golden', 'prize', 'fairway', 'dozen', 'picked', 'strings', 'supply', 'teams', 'Hemus', 'Larry', 'Hartweger', 'trio', 'Notre', 'Dame', 'overcome', 'anywhere', 'tie', 'agree', \"they're\", 'beautiful', 'kid', 'spread', 'Monroe', 'arrive', 'baby', 'Here', 'supper', 'Rome', 'costumes', 'Ariz.', 'Mason', 'wear', 'confident', 'Dolce', 'Vita', 'Members', 'Parker', 'staged', 'Social', '80', 'written', 'tickets', 'simple', 'offers', 'motel', 'pink', 'Presbyterian', 'seated', 'Meredith', 'Thrift', 'paintings', 'artists', 'levels', 'Others', 'downtown', 'Lady', 'restaurant', 'Eleanor', 'panels', 'cuts', 'attempted', 'automatic', 'Arundel', 'burns', 'occurred', 'Jenkins', 'machine', 'Werner', 'kitchen', 'Lloyd', 'enjoyed', 'manufacturing', 'predicted', 'ring', 'camera', 'bail', 'ship', 'watched', 'design', 'Electric', 'indictment', 'agent', 'Patrolman', 'Fred', 'Funeral', 'Road', 'patrol', 'conviction', 'Traffic', 'note', 'Ambassador', 'tax-exempt', 'excellence', 'moral', 'mission', 'pole', 'NE', 'COAHR', 'Black', 'Survivors', '68', 'daughters', 'Slate', 'guest', 'Scottish', 'Rite', 'Larson', 'Stephen', 'plants', 'finding', 'membership', 'growing', 'Neither', 'formal', 'farmers', 'otherwise', 'offering', 'combination', 'Second', \"today's\", 'corn', 'manufacturer', 'standard', 'exchange', 'convertible', 'rose', 'outlook', 'buying', 'taxed', 'Greer', 'Symphony', 'colony', 'contemporary', 'rich', 'puppets', 'Ballet', 'Hollywood', 'becomes', 'Brevard', 'plain', 'owns', 'conferences', 'President-elect', 'liberals', 'holes', 'Coe', 'Cerv', 'Frankie', 'Stevenson', 'Kasavubu', 'Tshombe', 'Katanga', 'Beardens', 'turnpike', 'textiles', \"Atlanta's\", 'widespread', 'inadequate', 'improving', 'operated', 'accepted', 'offices', 'experienced', 'clerical', 'automobile', 'items', 'exception', 'jurors', 'realize', 'compensation', 'operating', 'keeping', 'Office', \"mayor's\", 'occupation', '71', \"governor's\", 'speaker', 'precincts', 'warning', 'wait', 'alternative', 'Five', 'resignation', 'wind', 'urban', 'Vandiver', 'priority', 'Meanwhile', 'contracts', 'Authority', 'Constitution', 'consulted', 'stood', 'liquor', 'marked', 'anonymous', 'midnight', 'reportedly', 'promised', 'recommend', 'termed', 'anticipated', 'permits', 'banks', 'insurance', 'impossible', 'obligations', 'sponsor', 'Cox', 'complained', 'Senators', 'absorbed', 'saving', 'Antonio', 'faces', 'finally', 'committees', 'districts', 'previously', 'Without', 'senators', 'Gulf', 'eliminating', 'requirement', 'penalty', 'Research', 'costly', 'selected', 'Supreme', 'delay', 'two-thirds', \"couldn't\", 'Cotten', 'insisted', 'providing', 'mostly', 'Collins', 'serving', 'Grover', 'remainder', 'Technology', 'captain', 'associate', 'Denton', 'discrimination', 'ribbon', 'load', 'breakdown', 'monthly', 'parents', 'Criminal', 'viewed', 'policemen', 'client', 'separate', 'receiving', 'stolen', 'involving', 'pushed', 'crisis', 'significance', 'unable', '23d', 'constituted', 'process', '18th', 'precedent', 'scholarships', '$5,000', 'benefits', 'needy', 'nevertheless', 'requirements', 'medicine', 'freedom', '47', 'Moreover', 'afford', 'initial', 'improve', 'bureau', 'sound', 'Weaver', 'cabinet', 'Atlantic', 'Assembly', 'march', 'events', 'inside', 'core', 'eventually', 'European', 'waters', 'regard', 'main', 'explain', 'attacks', 'count', 'Its', 'reforms', 'invasion', 'bloc', 'specific', 'victories', 'Kremlin', 'looked', 'naval', 'Pathet', 'huge', 'losses', 'risk', 'unlike', 'check', 'communities', 'Youth', 'locally', 'expressed', 'believed', 'eligible', 'vehicle', 'assembly', 'Such', 'regular', 'clerk', 'enforcement', 'advised', 'Bay', 'types', 'stores', 'compete', '1910', 'gross', 'increases', 'everything', 'suggestion', 'difference', 'handled', \"town's\", 'municipal', 'meaning', 'sewer', 'guilty', 'Town', 'authorized', 'offense', 'spoke', 'Westfield', '500', \"Women's\", 'intention', 'beating', 'launched', 'bad', 'desire', 'Women', 'Sheets', 'Appeals', 'description', 'Conservation', 'reduction', 'Section', 'debut', 'Inn', \"you're\", \"we're\", \"we'll\", 'liberal', '$60', 'preserve', 'dynamic', 'retiring', 'remember', 'Controller', 'Arthur', 'weakness', 'visited', \"leader's\", 'discussion', 'acceptance', 'pick', 'reporters', 'deny', 'replace', 'definite', 'politicians', 'uncertain', 'depends', 'Democrat', 'encounter', 'Three', 'universities', 'goals', 'worry', 'pays', 'technicians', \"country's\", 'royal', 'Pfaff', 'Burke', '1946', 'seats', 'mass', 'impressive', 'avenue', \"government's\", 'easy', '1920', 'square', 'valuable', 'Navy', 'Miss.', 'predict', 'Congressman', 'badly', 'divided', 'peace', 'dedication', 'Indeed', '$28', 'sort', 'interesting', 'constant', 'Any', 'depending', 'bids', 'ranged', 'engineering', 'Director', 'sue', 'bankruptcy', '75', 'Goodis', '$2', 'behalf', 'widow', 'pleaded', 'tract', 'parks', 'feature', 'Reynolds', 'developing', 'length', 'Mo.', 'flash', 'sons', 'younger', 'flies', 'explosive', 'target', 'active', 'threatened', 'Vincent', 'temporary', 'structure', 'fear', 'waiting', 'send', 'everybody', 'faith', 'somebody', 'Circuit', 'Oregon', 'Grove', 'Lodge', 'Theodore', 'stronger', 'includes', 'motions', 'striking', 'Over', 'Oriole', \"A's\", 'Hyde', 'Tuttle', 'Throneberry', 'glove', 'pitchers', 'Hartman', 'Ed', 'chores', 'Palm', 'purchased', 'Milwaukee', 'triumph', 'Lumpe', 'Jackie', 'Gentile', 'threw', 'triple', 'streak', 'drove', '86', 'weight', 'camp', 'carrying', 'improved', 'Sheldon', 'rookie', 'N.Y.', 'Art', \"Sunday's\", 'Manager', 'coaches', 'damage', 'wing', 'Clint', 'seventh', 'nearing', 'Self', 'Big', 'slender', 'nearby', 'Bobby', 'quarterback', 'guard', 'favored', 'leg', 'missed', 'Once', 'Longhorns', '56', \"he'll\", 'Academy', 'particular', 'Nelson', 'Gannon', 'loose', 'spotted', \"game's\", 'split', 'treatment', 'M', 'Because', 'Hank', 'luck', 'Stram', 'star', 'movies', 'tough', 'tests', 'Charley', '27', 'McAuliffe', 'Phil', 'Indians', 'infield', 'spectacular', \"Gardner's\", 'Moore', 'Roy', 'sacrifice', 'walking', 'Jensen', '46', 'train', 'newsmen', 'Sports', 'Ritchie', 'remarkable', 'Vernon', 'clubhouse', \"Willie's\", 'lifetime', 'Post', 'Series', 'Cardinals', 'accomplished', 'selection', 'awards', 'Baseball', 'Babe', 'writers', 'Ted', 'winner', 'Year', 'human', 'shots', 'humor', 'tee', 'thereby', 'breaking', 'Danny', 'jumped', \"club's\", 'Nordmann', 'conversation', 'respect', 'shared', 'DiMaggio', 'C', 'quietly', 'Leo', \"bride's\", 'occasion', 'McCormick', 'Stevens', 'Press', 'success', 'Geraghty', 'Armed', 'tea', 'Byron', 'engagement', 'Gary', 'Ball', 'mail', 'Back', 'People', 'uniform', 'awarded', 'African', 'Tarzan', 'import', 'gala', 'Chase', 'Shoup', 'Colorado', 'dining', 'Eastern', 'Security', 'Guests', 'Milton', 'practical', 'covers', 'welcome', 'parole', 'forth', 'abroad', 'motels', 'comfort', 'beauty', 'storm', 'pools', 'gold', 'satin', 'chairs', 'Methodist', 'lace', 'Shop', 'Philmont', 'festivities', 'display', 'bundle', 'convenience', 'arrangements', 'Stone', 'invitation', 'continuing', 'Book', 'entertained', 'son-in-law', 'Lynn', 'entertaining', 'Pa.', 'graduated', 'ballroom', 'chic', 'lay-offs', 'drastic', 'freight', 'victim', 'robbery', 'seriously', 'south', 'bodies', 'suits', 'summoned', 'Councilman', 'Schaefer', 'longer', 'improvements', 'resumed', 'brick', 'brothers', 'natural', 'Dodge', 'consumer', \"navy's\", 'sub', 'hull', 'Skipjack', 'devoted', 'roll', 'uncle', 'greatly', 'Sokol', 'convicted', 'witness', 'youths', 'bound', 'murder', 'appealed', 'Stickney', 'neighbor', 'settled', 'Services', 'Mile', 'Student', 'Kimmell', 'Murphy', 'thinking', 'appeal', 'Cubans', 'plot', 'standards', 'generous', 'applications', 'intellectual', 'Killingsworth', 'attacked', 'tribute', 'approximately', 'data', 'tape', 'moment', 'Huntley', 'Murray', 'Blvd.', 'Jimmy', 'profession', 'guidance', 'adult', 'drawn', 'Savings', '4-H', '8:30', 'shows', 'Jossy', 'Hutchins', 'blues', 'slightly', 'raw', 'collections', 'rear', 'represented', 'juror', 'spraying', 'loaded', 'crop', 'birds', 'Marin', 'installed', 'bomber', 'jet', 'pilot', 'strip', 'Glimco', \"Stein's\", 'Gregorio', 'lists', 'Investors', 'trading', 'acting', 'depression', 'remain', 'competitive', 'ginning', 'percentage', 'Headquarters', 'sells', 'maker', 'quarter', 'pattern', 'accompanied', 'Treasury', 'Peterson', 'Oil', 'B', 'dealer', 'Though', '5%', \"aren't\", 'applied', 'Neiman-Marcus', 'Mexico', 'wardrobe', 'appreciate', 'lively', 'serves', 'Truman', 'chicken', 'woods', 'fabrics', 'resist', 'tall', 'matched', 'grow', 'Sometimes', 'marriages', 'lamp', 'puppet', 'edge', \"America's\", 'Kings', 'drums', 'elsewhere', 'features', 'Lauderdale', 'librarian', 'Crusade', '7:30', 'aspect', 'style', 'toys', '16th', 'begun', 'Duncan', 'Phyfe', 'AID', 'museum', 'Baldrige', 'informal', 'principle', 'diocesan', 'identification', 'scholar', 'tenure', 'significant', 'anti-monopoly', 'employers', 'Said', \"Player's\", 'Rosburg', 'birdie', 'birdied', 'bogey', \"Maris's\", 'Airport', 'cents', 'Fabian', 'Charlayne', 'Kimpton', 'tribes', 'Patrice', '707', 'Rickards', 'Bearden', 'Crosby', 'toll', 'Fiat', 'Olivetti', 'librarians', 'irregularities', 'deserves', 'investigate', 'relative', 'purchasing', 'lacking', 'title', 'outgoing', 'orderly', 'Welfare', 'handling', 'fit', 'populous', 'airport', 'elaborate', 'pricing', 'deputies', 'matters', 'doctor', 'praised', 'farms', 'divorce', 'settlement', '74', 'lived', 'Rd.', 'succeeded', 'Ridge', 'enthusiastic', 'enthusiasm', 'rally', 'featured', 'Garland', 'determine', 'friendly', 'highways', 'revolving', '$10', 'allowances', 'outright', 'details', 'privilege', 'raises', 'endorse', 'delegation', 'congressmen', 'Miller', 'Bush', 'pistol', 'polls', 'veiled', 'violence', 'promise', 'sheriff', \"wasn't\", 'Price', 'abandoned', 'personally', 'rejection', 'automatically', 'passage', 'estimate', 'missing', 'enforced', 'Bankers', 'keynote', 'Scott', 'older', 'savings', 'Ratcliff', 'thinks', \"We're\", 'calendar', 'Lamar', 'gifts', 'site', 'revision', 'violation', 'sites', 'Marshall', 'fill', 'elections', 'justice', 'prefer', 'Affairs', 'senator', 'Roberts', 'printed', \"Texas'\", 'Worth', 'sending', 'Springs', 'semester', 'subjects', '150', 'Clarence', 'succeed', 'Science', 'Okla.', 'consulting', 'Must', 'solve', '100,000', 'depend', 'effectively', 'skills', 'underlying', 'guilt', 'Parsons', 'Yes', 'amounts', 'writing', 'Port', 'thru', 'latest', 'Acting', 'prosecution', 'illegal', 'rights', 'originally', '133', 'hearings', 'Goldberg', 'processes', '24th', '4th', 'whereby', 'covered', 'finance', '$37', 'imposed', 'illness', '180', 'excess', '$20', 'staggered', 'hospitals', 'Every', 'Apart', 'scholarship', 'equal', '$1,500', '1966', 'unspecified', 'experimental', 'elements', 'Congressional', 'Legislators', 'placing', 'Speaker', 'mighty', 'rank', 'Morse', 'Organization', 'wider', 'discussions', 'mutual', 'genuine', 'difficulties', 'facing', 'tension', 'explanation', 'Canada', 'alliance', \"Rusk's\", 'global', 'fewer', 'frame', \"States'\", 'East-West', 'deeper', 'Economic', 'method', 'strengthening', 'conventional', 'threshold', 'ally', 'fulfilled', 'acceptable', 'insist', 'participating', 'spokesmen', 'dealing', 'firmer', 'tougher', 'tendency', 'restrained', 'constantly', 'politics', 'Kentucky', 'concentrate', 'intervention', 'opinions', 'remove', 'ban', 'reviewed', 'encourage', 'reform', 'recipient', 'determination', 'Asian', 'useless', 'territory', 'performing', 'concluded', 'determined', 'Phouma', 'extraordinary', 'deeply', 'establishing', 'Juvenile', 'Crime', 'Advisory', 'specified', 'crime', 'assist', 'stems', '1948', 'Along', 'enemy', 'grounds', 'intervals', 'classes', 'Falls', 'copy', 'legislature', 'perform', 'expect', 'activity', 'limit', 'revenue', 'factory', 'shopping', 'independent', 'nationally', 'Rotary', 'wage', 'profit', 'engaged', 'counseling', 'happens', 'completes', 'arose', 'Bourcier', 'assured', 'correct', 'surprised', 'timetable', 'consent', 'motorists', 'offenses', \"Monday's\", 'adopt', 'Plainfield', 'remark', 'carcass', 'Republicanism', 'controversial', 'greeted', 'Trenton', 'Federation', 'love', 'proper', 'Meyner', 'saved', 'motor', 'demonstrate', 'gathering', 'indicate', 'Case', 'candidacy', '10-year', 'basically', 'results', 'Sheeran', \"organization's\", 'warden', 'citation', 'credits', '1925', 'Michigan', 'tractor', 'expanded', 'credited', 'Cross', \"You're\", 'signs', 'comment', 'afraid', 'voluntarily', 'Screvane', 'Beame', 'bigger', 'file', 'emphasize', 'Manhattan', 'publicly', 'Apparently', 'assumed', 'interviews', 'confirm', 'Hunter', 'taxi', 'remarks', 'influence', 'secret', 'Edwin', 'aroused', 'petty', \"Administration's\", 'Trimble', 'appears', 'languages', 'Middle', 'Question', 'confusion', 'happen', 'missionary', 'discovered', 'owner', 'classical', 'gay', 'Indonesia', 'pulled', 'Look', 'estimates', 'Y.', 'experts', 'filling', 'eighteen', 'economist', 'fifteen', 'Maurice', 'meanwhile', 'slowed', 'Princess', 'principles', 'search', 'succeeds', 'artist', 'Miles', 'begins', 'Great', 'returning', 'bordering', 'Battle', 'branches', 'Johnson', 'Guard', 'reserve', 'helm', 'surrounded', 'keeps', 'steady', 'stream', 'commitments', 'decide', 'honeymoon', 'sensitive', 'cutting', 'seat', 'ranks', 'patronage', 'normally', 'transition', 'related', 'directly', 'anyway', 'frustrated', 'conclusion', 'purposes', 'perfect', 'trim', 'Steel', 'competing', 'cooperate', 'sharp', 'disagreement', 'PTC', 'reorganization', 'Business', 'filing', 'involve', 'repaired', '48', 'testimony', 'rooming', 'renewal', '95', 'dogs', 'annually', '$15,000', 'adequately', 'Julian', 'Barnard', 'manslaughter', 'pronounced', '39', 'Redevelopment', 'designated', 'Residential', 'formed', 'esplanade', 'Gladden', 'fighters', 'Baptist', 'bed', 'wheel', 'landed', 'firemen', 'Gursel', 'junta', 'deadline', 'demanded', 'Ierulli', 'aiding', 'rebel', 'gives', 'advice', 'plea', 'Molvar', 'SW', 'Melvin', 'rush', 'lots', 'realistic', 'greeting', 'Mark', 'noon', 'speak', 'Willamette', 'advisory', 'elementary', 'Masonic', 'honoring', 'Roosevelt', 'two-year', 'beliefs', 'strengthen', 'Zimmerman', 'conduct', 'Election', 'contact', 'graduates', 'upheld', 'defendant', 'mails', 'distinction', 'clubs', 'Siebern', 'fanned', 'Sullivan', 'tally', 'pitch', 'Breeding', 'Keegan', 'mound', 'Braves', 'fence', 'possibly', 'strongest', 'Flock', 'slammed', 'scoring', 'flavor', 'Ron', \"Army's\", 'homers', 'squad', 'shortstop', 'flew', 'lighter', 'Knox', 'Albany', 'engage', 'workout', 'posted', 'Houk', 'crowds', 'delayed', 'ramp', \"League's\", 'Fresh', 'promising', 'stages', 'tired', 'Glen', 'Kerr', 'duel', 'timed', 'half-mile', 'Grace', 'relief', 'Tony', 'kick', 'hip', 'place-kicking', 'muscle', 'completions', 'attempts', 'brilliant', 'sophomore', '55', 'gained', 'insists', 'coaching', 'Assistant', 'performances', 'Billy', 'interference', 'aerial', 'screen', 'waited', 'Mike', 'definitely', 'opener', \"He's\", 'End', 'Bud', 'Buffalo', 'defending', 'splendid', 'exceptionally', 'controlling', 'claimed', 'averages', 'Not', 'checks', 'leagues', 'Nischwitz', 'Indianapolis', '6-3', 'countless', 'Hinton', 'innings', 'unusual', 'Rudolph', 'Jay', 'Cooke', 'rightfield', 'Cliff', 'Dan', \"o'clock\", 'Lane', 'Lemon', 'Twins', 'fans', 'pop', 'aboard', 'Ogden', 'chances', 'Pacific', 'Standard', 'warmed', 'masses', 'leaguer', 'pitcher', 'guy', 'Phillies', 'Lou', 'merits', 'seasons', 'park', 'mystery', 'slump', 'Living', 'powerful', '19th', 'injuries', '$20,000', '$25,000', 'Vikings', 'refused', 'depended', 'Richardson', 'silver', 'Chapter', 'Mazeroski', 'Guy', 'Mercer', 'follows', 'prominent', 'background', 'majors', 'stadium', 'Point', 'Later', 'outfielder', 'Golf', 'tournaments', 'Hogan', 'Missouri', 'blazing', 'Illustrated', 'achieved', 'narrow', 'slice', 'Chisholm', 'strain', 'bunker', 'soft', 'provisional', 'fourteen', 'Warwick', 'hall', 'dates', 'Mizell', 'Tonight', \"baseball's\", 'Redbirds', 'Gibson', 'Ernie', 'eager', 'assignment', 'neck', 'Murtaugh', 'Nieman', 'Musial', 'anniversary', 'bats', 'recession', 'Hal', 'Perhaps', 'Friend', 'Mankowski', 'editor', 'Bradley', 'recalled', 'letting', 'shape', 'trips', 'busy', 'successfully', 'careers', 'frank', 'meant', '52', 'slugger', 'ultimate', 'Broadway', 'intended', 'thin', 'Alvin', 'wonderful', 'Met', 'Sims', 'Cancer', 'Foundation', 'Opera', \"board's\", 'Frederick', 'Hamm', 'buffet', 'Trade', 'instance', 'dancers', \"Geraghty's\", 'Republic', 'Japan', 'youngest', \"Chicago's\", 'studying', 'Florence', 'telling', 'Clinton', 'King', 'Maureen', 'hinted', 'Everybody', 'appearances', 'cry', 'studio', 'candy', 'boss', 'suggestions', 'boxes', 'birthday', 'coast', 'Life', 'preceded', 'D.C.', 'plenty', 'schedules', 'cookies', 'watching', 'Motel', 'heat', 'adults', 'myself', 'marvel', 'proprietor', 'officiated', 'Rhodes', 'Kappa', 'Shreveport', 'Freeman', 'skirt', 'maid', 'Conrad', 'Kay', 'Angelo', 'Earl', 'fun', 'promises', \"We've\", 'hats', 'phase', 'flowers', 'handsome', 'typical', 'clothing', 'household', 'bundles', 'Jewish', 'contribution', \"men's\", 'aides', 'Lewis', 'Spurdle', 'Smythe', 'exhibit', 'Monte', 'Meyer', 'chairmen', 'Dusseldorf', 'Easter', 'Vieth', 'Louise', 'Carnival', 'Margaret', 'Auditorium', 'ladies', 'Eustis', 'queen', 'slim', 'silk', 'Simpson', 'decline', 'affect', 'cab', 'Mount', 'store', 'Negroes', 'burned', 'arrival', 'recording', 'boards', 'ambulance', 'dispatched', 'slowly', 'tires', 'trained', 'plow', 'Chesapeake', 'victims', 'Capt.', \"mother's\", 'broadcast', 'administrative', 'Somerset', 'Agriculture', 'totaled', 'Corporation', '28', 'quality', 'Cherry', 'entrance', 'warm', \"Britain's\", 'spy', 'agents', 'reactor', 'Houghton', 'Lonsdale', 'Krogers', 'Lola', 'suburban', 'transmitter', 'drawing', 'aunt', 'magistrate', 'Fuchs', 'sentenced', 'adviser', 'potential', 'cleared', 'broken', 'lawyers', 'detail', 'Perry', 'Teller', 'sometimes', 'comments', '$800', 'Way', 'Morgan', '1934', 'Wilmette', 'reckless', 'Simms', 'pleased', 'release', 'confession', 'Sterling', 'Township', 'lacked', 'Vicky', 'seldom', 'meals', 'Students', '$25', 'Laotian', 'McNair', 'Seattle', 'rebels', 'Fidel', \"Anderson's\", 'swept', 'auditorium', 'Today', \"University's\", 'grade', 'privileges', 'desegregation', 'intend', 'colored', 'creed', 'corporate', 'Leon', 'stand-ins', '72', 'sisters', 'NW', 'Greenville', 'Little', 'rock', 'scratches', 'assault', '5,000', 'ranging', 'ant', 'eradication', 'Pierce', 'Bryan', 'Blasingame', 'Turner', 'crops', 'Expressway', 'Northwest', 'Patrol', 'auto', 'commissioners', 'electronic', 'magnetic', 'handles', \"man's\", 'objective', 'Brett', 'Alice', 'Fair', 'Order', 'Spice-Nice', 'teenagers', 'youngsters', '$250', 'Madison', 'ribbons', 'male', 'economics', 'Pezza', 'Giorgio', 'dumping', 'Sydney', 'satisfactory', 'Vernava', 'impact', 'audio-visual', \"fund's\", 'Parrillo', 'Oliver', 'beds', 'Sorrentino', 'Birmingham', 'farmer', 'masked', 'connections', 'NYU', 'Hester', 'Audubon', 'cane', 'pride', 'scientific', 'rid', 'restrictions', 'breed', 'officially', 'cockpit', 'V-1', 'alive', 'Sunnyvale', 'pilots', 'Allies', 'mechanism', 'controlled', 'landing', 'missiles', \"janitors'\", 'Arger', 'Maintenance', 'scrutiny', 'Supply', 'inquiries', 'reserved', 'upward', 'priced', 'merger', 'reaching', 'maintain', 'driers', 'smaller', '1930', 'employs', 'Moss', 'Gordin', 'cleaning', 'slight', 'pickup', 'marketing', 'Gerald', 'Hayes', 'Ronnie', 'Housing', 'peak', 'Sprinkel', 'Draper', 'pan', 'steel', 'threaten', 'sank', 'standing', 'routine', 'Dillon', 'dull', 'creative', 'obviously', 'technology', 'fairly', 'short-term', '1986', 'Diversified', 'Perlman', 'O', \"1960's\", 'invited', 'pickers', '50%', 'retail', 'Farmers', 'tractors', 'implements', 'chiefly', 'Net', 'depletion', 'materials', 'mineral', 'taxpayer', 'sophisticated', 'ebony', 'clothes', 'piece', 'pictures', 'Golden', 'Theater', 'trustees', 'Museum', 'Fine', 'patrons', 'buys', 'breast', 'baking', 'warmth', 'Heritage', 'Composite', 'acacia', 'finish', 'pedestal', 'Saledo', 'yellow', 'Mmes', 'Reese', 'Chandler', 'Building', 'heads', 'arts', 'reservations', 'Swim', 'passengers', 'violin', 'Gloriana', 'legs', 'numbers', 'addresses', 'Stars', 'Pasadena', \"child's\", 'shrewd', 'Century', 'pulling', 'pianist', 'Restaurant', \"you've\", 'Coral', 'discuss', 'doorstep', 'Kirov', 'finest', 'mine', 'totally', 'Chamber', 'films', 'Channel', 'blood', 'Jacqueline', 'musicians', 'approached', 'bandstand', 'Marine', 'Pfohl', 'gathered', \"Gallery's\", 'simultaneous', 'sculptures', 'Pike', 'discouraged', 'crucial', 'Nikita', 'diplomacy', 'Thus', \"Khrushchev's\", 'eventual', 'broad', 'China', 'urgent', 'insistence', 'esprit', 'gamble', 'cause', 'earning', 'communication', 'titles', 'difficulty', 'electrical', 'giants', 'monopoly', 'protection', 'organizations', 'commodity', 'Adam', 'monopolies', 'commerce', 'Herter', 'fronts', 'staffs', 'Inauguration', 'oust', 'leaked', 'Humphrey', '15th', 'tower', 'rounds', 'Pensacola', 'golfers', 'pars', '154', 'primarily', 'seeing', 'ballplayer', 'cooperative', 'locker', 'angry', 'zinc', 'left-handed', 'Loper', 'Adlai', 'undergraduate', 'Beadle', 'Moise', 'provinces', 'Bizerte', 'Tunisian', 'Chen', 'Airlines', 'hostages', 'Gilman', 'Border', 'long-range', \"road's\", 'access', 'imports', 'low-wage', 'quotas', 'miners', 'Welsh', 'mines', 'volumes', 'Jury', 'over-all', 'praise', 'Ivan', 'considering', 'registration', 'revised', 'topics', 'departments', 'efficiency', \"Department's\", 'distribute', 'portion', 'Failure', 'burden', 'guardians', 'Bar', 'interim', 'protect', 'undue', 'criticisms', 'reasonable', 'Jail', 'duty', '1913', 'Griffin', 'Attorneys', 'mayor', 'Bowden', 'brief', '1937', '1923', 'warned', 'registered', 'unanimous', 'opposes', 'platform', 'Caldwell', 'adjournment', 'approve', 'allotted', 'adjustments', 'chambers', 'Construction', 'repair', 'traveled', 'Rural', 'Roads', 'issuance', '$50', 'Marvin', 'rescind', 'reconsideration', 'legislator', 'Colquitt', 'policeman', 'coolest', 'agriculture', 'Felix', \"Saturday's\", 'Ordinary', 'insure', 'smell', 'dispute', 'subjected', 'gun', 'Sheriff', 'adamant', 'extremely', 'escheat', 'accounts', 'pipeline', 'corporations', 'Tyler', 'violate', 'circulation', \"taxpayers'\", 'pockets', 'contention', 'Hudson', 'unanimously', 'authorizing', 'schooling', 'scholastic', 'authorize', 'county-wide', 'permitting', 'Operating', 'yearly', 'outlay', 'horse', 'Reps.', 'folks', 'betting', 'option', 'senate', 'whipped', 'fare', 'Beaumont', 'Galveston', 'donations', 'retailers', 'excise', 'certificate', '$1,000', 'brokers', 'licensing', 'domain', 'acquire', 'underground', 'composed', 'adverse', '81', 'gotten', 'absent', 'Paradise', 'Weatherford', 'Representatives', '250', '$15,000,000', 'pending', \"boy's\", 'reducing', 'so-called', 'normal', '4-year', 'chemistry', 'sp.', 'Hays', 'Kan.', \"school's\", 'retire', 'Southwestern', 'border', 'Signal', 're-elected', '1961-62', 'Supt.', 'racial', 'dependent', 'soaring', 'dependency', 'recipients', 'Calls', 'extension', 'relatives', 'prevention', 'Summerdale', 'burglary', 'disclosure', 'counsel', 'observers', 'quarrel', 'courtroom', 'prejudicial', 'strongly', 'deliver', 'nationwide', 'week-end', 'Cape', 'Cod', 'drafts', 'Shortly', 'Hyannis', 'completion', 'Pierre', 'Salinger', 'wording', \"Russia's\", 'unfair', 'proceedings', 'prosecutor', 'Mayer', '58th', 'procedure', 'altho', 'vindication', 'function', '29th', 'advisement', 'mammoth', 'financed', 'worker', 'employer', '1963', 'Officials', 'figures', 'Full', '90', 'Community', 'nurse', 'deductible', 'unnecessary', 'doctors', '$2,000', 'totaling', '700', 'appropriation', 'sum', 'institute', 'vocational', 'rehabilitation', 'increasing', 'combine', 'indispensable', 'hailed', 'Leader', 'Halleck', 'scattered', 'Presidential', 'appointments', 'positive', 'element', 'emerge', 'Treaty', 'animated', 'ministers', 'noticeable', 'powers', 'Angola', 'relaxation', 'surprises', 'negative', 'disappointment', 'described', 'add', 'fixed', 'appreciation', 'correspondents', 'listen', 'application', 'spots', 'preoccupied', 'attachment', 'disposal', 'setback', 'surveyed', 'friction', 'entirely', 'societies', 'distance', 'timely', 'consultation', 'Development', 'ratified', 'coordinating', 'optimism', 'mainly', 'neighboring', 'Thailand', 'dominated', 'Policies', 'modified', 'inclination', 'verification', 'chain', 'Vice-President', 'outcome', 'resumption', 'constructive', 'nationalism', 'provocation', 'voiced', 'revamped', 'Very', 'react', 'gesture', 'faster', 'exposed', 'acclaimed', 'SEATO', 'steamed', 'all-out', 'disagreed', 'ill', 'neutralized', 'helped', 'neutralist', 'energy', 'displayed', 'erred', 'removal', 'rapid', 'vitality', 'Delinquency', 'enactment', 'cope', 'urgency', 'arrests', 'Bureau', 'Investigation', 'organize', 'Noting', 'Laughlin', 'Riverside', 'Speaking', 'bet', 'Narragansett', 'Seekonk', 'knowing', 'fails', 'Atty.', 'Nugent', 'Should', 'instances', 'foods', 'neighborhood', 'grocery', 'supermarkets', \"council's\", 'retained', 'licenses', 'conservatives', 'labor-management', 'Sheraton-Biltmore', 'voter', 'pull', 'machinist', 'steered', 'utilities', 'gaining', 'conditioned', 'dividing', 'obtaining', 'canvassers', 'assure', 'strategy', 'awareness', 'false', 'provision', 'Sanitary', 'Action', 'Solicitor', 'Michael', 'draft', 'Nothing', 'disposition', 'Dumont', 'boos', 'Clubs', 'tattered', \"Hughes'\", 'merit', 'continuance', 'passenger', 'attractive', 'blame', 'centralization', 'vehicles', 'Ike', 'resent', 'discredited', 'symbol', 'stature', 'Essex', 'nominee', 'Clifford', 'desperate', 'sagging', 'image', 'witnessing', 'glow', 'fail', 'Harriet', 'Greenfield', 'committeewoman', 'paper', 'represents', 'democracy', 'exclusive', 'Orange', 'Roos', 'MacDonald', 'Neil', 'Seidel', 'supervision', 'fires', '1921', '1944', 'techniques', 'plowing', 'wardens', 'expedient', 'Attacks', 'forward', 'honest', 'mouth', 'attraction', 'clean', 'hoodlums', 'Acres', 'space', 'pointing', 'four-year', 'elephants', 'adoption', 'suffrage', 'anti-organization', 'Liberal', \"Mayor's\", 'internal', 'resentment', 'contend', 'proposing', 'rival', 'Representative', 'visits', 'Sapio', 'believing', 'replaced', 'struggle', 'Gerosa', 'successor', 'Queens', 'Campus', 'Times', 'wave', 'corruption', 'See', 'object', 'widely', 'novel', 'spotlight', 'attracted', 'newspapers', 'escape', 'episode', 'beach', 'forecasts', \"Rayburn's\", 'hopeful', 'sometime', 'mortgages', 'dormitories', 'temporarily', 'Northern', 'Delaney', \"O'Neill\", 'long-term', 'mathematics', 'assigned', 'submitted', 'churchmen', 'Ghana', 'proposes', 'under-developed', 'expanding', 'allocated', 'premium', 'inhabitants', 'Secretariat', '150,000,000', 'forming', 'kingdom', 'Zurich', 'pro-Communist', 'welcomed', 'ease', 'optimistic', 'two-hour', 'agenda', 'guide', 'commercial', 'Elementary', '1945', 'merchandising', 'erected', 'decent', 'standpoint', 'recorded', 'thousand', 'marching', 'soldiers', 'vantage', 'Lafayette', 'opposite', 'viewing', 'respective', 'Puerto', 'Rico', 'Virgin', 'developments', 'Ross', 'foes', 'scramble', 'iron', 'nobody', 'lawmakers', 'odds', 'restless', \"Mississippi's\", 'camps', 'clouded', 'bypass', 'probable', 'finances', 'dedicated', 'weary', \"administration's\", 'curious', 'grant-in-aid', 'clearing', 'toss', 'token', 'convey', 'notion', 'unlikely', 'avoid', 'blocked', 'squeezed', 'confronting', 'revive', 'followers', 'affiliations', 'Alexander', 'rigged', 'contracted', 'contractors', 'disclosures', 'sued', 'investigating', 'reviewing', 'Harold', 'Varani', 'architecture', 'accepting', 'contractor', 'bankrupt', '2d', 'draw', \"Berger's\", 'violated', 'violations', 'joints', '$600', 'headline', 'objected', 'objection', \"Council's\", 'Finance', 'dwellings', '$5', 'Builders', 'Knauer', 'animal', 'Deputy', 'spends', 'collects', 'McConnell', 'Montgomery', 'Davenport', 'hit-run', 'fined', \"years'\", 'sentence', 'Planning', 'hazards', 'pedestrians', 'acre', 'Stage', 'clusters', 'Would', 'Greece', 'pedestrian', 'bridges', 'Fighters', 'apart', '42', 'multiple', 'ankles', 'driveway', \"I'd\", 'lying', \"Gladden's\", 'Hood', 'laboratory', 'torn', 'dissension', 'outspoken', 'critic', \"union's\", 'reward', 'guards', 'Mining', 'Shiflett', 'Turkey', 'contested', 'Menderes', 'agreeing', 'pardoned', 'satisfied', 'solution', 'Law', 'paths', 'identical', 'adding', 'develop', 'century', 'Individual', 'exported', \"Portland's\", 'cooperating', 'strictly', 'fruitful', 'Nobody', 'voice', \"wouldn't\", 'everyone', 'statewide', 'mothers', 'Hatfield', 'Empire', '$3.5', '4:30', 'speakers', 'fund-raising', 'Incumbent', 'seeks', 're-election', 'vacated', \"denomination's\", 'trends', 'editing', 'denomination', 'reads', 'emphasizes', 'Lord', 'forthcoming', 'Breakthrough', '12,000', 'babies', 'immigrant', '1,000', '800', 'accomplish', 'meets', 'Engaging', 'pioneer', 'lending', 'fraud', 'dismissal', 'mistrial', 'acquittal', 'conspirators', 'Schwab', 'Philip', 'Weinstein', 'proof', 'defraud', 'winless', 'Athletics', 'frames', 'Fisher', 'righthander', 'middle', 'scoreless', 'two-run', 'Norm', 'eighth', 'throws', 'Marv', \"House's\", 'dirt', 'catcher', 'Rookie', 'Stepanovich', 'baseman', 'Howser', 'performed', 'Kunkel', 'appearance', '375', 'Pete', 'Ward', 'failing', 'bunt', 'popped', 'Adair', 'Barker', 'crossed', \"Kunkel's\", 'tallies', 'grabbed', 'error', 'stretch', 'blow', 'Andy', 'rundown', 'scoreboard', \"Baltimore's\", 'slugged', 'freshman', \"Birds'\", '22-year-old', 'spectator', \"tonight's\", '6-foot', 'checked', 'reporting', 'Ky.', 'physically', 'fielding', 'whiz', 'P.M.', 'Duren', 'Milt', 'Petersburg', 'assisting', 'Steve', 'hitch', 'enlisted', 'workable', 'Take', 'Unfortunately', 'teammates', 'Dunn', 'Md.', \"Patrick's\", 'Purse', '1.24', '8,280', 'races', 'wire', 'save', 'sun', 'Prior', 'stewards', 'suspended', 'crossing', 'allowance', 'wiped', \"Mills's\", 'Games', 'housewife', 'Waters', 'Sylvania', 'Ga.', 'consult', 'physician', 'donated', \"team's\", 'Southwest', 'Conference', 'clock', 'Longhorn', 'conversions', 'Stamford', 'bothered', 'kicking', '110', 'miss', 'playoff', '77', 'helps', 'yardage', '447', '37', 'Saxton', 'kickoff', 'Happy', 'magnificent', 'stops', 'fullback', 'Nick', 'Except', \"He'll\", 'blind', 'reserves', 'Held', 'Lubbock', 'tackle', 'Baylor', 'mud', 'ankle', 'Aggies', 'Myers', 'shaken', 'Trinity', 'sprained', 'Bills', 'Buster', 'Leaguers', 'Rabb', 'whip', 'dangerous', 'Broncs', 'throwing', 'bang', 'strikes', 'tactic', 'statistics', 'spree', '280', '64', 'loop', 'idle', 'lefthander', 'viewers', 'pack', 'characteristic', 'lagged', 'cracked', 'Lefty', 'Paschal', 'McDaniel', 'Porter', 'Chuck', 'tripled', 'accounted', \"Alusik's\", 'outfield', 'Wert', 'hammered', '1:48', 'arm', 'lights', 'exotic', 'dancer', 'Kenny', 'Mich.', 'ranked', 'Minnie', 'Minnesota', 'batted', 'Reno', 'Utah', 'reflexes', 'sudden', 'anybody', 'Olympic', 'Champion', 'heading', 'speculating', 'compartment', 'writer', 'anymore', 'tongues', '40-year-old', 'no-hit', 'masterpiece', \"Giants'\", 'milestone', 'rookies', 'sighed', 'surely', 'belonging', 'superior', \"player's\", 'meaningless', '1951', 'Slaughter', 'reaches', 'sluggers', 'span', 'Incidentally', 'Gehrig', 'Pat', 'fan', 'ace', 'privileged', \"Mays'\", 'arrangement', 'televised', 'network', 'NBC', 'arise', 'dissatisfaction', 'Reds', 'Yogi', 'Berra', 'Blanchard', '2-run', 'Joey', '5-run', 'bleachers', 'slashed', 'feat', 'elevated', 'three-year', 'retain', \"Shaw's\", 'Gauer', 'ends', 'logical', 'Brocklin', 'permission', 'newest', 'entry', 'reconsider', 'Steelers', 'Packers', 'Waldorf-Astoria', 'Graham', 'Show', 'personalities', 'song', 'Gimbel', 'barriers', 'formation', 'franchise', 'Flushing', 'Meadow', 'Frick', 'Kathy', 'switching', 'Snead', 'Metropolitan', \"golf's\", 'matches', 'metropolitan', 'Gold', 'sponsorship', 'Professional', 'Trophy', 'Stuart', '$80,738', 'Sportsman', 'Belt', 'sport', 'frustrations', 'perfection', 'respects', 'golfer', 'shooting', 'delivering', 'margin', 'majestic', 'bounds', 'wound', 'duffers', 'easily', 'idol', 'secondary', 'lunch', 'naturally', 'alongside', 'spot', 'confessed', 'intensity', 'inherent', 'nerves', 'competitors', 'bringing', 'lies', 'creature', 'Minneapolis', 'thirteen', 'Mauch', 'Bend', 'Solly', 'switch', 'Broglio', '4-0', 'Haddix', 'Boyer', 'Busch', 'Pirate', \"hadn't\", 'lineup', 'Stan', 'Taussig', 'imposing', 'Burgess', 'Virdon', 'dragging', 'beaten', 'Man', 'so-so', 'finishing', 'triumphs', 'recovering', \"'55\", 'worst', 'comparable', 'battling', 'Billikens', 'dealt', 'Kieffer', 'Bevo', 'supposed', \"Don't\", 'doubted', 'congratulated', 'Billiken', 'Tournament', 'super', 'Scherer', \"shouldn't\", 'talents', 'harder', 'heights', 'blond', 'Like', \"Yankees'\", 'correctly', 'differently', 'push', 'thrilling', 'inherited', 'preached', 'Major', \"Angeles'\", 'Dark', 'rushed', 'Polo', 'Grounds', 'Armour', \"bridegroom's\", 'holiday', 'holidays', 'exciting', 'Parichy', 'Arms', 'Vero', 'niece', 'artistic', 'Fashion', 'earn', \"summer's\", 'bushes', 'Damascus', 'separated', 'Honolulu', 'Pakistan', 'Molly', 'Debutante', 'fitted', 'invitations', 'addressed', 'festival', 'Lambert', 'Burkes', 'publishing', 'Sethness', 'Consul', \"O'Sullivan\", 'trees', 'Lyon', 'wheeled', 'en', 'portable', 'typewriter', 'Pretty', 'ex-Mrs.', 'promotional', 'fallout', 'beer', 'Lucille', 'Russell', 'singing', 'debuting', 'Drury', 'exec', 'column', 'wed', \"Hollywood's\", 'glamor', 'Simon', 'Children', 'Memphis', 'Box', 'toast', 'Flower', 'biz', 'touches', 'mink', 'Herbert', 'Fall', 'Give', 'generously', 'charities', 'Best', 'showman', 'holders', 'Mets', 'Gate', 'via', 'Nobel', 'collect', 'Me', 'Everywhere', 'roles', 'opens', 'swim', 'tells', 'Jean', 'cheer', 'Gods', 'patio', 'Bowman', 'Grandparents', 'Mullenax', 'Palace', 'Cocktails', 'juniors', 'decorations', 'Stanley', 'Bradford', 'Carruthers', 'Rickenbaugh', 'cheery', 'down-to-earth', 'qualities', 'asset', 'Salvation', 'civilian', 'tasks', 'bridge', 'alcoholics', 'parolees', 'pressing', 'solved', 'coffee', 'sugar', 'vacation', 'lovely', 'all-American', 'magic', 'Ah', 'journey', 'Tucson', 'stations', 'braced', 'vacationing', 'accommodations', 'Maybe', 'Shamrock', 'cellar', 'boast', '$14', 'Va.', 'suite', 'elegant', 'brocade', 'tile', 'ants', 'Gay', 'Parents', 'Coronado', 'Perkins', 'chapel', 'organdy', 'bateau', 'neckline', 'princesse', 'veil', 'crown', 'stephanotis', 'Baird', 'Hartford', 'Carter', 'Ken', 'Corpus', 'Christi', 'Shirley', 'Hardy', 'Chapel', 'jacket', 'pearl', 'Glenda', 'Pampa', 'Marie', 'Glison', 'Ervin', 'studies', 'reputation', 'tradition', 'Grinsfelder', 'Basin', 'jazz', 'combo', 'Lester', \"R's\", 'oysters', 'chef', 'effects', 'reproductions', 'Cohen', 'Walnut', 'totals', 'feminine', 'Rose', 'duties', 'Allan', 'Besides', 'Moody', 'Ethel', 'Wheeler', 'Troop', 'decades', 'honorary', 'posters', 'Greater', 'arrange', 'Shoettle', 'originated', 'Jerome', 'Blum', 'Schultz', 'Rosen', 'Evelyn', 'Oscar', 'Janssen', 'Marella', 'Orcutt', 'Emmert', 'Susan', 'celebrated', 'Wellesley', 'Queen', 'Comus', 'debutante', 'feted', 'hostess', 'Richmond', 'Vickery', 'attends', 'pl.', 'Pierson', 'Nairne', 'worn', 'dances', 'taffeta', 'edging', 'A.M.', 'Salary', '$18', 'Streets', '38', 'assaulted', 'register', 'damaged', 'Somerville', 'second-degree', 'discrepancies', 'contained', 'write', 'parked', 'corrected', 'laborers', 'parking', 'jurist', 'Soon', 'bay', \"Dresbach's\", 'Route', 'Tawes', \"Maryland's\", 'resident', 'Delegates', 'Nonresidential', 'corresponding', '33', 'shelter', 'mortgage', 'encouraged', 'vary', 'Pantas', 'hardware', 'Convenience', 'increasingly', 'View', 'Ultimately', 'structures', 'terrace', 'supplied', 'patterned', 'Nautilus', 'Gee', 'friend', 'anti-submarine', 'buried', 'marks', 'page', 'innocent', 'widowed', 'Bailey', 'criminal', '1950s', 'Fourteen', 'promptly', 'clients', 'designing', 'nowhere', 'sharing', 'generation', \"Navy's\", 'Much', 'Polaris', 'branch', 'Westinghouse', 'navy', 'fastest', 'destroyers', 'ships', 'calling', 'Cooperman', 'indictments', 'narcotic', 'peddlers', 'posed', 'rivalries', 'nominated', 'medal', 'Sears', 'Indiana', 'Winston', 'Pullings', 'Stewart', 'CTA', '51st', 'bag', 'paycheck', 'express', 'accosted', 'fled', 'Blanche', 'Dunkel', 'slaying', 'salesman', 'pursuit', 'speeding', 'Jenks', 'skidded', 'Prairie', 'Anna', 'cell', \"woman's\", '54', 'removed', 'Still', 'misfortune', 'Westphalia', 'arson', 'Cash', 'motion', 'deliberation', 'foreman', 'definition', 'packed', 'Holy', 'Pankowski', 'adjoining', 'suburb', 'Christine', 'Mound', '61', 'cook', 'Eight', 'candle', 'twin', 'escaped', 'Mother', 'funeral', 'Sidney', 'announcing', 'subdivision', 'Dequindre', 'mailed', 'Principal', 'Pohly', 'proceeds', 'Line', 'spoken', 'youthful', 'motorist', 'Sisk', 'Belvidere', 'safely', 'approaching', 'pursued', 'fleeing', 'Sarkees', 'southeast', '60,000', 'confirmation', 'massive', 'assaults', 'claims', 'exaggerated', 'executed', 'executions', 'Pinar', 'Del', 'Rio', 'businessman', 'condemned', 'commander', 'rifles', 'Report', 'Associated', 'converted', 'makeshift', 'Roman', 'Siberia', 'Kegham', 'Trustees', 'by-laws', 'segregated', 'tax-exemption', 'statutory', 'obstacles', 'exempt', 'criteria', 'endowments', 'integrated', 'challenged', 'commitment', 'promote', 'prospective', 'irrespective', 'slid', 'Willard', 'renewed', 'picketing', 'Human', 'contacted', 'operators', 'negotiate', \"Friday's\", 'pledged', 'picket', 'profits', 'Kililngsworth', 'Marietta', 'painter', 'Nancy', 'Crawford', 'Ronald', 'melee', 'violent', 'counts', 'desk', 'pensions', 'Troup', 'Bulloch', 'treat', 'planes', 'Macon', 'wildlife', 'humans', '14th', 'survey', 'engineers', 'suggest', 'Snellville', 'Calvary', 'flames', 'Lawrenceville', 'unusually', 'category', 'allotment', '$17,000', 'River', 'Juras', \"Field's\", 'emphasized', 'employ', 'fulfill', 'literally', 'defend', 'Peck', 'holdup', 'Detective', '50th', '1928', 'Wash.', 'grandchildren', 'Employes', 'producer', 'booked', 'Cohn', 'Son', 'guided', 'counseled', 'Georgia-Pacific', 'regional', 'dividend', 'businesses', 'advisors', 'Stephenson', 'Jefferson', 'Karen', 'skies', 'attract', 'quartet', 'Sue', 'Stephanie', 'Zurcher', 'Carol', 'exhibited', 'hog', 'showmanship', 'poultry', 'Nyberg', 'Tigard', 'bird', 'Grenier', 'pains', 'uninjured', 'ransacked', 'coins', 'Drive', 'coat', '$700', '$450', 'rings', 'earrings', '$75', '$65', '$85', 'Eddy', 'sewage', 'deed', \"firm's\", 'hired', 'Workers', 'chest', \"Stone's\", 'Democratic-endorsed', 'acted', 'suitable', 'Interstate', 'valuation', 'lieutenants', 'convenient', 'remembered', 'dimes', 'quarters', '11:30', 'hunting', 'Aurora', 'Kretchmer', 'mercy', 'Scotland', 'perjury', 'Freedom', 'complaint', 'Ku', 'Klux', 'Klan', 'Anniston', 'interstate', 'incident', 'expressing', 'dean', 'Carroll', 'N.J.', 'controls', 'wrecked', 'mistakes', 'occasionally', 'grapes', 'urging', 'pollution', 'convention', 'halt', 'Da', 'climbed', 'Heinkel', 'rolled', 'runway', 'earth', 'engineer', 'sat', 'Reichenberg', 'shipping', 'cubic', \"rocket's\", 'incredible', '420', 'm.p.h.', 'fuel', 'Using', 'tail', 'dust', 'crack', 'slow', 'Figone', 'Schweitzer', 'world-famous', 'Friends', 'imply', 'abolish', 'aware', 'operator', 'buddy', 'gang', 'gambling', 'Gus', 'Alex', 'prosecutors', 'attempting', 'janitors', 'factories', 'Pesce', 'deodorant', '$12,500', 'radiation', 'detonation', 'warrant', 'Loan', 'satisfaction', 'Bonn', '$12.50', 'Guerin', 'managing', 'wanting', 'Switzerland', 'E.G.T.', 'Swiss', 'underwriters', 'qualify', 'regularly', 'lately', 'Frito', 'price-earnings', 'survival', 'mergers', 'turns', 'buyers', 'proximity', 'contain', \"They've\", 'cleaners', 'Hardwicke-Etter', 'domestic', 'Cen-Tennial', 'export', 'mill', 'Presently', 'System', 'harvesting', 'drying', 'overhead', 'belt', 'saws', 'sizable', '3,000', 'year-to-year', 'grab', 'models', 'banquet', 'Sheraton-Dallas', 'supplement', 'Page', 'Eaton', 'Sunset', 'sweeping', 'vice-president', 'lift', 'autumn', 'closing', 'Investment', 'Assn.', 'refuted', 'Rather', 'abortive', 'cautioned', 'excessive', 'moderate', 'Reserve', 'upturn', 'dangers', 'Clay', 'presently', 'sooner', 'situations', 'hemisphere', 'Dow', 'durable', 'traded', 'Volume', 'belong', 'tend', 'Japanese', 'Exchange', 'securities', '100%', 'thereafter', 'Growth', 'Something', 'dividends', 'shareholders', 'story', 'squared', 'undertake', 'selects', 'far-reaching', 'merge', 'railroads', '$1.1', 'Consumer', \"builders'\", 'presumably', 'discrepancy', 'businessmen', 'Houtz', '20%', 'Paradoxically', 'output', 'acreage', 'lowest', 'pushing', 'averaging', 'Keeler', 'Harvester', 'exceptions', 'appliances', 'haggling', 'shipments', 'trailed', \"Government's\", 'feed', 'Nearly', \"farmers'\", 'incentive', 'clay', 'taxable', 'returns', 'signing', 'deductions', 'I.R.S.', 'furnish', 'Requests', 'suspects', 'material', 'deduction', 'owed', 'invoking', 'incurred', 'creating', 'entitled', 'tax-free', 'frequent', 'warn', '2%', '1%', 'non-profit', 'realized', 'chart', 'surge', 'steep', 'creator', 'shake', 'Norell', 'likes', 'classic', 'charm', 'drama', 'simplicity', 'greens', 'Madame', 'portrayal', 'Sunrise', 'Captain', 'Oriental', 'supporters', 'Are', \"SMU's\", 'Tell', 'snacks', 'tables', '195', 'charming', 'potatoes', 'fat', 'Morocco', 'Chicken', 'butter', 'Bake', 'brown', 'seasoned', 'breasts', 'fresh', 'ham', 'sculptured', 'indication', 'Perennian', 'truly', 'burl', 'ceramic', 'texture', 'paneled', 'walls', 'decorative', 'arched', 'decorate', 'dressers', 'tones', 'shades', 'copper', 'Stagecoach', 'Days', 'Trail', 'get-together', 'pool', 'McKee', 'Roquemore', 'travel', 'couples', 'chartered', 'Vegas', 'Jamaica', 'Wells', 'cookie', 'Hilton', 'finals', 'dreamed', 'liked', 'Bolker', 'architect', 'Mmes.', 'Robbins', 'Wilshire', 'tiny', 'Hungarian', 'Budapest', 'hardship', 'pilgrimage', 'streetcar', 'ocean', 'dismal', 'rides', 'walks', 'Register', 'Flowers', 'Changes', 'Arden', 'Connecticut', 'residing', 'Chases', 'Lockies', 'Newcomers', 'flexible', 'delight', 'inches', 'L', 'foot', 'suspend', 'accord', 'sufficiently', 'appealing', 'decorators', 'Colonial', 'era', 'appreciated', 'antiques', 'parlor', 'Alden', 'Plus', 'comedy', 'pure', 'stick', 'Lounge', 'Steak', 'refer', 'Sir', 'Fike', 'Winds', 'piano', 'personality', 'ownership', 'Heilman', 'wash', 'understandable', 'peppery', 'Newfoundland', 'distinguished', 'island', 'Theatre', 'ballets', 'Gables', 'Schenk', 'author', 'Anyone', 'relationships', 'workshops', 'assemblies', 'ideological', 'figured', 'careful', 'Christianity', 'marking', 'vows', 'strive', 'Lois', 'grace', 'worship', 'Henderson', 'Marriage', 'Jorda', 'assignments', 'five-month', 'box', 'pleasure', 'numerous', 'virtue', 'frankness', 'peculiar', 'piety', 'lady', 'character', 'cast', 'sumptuous', 'courtly', 'Mail', 'fixing', 'Toys', 'sex', 'ages', 'Luis', 'immorality', 'billed', 'towering', 'ancient', 'imagine', 'brutality', 'villa', 'Fellini', 'spell', 'summed', 'moderates', 'literature', 'Person', 'exploring', 'language', 'austere', 'ha', 'windshield', 'stuck', 'smallest', 'Get', 'unhappily', 'doormen', 'politely', 'calm', 'sofas', 'undertaken', 'redecoration', 'unveiled', 'match', 'Transylvania', 'delighted', 'welcoming', 'Hail', 'tent', 'listening', 'Letitia', 'Carolina', 'Bouton', '85', 'visitors', 'noticed', 'impressed', 'Masons', 'historian', 'laying', 'wreath', 'separately', 'outsiders', 'attitude', 'exchanges', 'confrontation', 'desirable', 'implement', 'announcements', 'lull', 'Camp', 'tended', 'propaganda', 'aims', 'confronted', 'delicate', 'shifting', 'toughness', 'debates', 'illusion', 'Ideally', 'satisfy', 'willingness', 'briefly', 'Developments', 'inner', 'advisability', 'veto', 'Russians', 'fatal', 'disarmament', 'organs', 'Control', 'grave', 'demonstrated', 'pause', 'equation', 'initiative', 'conversations', 'exploit', 'mechanisms', 'shell', 'scheme', 'biology', 'wonder', 'ourselves', 'prone', 'unified', 'owe', 'protective', 'orientation', 'devotion', 'satisfying', 'comradeship', 'Had', 'wasteful', 'duplication', 'pitifully', 'qualifications', 'specialized', 'brand', 'Professors', 'e.g.', 'hiring', 'interests', 'paradox', 'grips', 'caliber', 'declines', 'Civil', 'depreciation', 'exaggerate', 'substitute', 'actual', 'artificial', 'structured', 'argue', 'allegedly', 'disputes', 'equivalent', 'abuses', 'rationale', 'heavy-electrical-goods', 'marginal', 'implicit', 'theory', 'managements', 'penalties', 'fundamental', 'unprecedented', 'rational', 'commodities', 'bags', 'agricultural', 'nineteenth-century', 'Parliament', 'combining', 'mechanics', 'necessity', 'monopolistic', 'measures', 'aimed', 'closed-door', 'Gore', 'erupted', 'chaos', 'stirred', 'tanks', 'artillery', 'embassy', '120', 'endure', 'Through', 'reacted', 'Chinese', '87th', 'gates', 'fought', 'swung', 'electors', 'whites', 'Cannon', 'shouted', 'lose', 'caucus', 'Committees', 'face-saving', 'filibuster', \"Senate's\", 'Rule', 'three-fifths', 'ante', 'Privately', 'Vice', 'declaration', 'presidency', '72nd', 'bogeyed', 'comfortable', '73', 'intact', 'three-round', 'erratic', 'mano', 'winnings', 'birdies', 'Starting', 'roar', 'thunderous', 'proceeded', 'fairways', 'boldness', 'four-wood', 'forget', 'drives', 'sublime', 'muscular', 'teammate', 'ridiculous', 'borrowed', 'major-league', 'grumble', 'home-run', 'athlete', '58', 'Greenberg', '108', 'enjoys', 'wished', 'alike', 'incredibly', \"Miller's\", 'reporter', 'surprising', 'Benched', 'Farrell', 'sportswriter', 'vowed', 'ties', 'dug', 'seconds', 'daring', 'conspired', 'grew', 'doubtless', 'Pentagon', '93', 'racing', 'interviewed', 'Chaplin', \"Europe's\", 'wealth', 'continent', 'Klees', 'trusted', 'Beyeler', 'glanced', 'Bootle', 'Hamilton', 'Chancellor', 'grads', 'Geneticist', '57', 'wildly', '2,100', 'unexpected', 'consequently', '1885', 'boundaries', 'ethnic', 'groupings', '13.5', 'administered', '1908', 'touched', 'paternalism', 'Brussels', 'ration', 'eat', 'la', 'detested', 'Kasai', 'premier', 'universal', 'Publique', 'seceded', 'Secretary-General', 'Tunisia', 'wars', 'three-month', 'Mobutu', 'withdrawing', 'Ladgham', 'Progress', 'Outer', 'Boeing', 'stewardess', 'stomach', 'Salvador', 'Carnegey', 'hijacked', 'pirates', 'guns', 'elder', 'radioed', 'McCauley', 'Mullen', 'airplane', 'baggage', 'Coolidge', 'Simmons', 'unarmed', 'requested', '1851', 'Idaho', 'citizenry', 'Higher', 'happening', 'preceding', 'tolls', 'Further', 'Turin', 'enables', 'Underwood', 'textile-producing', 'curbing', 'limiting', 'modernization', 'cheap', 'Wales', 'seams', 'fiction', 'sorry', 'nonfiction', 'budgets', 'maintains', 'Hempstead', 'interlibrary', 'bulk', 'catalogue', \"system's\", 'displays', 'educated', 'term-end', 'presentments', 'September-October', 'Durwood', 'Pye', 'hard-fought', 'Mayor-nominate', 'handful', 'outmoded', 'ambiguous', 'modernizing', 'inure', 'Merger', 'Purchasing', 'remedy', 'Implementation', 're-set', 'implementation', 'effected', 'swipe', 'foster', 'receives', 'proportionate', 'disable', 'Nevertheless', 'disproportionate', \"ordinary's\", 'appraisers', 'administrators', 'awarding', 'Wards', 'protected', 'incorporated', 'juries', \"court's\", 'wards', 'unmeritorious', 'Regarding', 'multi-million-dollar', 'influences', 'periodic', 'surveillance', 'concessionaires', 'Ask', 'intern', 'extern', 'equitable', \"Commissioner's\", 'Bellwood', 'Alpharetta', 'Pearl', 'mental', 'cruelty', 'Cheshire', 'amicable', \"wife's\", 'Opelika', '637', 'interlude', 'expires', 'reelection', 'Snodgrass', 'responses', 'Dorsey', 'picking', 'Savannah', 'Tower', 'dissents', 'hurdle', 'requesting', 'Lt.', \"Byrd's\", \"Caldwell's\", 'Rob', 'Ledford', 'Gainesville', 'Byrd', 'item', '$30', 'reconstruction', 'validity', '$3', '$4', 'intends', 'Schley', \"body's\", 'quickie', 'repealed', 'emphasizing', '87-31', '29-5', 'consistently', 'Mac', 'expended', 'specifically', 'tossed', 'hopper', '1,119', '402', 'calmest', 'Policeman', 'Being', 'threats', 'Callan', 'feared', 'Tabb', 'Everything', 'smooth', \"Daniel's\", 'protests', 'watered', 'Legislatures', 'Taxation', 'subcommittee', 'taunted', 'appearing', 'erase', 'deficit', '63', 'enforcing', 'republic', 'drafted', 'locate', 'Dewey', 'sounded', 'contractual', 'depositors', 'undermine', 'enact', 'Gaynor', 'Brady', 'Harlingen', 'unconstitutional', 'impair', 'Agency', '300,000', 'Deaf', 'Bexar', 'Tarrant', '$451,500', '$157,460', '$88,000', 'TEA', '182', 'scholastics', 'parimutuels', \"Berry's\", 'con', 'stake', 'ex-gambler', 'advocacy', 'ponies', 'sledding', 'meager', 'validated', 'enlarged', 'Navigation', 'amended', 'dissent', 'Schwartz', 'mentally', 'retarded', 'Money', 'meantime', 'Crump', 'Saba', '17,000', 'miscellaneous', 'notarized', 'Instead', 'correctness', 'Aikin', 'relieve', '$12', 'Natural', 'eminent', 'Owen', 'storage', 'reservoirs', 'Formby', 'Plainview', 'vacancies', \"Formby's\", 'appointee', 'lieutenant', 'referendum', 'Wesley', 'Seminole', 'kill', 'Texan', 'Hollowell', 'majorities', 'Opponents', 'intelligent', 'alleged', 'Wise', 'hamlet', 'shouting', '114', '$5,000,000', 'construed', 'Statements', 'sway', \"Cotten's\", \"bill's\", 'defenders', 'small-town', 'Buchanan', 'Dumas', 'Eligio', 'Kika', 'Garza', 'Mission', 'Newton', 'Sulphur', 'peanut', 'teaches', 'junior-senior', \"master's\", 'physics', 'math', 'Fifty-three', 'co-signers', 'regents', 'McLemore', 'Doctor', 'Master', 'Bachelor', 'letterman', 'athletic', 'Raymondville', 'instructor', 'professor', 'patrolman', 'Principals', 'Independent', 'recommendation', 'Strickland', 'culminating', 'desertion', '4.4', 'Virgil', 'Carson', 'Pirie', 'subsistence', 'decrease', 'Relatively', 'breakups', 'Extension', 'preserving', 'illegitimacy', 'indicating', 'startled', 'prelude', 'Alan', 'Clements', 'all-woman', 'Fears', 'leaned', 'inquired', 'admitting', 'free-for-all', 'devote', 'portions', 'aids', 'midmorning', 'text', 'Decisions', 'composition', 'minute', 'precipitated', 'dismissed', 'fundamentally', 'innocence', \"Karns'\", 'pertained', 'Contempt', '677', 'Issue', 'subpoenas', 'subpenas', 'intimidation', 'repeatedly', 'coercion', 'questioning', 'wrongful', 'privately', 'misuse', 'abuse', 'contempt', 'Faced', 'complementary', 'miscount', '33d', '42d', '31st', '21st', '28th', 'Claims', 'discharging', 'subpenaed', 'dismiss', '14.2', 'Cost', 'boosting', '$4,800', '6.5', '3.25', 'Similar', 'boosts', '7.5', 'levy', 'Outlays', '1.5', 'entail', '750', 'Nursing', 'stays', 'discharge', 'paid-for', 'hospital-care', 'outpatient', 'clinic', 'diagnostic', '240', 'drain', 'absolutely', 'discourage', 'malingering', 'overcrowding', 'socialized', 'prepayment', 'absolute', 'guaranteed', 'choose', \"Wouldn't\", 'ambitious', 'enlarge', '92', 'dentistry', 'Contributions', 'one-fourth', '5.1', 'constructing', 'enlarging', 'doubling', 'stimulatory', 'Asks', 'propose', '540', 'Reaction', 'aged-care', 'backed', 'Dirksen', 'Ind.', 'compulsory', 'enacted', 'prediction', 'fate', 'hastily', 'confirmed', 'ayes', 'noes', 'Customary', 'ignored', 'requiring', 'Enforce', 'Ore.', \"Eisenhower's\", 'selections', 'Ministers', 'freer', 'franker', 'proceed', 'candor', \"another's\", 'colonialist', 'nightmare', 'clash', 'exacerbated', 'tragedies', 'intellectually', 'emotionally', 'disapprove', 'conspicuous', 'absence', 'Explosion', 'avoided', 'Portugal', 'rumored', 'critics', 'harsh', 'remarkably', 'courteous', 'unchanged', 'UN', \"members'\", 'ad', 'hoc', 'allied', 'locomotive', 'Norway', 'manifestations', 'northernmost', 'sheet', 'diplomat', 'tenor', 'speeches', 'inconclusive', 'hastened', 'analysis', 'setbacks', 'Exploratory', 'vagueness', 'tactical', 'semipublic', 'accredited', 'popularity', 'tentative', 'exploratory', 'enunciate', 'scale', 'reiterated', 'profound', 'cornerstone', \"NATO's\", 'solemnly', 'repeated', 'affirmation', 'Conflict', \"secretary's\", 'rekindling', 'realization', 'wherever', 'globe', 'essence', 'geographical', 'impetus', 'directions', 'Cooperation', 'underdeveloped', 'deterrent', \"alliance's\", 'haltingly', 'erupts', 'docile', 'inspection', 'Cabinet', 'facto', 'modifications', 'compelled', 'excuses', 'confrontations', 'arises', 'aggression', 'Former', 'conciliatory', 'Gallup', 'understates', 'restrain', 'amateurish', 'monumental', 'blunders', 'correspondent', 'Thruston', 'R', 'susceptible', 'domination', 'assailed', 'Harvard', 'Brandeis', 'educators', 'Detente', 'pleads', 'exile', 'recommends', 'detach', 'detente', 'totalitarian', 'feeds', 'shipped', 'tolerated', 'fiasco', 'observer', 'blended', 'respected', 'professors', 'Aid', 'channels', 'formative', 'Strenuous', 'pin', 'pricking', 'sailing', 'Again', 'freeze', 'aided', 'build-up', 'contingency', 'coping', 'complication', 'suited', 'revolt', 'spark', 'hilt', 'trusting', 'relinquish', 'Fulbright', 'D', 'delinquency', 'assertion', 'assisted', 'asks', 'combating', 'disturbing', 'Offenses', 'multiply', 'coordinate', 'Simultaneously', 'Hackett', 'offenders', 'larceny', 'setup', 'appointing', 'outline', 'earliest', 'part-time', 'hire', '$3,500', 'defray', 'pertinent', 'centralized', 'Matching', 'procurement', 'radios', 'sirens', 'assign', 'Rumford', 'Race', 'Track', 'drive-in', 'assemble', 'drifts', 'examine', 'revisions', 'deputy', 'responding', 'urges', 'Legislative', 'appoint', \"Nugent's\", 'special-interest', 'affected', 'continuous', 'confronts', 'regulating', 'enforce', 'shirking', 'statutes', 'dating', 'colonial', 'severely', 'merchandise', 'Sabbath', 'shops', 'livelihood', 'declares', 'outlets', 'contended', 'Liberals', 'regrouping', 'lever', 'confessing', 'toolmaker', 'grooming', 'pooling', 'Screw', 'favors', 'squeeze', 'Indicating', 'bearing', '1,700', 'transferred', 'Fortin', 'Sr.', 'governs', 'referred', 'scheduling', 'solicitor', 'exact', 'justices', 'favoring', 'undoubtedly', 'inspiring', 'spearhead', 'non-partisan', 'insurgent', 'Increasing', 'Misunderstanding', 'pretenses', 'signers', 'affixed', 'plead', 'fines', 'SanAntonio', 'Abatuno', 'Sixth', 'hesitated', 'prosecute', 'simplest', 'R-Bergen', 'Campaigning', 'R-Warren', 'Scotch', 'chorus', 'forum', 'lifeblood', 'congealed', 'mediocre', 'decency', 'adminstration', 'closeness', \"fall's\", 'Regrets', 'regretted', 'inject', 'waged', 're-arguing', 'respond', 'applause', 'uses', 'surplus', 'Decries', 'joblessness', 'decried', 'unemployment', 'Republican-controlled', 'Mack', 'Truck', 'unhappy', 'barbs', 'crises', 'Defends', 'Earlier', \"president's\", 'insult', 'overwhelmingly', 'peace-loving', 'vicious', 'origin', 'condemning', 'rebound', 'discredit', 'Sees', 'R-Cape', 'opponents', 'addressing', 'Military', 'Newark', \"Party's\", 'campaigning', 'giveaway', 'prop', 'proven', \"Jersey's\", 'witnessed', 'transfer', \"Case's\", 'Copeland', '330', 'Woodland', 'Supervisor', 'Weldon', 'ballots', 'lip', 'financing', 'repay', '1964', 'mandatory', 'impinging', 'distasteful', 'transcended', 'Freeholder', 'vacancy', 'Duffy', 'preferably', 'fits', '36', 'Salvatore', 'Bontempo', 'forest', 'graduation', 'forestry', 'lumber', 'fire-fighting', 'plows', 'modernized', 'briefing', 'co-operation', 'Boonton', 'pledge', 'Puddingstone', 'glad', 'resolve', 'tripping', 'slogans', 'elect', \"Republicans'\", 'feeble', 'courageous', 'piracy', 'bloodstream', 'infiltrating', '1940s', 'Calling', 'breathes', 'springboard', \"Meyner's\", 'tracts', 'onrush', 'underwrite', '$45', '$15', 'alloted', 'municipalities', 'conquer', 'conserve', '125,000', 'changing', 'misconstrued', 'sympathetic', 'explicit', 'tangle', 'Fifteen', 'colleagues', 'expire', 'carved', 'wooden', 'ivory', 'tusks', 'retirements', 'Geraldine', 'stepping', '1920s', 'Resentment', 'welled', 'Abraham', 'Opposition', 'induce', 'Levitt', 'Mayoral', 'last-minute', 'slate', 'Sharkey', 'Carmine', 'choices', 'assent', 'dropping', \"Gerosa's\", 'Abe', 'Stark', 'incumbent', 'Irish', 'Counties', 'Feis', 'published', \"yesterday's\", 'tangible', 'revulsion', 'visitor', 'writes', 'alienated', 'corrupt', 'selfish', 'plunder', 'Corruption', 'locale', \"O'Connor's\", 'Hurrah', 'succession', 'publicized', 'scandals', 'Graft', 'investigations', 'ethical', 'reader', 'chicanery', 'norm', 'Works', '$8,555', 'waterfront', 'contrasting', 'Southern-Republican', 'jockeying', 'aid-to-education', \"panel's\", 'siding', 'Leadership', '$6,100,000,000', 'forty-year', 'down-payments', 'moderate-income', 'slums', 'stalled', 'balking', 'amending', 'private-school', 'public-school', 'clears', '$40,000,000', '$26,000,000', 'Twelve', 'contract-negotiation', 'Boyce', 'Interviews', 'protested', 'overseas', 'Missionary', 'shrugged', 'Same', 'church-state', 'Can', 'separation', 'Sargent', 'Shriver', 'forswears', 'proselytizing', 'Sukarno', 'beaming', 'jesting', 'expansive', 'banker', 'uncommitted', '$1,000,000,000', '6,000', 'amid', 'intensified', 'puts', '400,000,000', 'Formula', 'Administrative', 'Budgetary', 'Questions', 'understood', 'ninety-nine', '10,000,000', '30,000,000', 'cut-off', 'unite', 'war-ridden', 'Boun', 'Oum', 'neutralists', 'Souphanouvong', 'half-brothers', 'delegations', 'nineteenth', 'plenary', 'fourteen-nation', 'Princes', 'diplomats', 'conceded', 'overly', 'Tactics', 'Averell', 'Harriman', 'Malcolm', 'Couve', 'Murville', \"France's\", \"Canada's\", 'External', 'consultations', 'tactics', 'Moune', \"Phouma's\", \"Princes'\", 'cordial', 'Laotians', 'six-point', 'Appointment', 'Times-Picayune', 'Publishing', 'Tims', 'Fortier', 'Soule', '1942', 'Belleville', 'wholesale', 'Audrey', 'Knecht', 'Karol', 'reside', '4911', 'Thousands', 'bleacher-type', 'inaugural', 'Assuming', 'halfway', 'thoroughfare', 'oath-taking', 'ceremonial', 'Columbia', 'viewpoint', 'shrines', 'monuments', '1600', 'seven-stories', 'chapters', '169', '5000', 'suffragettes', 'Seats', 'Between', '1865', 'Archives', 'Edgar', 'Hoover', 'presides', 'tracks', 'powered', 'occupying', 'statues', 'Moving', '16,000', 'academies', 'representations', 'Marines', 'Islands', 'Guam', 'Samoa', 'trust', 'territories', 'Canal', 'Zone', 'governmental', 'observing', 'script', 'gazing', 'unpredictability', 'guessing', 'Consequently', 'Could', 'settle', 'rough', 'edges', 'builtin', 'headache', 'job-seekers', 'eight-year', 'quest', 'Certainly', 're-enactment', 'strange', 'Districts', 'companionship', '$22.50', 'diem', 'agitating', 'withstand', 'focused', 'redistricting', 'longstanding', 'crossroads', 'Split', 'loyalists', 'independents', 'wreck', 'Future', 'titular', 'reestablish', 'loyalist', 'functionary', 'solidarity', 'US', 'Sens.', 'Eastland', 'Stennis', 'loyal', 'Reports', 'stripped', 'flows', 'Baton', 'Rouge', 'Jimmie', 'harmony', 'stresses', 'troublesome', 'vexing', 'hike', 'tardiness', 'suspect', 'contributing', 'defeat', 'effectiveness', 'inconsistencies', 'determining', 'muster', 'reconvenes', 'normalcy', 'terminate', 'towel', 'so-far', 'politicos', 'acknowledge', 'ineffectual', 'Underlying', 'Passage', 'consonance', 'acute', 'dilemma', 'constitution', 'forbids', 'introduction', 'inflate', 'Constant', 'stab', 'raiser', 'unpleasant', 'alternatives', 'arouse', 'trims', 'exert', 'receptive', 'economize', 'allegations', 'imprudently', 'house-cleaning', 'combat', 'Frankford', 'Elevated', 'contracting', 'Estimates', '$344,000', '$200,000', 'Shortcuts', 'unnoticed', 'Erection', 'impossibly', 'legitimate', 'shortcuts', \"Controller's\", 'rigging', '$172,400', 'covering', 'Transportation', 'signature', 'Property', 'vouchers', 'certifying', 'Managing', 'Concern', 'Consolidated', 'Industries', '3646', 'Crumlish', 'Intervenes', 'Common', 'Pleas', 'bonding', 'Travelers', 'Indemnity', 'Casualty', 'intervened', 'preliminary', 'overhauling', '102', 'Wide', 'repairs', 'Belanger', 'Sons', 'Cambridge', '$2400', '$3100', '$37,500', \"Can't\", 'Hooked', '$172,000', 'transit', 'Certain', 'occupancy', '1000', '$5000', 'Testifies', '$740,000', '$2,330,000', 'multi-family', 'accomodations', '$457,000', 'Kaplan', 'Councilwoman', 'pedigreed', 'males', 'females', 'replies', 'penalized', 'Leary', '$115,000', 'regulate', '$43,000', '$67,000', 'S.P.C.A.', 'catchers', 'bites', 'Backs', 'indorsed', 'compensated', 'Licenses', 'Inspections', 'Barnet', 'Lieberman', 'Gillis', 'Petitions', 'Norristown', 'Horace', \"Barnard's\", 'Dannehower', 'Hess', 'Victim', 'Stansbery', 'reprimanded', 'violating', 'redevelopers', '$300,000,000', 'Area', '1311', '$12,192,865', 'bounded', 'Dicks', '61st', \"Authority's\", 'garden', 'Metal', 'builder', '520-acre', 'west', 'bar', 'Constantinos', 'Doxiadis', 'Reconstruction', 'planner', 'sectors', 'barred', 'vehicular', 'landscaped', 'walkways', 'two-and-a-half-mile', 'eliminates', 'Grovers', 'severly', 'tore', 'Battalion', 'Stanton', 'representation', 'fractures', 'Ignition', 'sets', 'battalion', 'ignition', 'hood', 'flying', 'roof', 'device', 'TNT', 'nitroglycerine', \"car's\", 'starter', 'Led', 'organizing', 'bombing', \"association's\", 'Kas.', 'secretary-treasurer', 'Ankara', 'Turkish', 'bowed', 'Cemal', 'indecisive', 'coup', \"d'etat\", 'By-passing', 'overthrow', 'Adnan', 'Cedvet', 'Sunay', 'protocol', 'pledges', 'Desmond', 'Connall', 'Northwestern', 'Helping', 'economically', '350', 'congenial', 'ours', 'ritiuality', 'loyalty', 'Patience', 'Insuring', 'detriment', 'patience', 'peoples', 'compare', 'extraordinarily', 'Economically', 'Private', 'absorb', 'towards', 'coordination', '1409', 'Maplecrest', 'Mears', 'whatever', 'disaster', 'evacuate', 'reiterating', 'please', 'evacuation', \"Lowe's\", 'instructed', 'capitol', 'Emerald', 'Kiwanis', 'swearing', 'Bryson', 'Washington-Oregon', 'examined', 'blueprints', 'specifications', '900-student', '6-3-3', '8-4', '$581,000', '$25-a-plate', 'Blaine', 'Whipple', 'Edith', 'Ullman', 'Nilsen', 'Schrunk', 'Water', 'Polls', 'Salter', 'Huffman', 'five-year', 'Brod', 'Njust', 'Bubenik', 'Hugh', 'Stout', 'Seeking', 'Culbertson', 'Steeves', 'Piersee', 'W.M.', 'Sexton', 'Heitschmidt', 'grasp', 'Coliseum', 'dependence', 'bulwark', 'fundamentalism', 'truths', 'clarification', 'scriptures', 'Testament', 'verbally', 'inspired', 'revelation', 'infallible', 'authoritative', 'Diety', 'Jesus', 'sinless', 'miracles', 'substitutionary', 'cross', 'bodily', 'resurrection', 'exaltation', 'Super', 'reelected', 'Springfield', 'nominating', 'missions', 'Surveys', 'loses', 'Talking', 'upwards', '1-1/2', '7,000', '10,000', 'vision', '8,000', 'necessitate', \"church's\", 'capsule', 'Encouraging', 'strategic', 'Surrounding', 'pastors', 'laymen', 'Arranging', 'ministerial', '6-12', 'apprentices', 'well-established', 'Dist.', 'Denials', 'denying', 'trials', 'linking', 'Proof', \"Weinstein's\", 'Burbank', 'conpired', 'deferred', 'Major-League', 'Indications', 'draught', 'coasted', '3-to-o', 'yielding', 'submarine-ball', 'hurler', 'batters', 'existed', '3-to-3', 'solo', 'Catcher', 'nab', 'Heywood', 'relieved', \"Cipriani's\", 'Shortstop', \"Adair's\", 'powderpuff', 'blows', 'offerings', '767', 'three-inning', 'merited', '6-foot-3-inch', '158-pounder', \"Orioles'\", 'safeties', 'escaping', 'Whitey', 'Herzog', 'fielded', 'pinch-hitters', 'grass', 'fouling', '2-and-2', 'pitches', 'Buddy', '2-hour-and-27-minute', 'Russ', \"Snyder's\", 'errs', \"Throneberry's\", 'runners', 'batter', 'romped', 'blasted', \"Hyde's\", '415', 'Singles', 'slow-bouncing', 'rapped', \"Tuttle's\", '390-foot', 'Grapefruit', 'ripened', 'belated', '49', 'rookie-of-the-year', '5-to-3', '3-inch', 'melt', 'breaks', 'hence', 'inducted', \"Hansen's\", 'Seeks', 'rangy', 'Cal.', 'slugging', 'sensation', 'hitters', 'prior', 'two-game', 'Skinny', 'Hoyt', 'Wilhelm', \"Flock's\", 'knuckleball', 'specialists', 'slated', \"tomorrow's\", 'Ryne', 'Roland', '15-1', \"Yanks'\", 'Auburn', 'Class-D', 'York-Pennsylvania', 'Twenty-one-year-old', 'Pappas', \"Bombers'\", 'Ditmar', 'Dimaggio', 'famed', 'Clipper', 'Squad', 'Pitcher', 'completing', 'accelerated', 'wintertime', 'bulky', 'spring-training', 'contingent', 'Richards', 'streamlined', 'Bird', 'sacker', 'third-inning', 'left-centerfield', 'celebrate', \"Robinson's\", 'Connie', \"Brooks's\", 'festive', 'expired', 'seven-hit', 'hurlers', 'nightfall', 'MacPhail', 'Iglehart', 'boarding', 'inflicted', 'Ex-Oriole', 'Courtney', 'catching', 'shouldda', 'Tokyo', 'Scrapiron', \"we'd\", 'someplace', 'Bowie', 'Gaining', 'Small', \"Jr.'s\", '3-year-old', 'filly', 'downed', 'colts', '$4,500', '$7.20', 'Toying', 'Jockey', 'Grimm', '3-5', 'furlongs', \"Forbes's\", 'Paget', \"Hallowell's\", 'Milties', 'brisk', 'Patty', 'celebrants', '$842,617', 'well-prepared', 'apprentice', 'Verrone', 'crowding', 'horses', 'Culmone', 'mating', 'Better', 'Rosy', 'Fingered', 'claiming', 'swift-striding', 'Jamaican', '600-yard', 'Knights', \"Purdue's\", '1.10.1', 'clocking', '1.09.3', 'quarter-mile', 'king', '1.10.8', 'Mal', 'Whitfield', 'thirds', 'straightaway', '1.10.4', 'twenty-first', 'indoor', 'thrill', 'bespectacled', 'one-week-old', 'Butcher', 'Chardon', '27-year-old', '2.21.6', 'snapped', 'tenths', 'Shipley', 'Wellsley', 'A.A.U.', '49ers', 'undergo', 'swelling', 'Kubek', 'eleventh', 'unearned', '5-to-2', 'Eldon', '26-year-old', 'nose', 'pads', 'Bowl', 'string', 'astray', '41-8', 'slaughter', 'roster', 'lettered', 'Darrell', 'place-kicker', '208-pound', '1-inch', 'thigh', 'Anson', '3-0', '135', 'hampered', 'ailing', 'statistical', 'punted', 'scholastically', 'ineligible', \"there's\", 'Practice', 'swing', 'kicks', 'kinda', 'Footnotes', '469', 'Tailback', 'surpassed', 'netted', '271', '273', 'second-half', 'uncorked', '56-yard', 'Wingback', \"conference's\", 'prevailed', 'Mustangs', '9-7', \"we've\", 'Richey', 'Cudmore', 'gratification', 'fumble', 'Arshinkoff', \"Falcons'\", 'thrusts', 'fourth-down', 'Mustang', 'incomplete', \"Gannon's\", 'Isaacson', 'crucified', 'nailed', 'yard', \"Force's\", 'McNaughton', 'intercepted', '44', 'doubtful', 'ligament', 'injuring', 'scrimmaged', 'scrimmage', 'taper', 'Owls', 'Huddle', 'hearsay', \"Tech's\", 'sweat-suits', 'drill', 'Stafford', 'undergoing', \"Raiders'\", '38-7', 'rain', 'Raesz', \"Owl's\", 'LSU', 'Nichols', 'idleness', 'Hargett', 'Halfback', 'Priddy', 'slowly-mending', \"TCU's\", '19-12', 'Broncos', \"Stram's\", 'pre-season', 'reckonings', 'collectors', 'quarterbacks', 'productive', 'ex-National', '22-12', 'upset', 'Oilers', 'Exclaimed', 'mutter', 'fullbacking', 'Spikes', 'interior', 'linebackers', 'Quarterback', 'Davidson', 'touchdowns', 'Abner', 'Haynes', 'flashy', 'ball-carriers', '145', 'comforting', \"Denver's\", 'Carmichael', 'jarred', 'Grayson', 'speedy', 'quipping', 'dent', '545-yard', '3-game', '1,512', '1,065', 'SWC', 'tosses', 'TCU', '38-point', 'bulge', 'Completing', '174', '361', 'leads', 'per-game', '355', '149', \"Baylor's\", '126', '187.5', '189', '34.7', 'unofficial', 'liveliness', 'baseballs', 'pinpoint', '5-3', 'husky', '205-pound', 'command', 'on-the-scene', '949', \"Nischwitz'\", \"Grizzlies'\", 'Louisville', \"Bear's\", 'gruonded', 'Alusik', \"Wert's\", 'smash', 'putout', 'leftfield', \"Shartzer's\", '3-hitter', 'bunched', 'Pavletich', \"Gaines'\", 'roller', 'Gaines', '45-degree', 'clicked', 'Chico', 'Ruiz', 'grounder', 'Bingles', 'bobbles', \"Tribe's\", \"season's\", 'refocusing', 'flooded', 'dark', 'Dobbs', 'organ', 'Patti', 'Waggin', 'Wyman', 'Tsitouris', 'Donnelly', 'Muskegon', 'lightweight', 'Rip', 'Randall', 'Paul-Minneapolis', 'eluded', 'diving', 'Minoso', '6-5', 'liner', '5777', 'Turk', 'Lown', 'tagged', 'Bertoia', 'chopper', 'Lenny', \"Green's\", '5-4', 'Sievers', 'Camilo', 'Carreon', \"Landis'\", '380-foot', '1-0', 'Harmon', 'Killebrew', 'bottom', 'Allison', \"Smith's\", '340-blast', \"Carreon's\", \"Allison's\", 'run-scoring', '2-baser', 'Outfielder', 'newsman', '25th', 'walkout', 'at-bats', 'Nev.', 'Diving', 'Zoe', 'Olsen', 'awaited', 'hurting', \"Boston's\", 'streamliner', 'Writer', 'Ensign', 'Examiner', \"You'll\", 'magazine', 'double-crosser', 'keyhole', 'Traveler', 'Suddenly', 'grip', 'pops', 'heroics', 'wagging', 'retaliating', 'record-tying', '4-homer', 'feats', 'embossed', 'rightfully', 'pastime', 'cherished', 'achievements', 'elderly', \"Spahn's\", 'hitless', 'hearts', 'stimulant', 'guys', '2-score-year', 'Wish', 'top-grade', 'waved', 'laurels', 'all-time', 'lefthanders', 'Hubbell', 'Herb', 'Pennock', 'Nehf', 'Gomez', 'et', 'al', 'gentlemanly', 'beardown', '18,792', 'Spahnie', 'Enos', 'walloped', 'Lowe', 'Gil', 'trick', \"Brooklyn's\", 'Ebbetts', 'Delahanty', 'Klein', \"Braves'\", 'Adcock', 'Seerey', 'Rocky', 'Colavito', 'revived', 'boils', 'anti', 'pro-Yankee', '30-30', \"Mickey's\", 'anemic', 'windy', 'Candlestick', \"Milwaukee's\", 'forever', 'distressing', 'Denver-area', 'Howsam', 'blacked', 'blackout', 'rulers', 'Athletic', 'helpless', 'CBS', 'abide', 'afternoons', 'irritable', 'harm', 'purposely', \"Howsam's\", 'video', 'terminated', '5-game', 'romp', 'outclassed', 'crushing', 'humiliating', '13-5', 'barrage', 'loosely', 'finale', 'champs', 'mounted', '15-hit', 'replacement', 'routed', 'loser', 'Hector', 'Lopez', 'subbing', 'smashed', '3-run', 'Yanks', '32,589', 'applaud', 'Momentarily', 'trailing', 'fizzled', 'Edwards', 'fouled', 'Wally', 'Daley', '11-5', 'Bucky', 'boy-manager', '1924', 'Eddie', 'Dyer', 'Buck', 'Choice', \"Brocklin's\", 'aerials', 'advocate', 'balanced', 'lineman', 'Jock', 'Sutherland', 'quit', 'Rensselaer', 'Polytechnic', 'Troy', 'rejoining', 'auspiciously', 'Dilworth', 'engrossed', 'cufflinks', 'shaped', \"night's\", 'thirty-eighth', \"Writers'\", \"Wagner's\", 'dais', 'Journal-American', 'columnist', 'Epstein', 'Good', 'meritorious', 'Slocum', 'Sid', \"chapter's\", '1,400', 'lampoon', 'skit', '53-year-old', 'imminent', 'Named', 'Farley', 'Blume', 'relentlessly', 'departure', 'disappointments', 'convince', 'Branch', \"Rickey's\", 'Shipman', 'Payson', 'big-league', 'lease', \"Shea's\", 'prominently', 'Nori', 'Sands', 'Georgetown', \"Collins'\", 'most-valuable-player', 'Hamey', 'Writers', 'money-winner', 'saluted', 'Cup', 'Dublin', 'Deane', 'Beman', 'Amateur', 'Gardner', 'title-holder', \"writers'\", 'Tee', 'charity', 'Horton', 'Golfers', 'comeback', 'Symington', \"Golf's\", 'twelve', 'heralded', 'Rochester', 'Athlete', 'diamond-studded', 'Hickok', 'endeared', 'duffer', 'flubbed', 'monstrous', 'par-5', 'brooding', 'incompetents', 'meditating', 'abandonment', 'despair', 'paragon', 'commit', 'sacrilege', 'self-sacrifice', 'yen', 'downtrodden', 'motivated', 'victimized', 'athletics', 'aggravates', 'crusher', 'boomed', '280-yard', 'pixies', 'zombies', 'banshees', 'wailed', '508-yard', 'arc', 'out-of-bounds', 'sliced', 'hooked', 'over-corrected', 'ruefully', 'wayward', 'nice', 'perturbed', 'heartening', 'evil', 'heyday', 'hackers', 'Ainsley', 'drank', 'rock-strewn', 'gully', 'Stickler', 'excavation', 'Thirteen', 'Nae', 'ye', \"countin'\", 'echoes', 'honestly', 'Nor', 'loophole', 'code', 'thoroughly', 'handy', 'brook', 'flowed', 'floated', 'downstream', 'playable', 'lie', 'Dey', 'grin', 'nicer', 'relieves', 'jangling', 'banjo', 'fiercest', 'bull', 'head-on', 'twelfth', '155-yarder', \"Arnold's\", 'burrowed', 'guarding', 'embankment', 'spongy', 'rains', 'Ruling', 'embedded', 'golfing', 'fathers', 'god-like', \"football's\", 'fame', \"players'\", 'amendments', 'fourteen-team', 'home-and-home', 'lengthening', 'Rozelle', 'Nine', \"league's\", 'early-season', 'heed', 'misled', \"Pirates'\", 'slower', 'outclass', 'Vinegar', 'Shantz', '9-6', '7-9', 'Change', \"Broglio's\", 'won-lost', 'earned-run', \"Redbirds'\", 'disheartening', '11-7', 'collapse', \"Thursday's\", 'Cubs', 'flu', 'Cardinal', 'suffering', 'stiff', '13-8', '1-3', 'Vern', \"Wednesday's\", 'lengthy', 'five-home', 'sore', 'Lindy', 'groove', 'Bucks', \"Bucs'\", 'quieted', 'Smoky', 'Gino', 'Cimoli', 'Clemente', 'Groat', 'Hoak', 'Skinner', 'unhappiest', 'sit', 'blasting', 'plunkers', 'Bucs', '11-3', '7-6', 'two-season', 'fall-off', '3-10', '4-13', \"'49\", '5-5', '12-17', '96', \"'52\", 'Cards', '6-7', '88', 'tumbled', '11-18', 'runaway', 'Dodger', '21-2', 'nine-game', 'overcame', \"York's\", \"'51\", 'Speakers', 'Tipoff', 'lavish', '6-foot-10', \"other's\", 'pepping', \"We'd\", 'halftime', \"'em\", 'most-valuable', 'Broeg', 'Post-Dispatch', 'commended', 'clutch', 'all-round', 'ball-hawking', \"U.'s\", 'faults', 'admired', \"Gordon's\", 'bowl', 'thank', \"coach's\", 'Burnes', 'Globe-Democrat', 'healed', \"Louis's\", \"Bill's\", 'inscription', 'Outstanding', 'Contribution', 'Basketball', '1960-61', 'lettermen', 'compiled', '21-9', 'runner-up', 'Invitation', 'Hambric', 'Donnell', 'Reid', 'Luechtefeld', 'Latinovich', \"teams'\", 'pitched', '5-1', 'Crystal', 'defeats', 'Len', 'Boehmer', '4-for-5', 'Ligget', 'Teachers', '3:30', 'doubleheader', 'Quincy', 'contented', 'cows', 'milk', 'expectations', 'knock', \"they've\", 'bull-necked', 'switch-hitter', 'sensational', 'triple-crown', \"rbi's\", '130', 'terror', 'belted', '51', '127', 'happier', 'behaving', 'peaks', 'professionals', 'spelled', 'fifteenth', 'possessing', 'enabled', 'reserving', 'resented', \"Stengel's\", 'prod', 'possessive', 'Rizzuto', 'Class', 'Joplin', \"Ol'\", 'homerun', 'hitter', 'bunter', 'base-runner', 'bubble', 'gum', 'sow', 'oats', 'Inheriting', 'sights', 'bestowed', 'pun', 'mantle', 'continues', '162-game', '10-team', 'inviting', 'Wrigley', 'glamorous', 'Commies', 'walloping', 'Next', 'Durocher', 'taught', 'grass-green', 'Romantic', 'concerns', 'Hampton', 'Barrett', 'Wendells', 'Sarasota', 'Kirkland', 'Westminster', 'measles', 'Missoula', 'Mont.', 'Camilla', 'Alsop', 'bulletins', 'Turandot', 'Birgit', 'Nilsson', 'starred', 'Housed', 'adds', 'Belafonte', 'off-beat', 'Sulcer', 'Winnetka', 'Parichy-Hamm', 'Bruce', \"Bernadine's\", \"Beadles'\", 'Beadles', 'Kenilworth', 'uncles', 'aunts', 'Rush', 'Butlers', 'Homer', 'Robertsons', 'Q.', 'Porters', 'bridal', \"Stevenses'\", 'fete', 'Lawn', 'Tennis', '5:30', \"Kramer's\", 'tennis', 'loud', 'huzzahs', 'Presbyterian-St.', \"Luke's\", 'ringing', 'ears', 'Tieken', 'acclaim', 'embassies', 'oriental', 'Industry', 'Djakarta', 'whirling', 'dervishes', 'obstacle', 'globe-girdling', 'smoothed', 'Syria', 'Egypt', 'Arab', 'visa', 'Manila', 'Beirut', \"Geraghtys'\", 'bows', 'Passavant', 'Cotillion', 'cotillion', \"Molly's\", 'folk', 'singers', 'sing', 'songs', 'Balkan', 'Harveys', 'Racquet', 'Abra', \"Prentice's\", 'Casino', 'Burke-Rostagno', \"Burkes'\", 'Aldo', 'Rostagno', 'Guglielmo', 'Rostagnos', 'Kankakee', \"Hall's\", 'fiance', 'translates', 'farewell', 'Giacomo', 'Profili', 'canceled', 'surgery', 'Odell', 'Holabird', 'Boothby', 'Actress', 'Affaire', 'Towne', 'Bal', 'Masque', 'Germania', 'crabapple', 'Columnist', 'Winchell', 'rat-a-tat-tatty', 'trains', 'rancho', \"W.'s\", \"ain't\", 'Sunny', 'Ainsworth', 'Tommy', 'Manville', 'Arvey', 'Playboy-Show-Biz', \"She's\", 'shelters', 'stein', 'pubs', 'nights', 'ethics', 'morals', 'Comic', 'scoop', \"Russell's\", 'Skylark', 'sellout', 'warbling', 'pain', \"medico's\", 'injection', 'inflamed', 'nerve', 'Simonelli', 'Universal-International', \"bulletin'd\", 'Rosemary', 'Strafaci', 'Mag', 'Handsome', 'bachelor', 'gals', 'Aiding', 'Leukemia', 'Stricken', 'low-down', 'phonies', 'phones', 'solicit', \"Danny's\", 'Jude', 'staging', 'underprivileged', 'contribs', '7599', 'solicits', 'dough', 'Olivia', 'Havilland', 'Kanin', 'Gift', \"She'll\", 'Gotham', 'Gorgeous', 'Doris', 'producer-hubby', 'Marty', 'Melcher', 'U-I', 'Rackmil', 'Carnegie', 'exhibitors', \"It'll\", 'screenings', \"Doris'\", 'Lover', 'Come', 'Drum', 'Song', 'Whee', 'Lovely', 'Thrush', 'Annamorena', 'hubby', \"Lenobel's\", 'fur', 'Typical', 'Freddie', 'Wacker', 'frau', 'Jana', 'ex-singer', \"Wackers'\", 'Fur', 'goodness', 'sake', 'Emcee', \"Nixon's\", 'slogan', 'Knight', 'Brain', 'worthiest', 'Bet', \"darlin'\", 'dazzler', 'Paree', 'Genevieve', 'Trager', 'Yards', 'Jump', 'Packs', \"Nobody's\", \"ol'\", 'baseballight', 'Bernie', 'Kriss', 'bayonet', 'clashes', \"Berlin's\", 'Brandenburg', 'Sentry', 'jotted', 'dept.', 'Khrush', \"They're\", 'contaminating', \"earth's\", 'megaton', 'bombs', 'peasants', 'Luthuli', 'struggles', 'Hmpf', 'frothier', 'Weissmuller', 'telephoned', 'muttered', 'Snapped', 'glib', 'garrulous', 'sidled', 'guttural', 'frightening', 'yodel', 'dynamite', 'flicker', 'Loop', 'masterful', \"Veeck's\", 'dynamo', 'medics', 'doings', 'Tribune', 'misses', 'Ticker', \"Fardulli's\", 'Angel', 'crazy', 'Twist', \"They'll\", 'lessons', 'pronto', 'Lorenz', 'probate', 'deposit', 'dies', 'furnished', 'Uhles', 'suites', 'genial', 'Beginning', 'nightly', 'Hackstaff', 'Luette', 'celebrates', 'Sheila', 'Mercy', 'Kittredge', 'w.', 'McIntosh', 'Buell', 'Vroman', 'Manzanola', 'Plaza', 'Merrill', 'Brig.', 'McDermott', \"Officers'\", 'Cocktail', 'Piero', 'Luise', 'Emilio', 'Bassi', 'Bassis', 'stag', 'precede', 'Betsy', 'Bldg.', 'Neusteters', 'Teter', 'Mead', 'Wright', 'Pate', 'Bernet', 'Rollie', 'Butler', 'Carr', 'Campbell', 'Cris', 'Dobbins', 'Glass', 'Hicks', 'Magarrell', 'Willett', 'Myron', 'Neusteter', 'Sudier', 'Welborn', 'Kira', 'R.L.', 'E.O.', 'Scarsdale', 'smile', 'compassionate', 'Esther', '1200', 'Larimer', 'pert', 'gray-haired', 'Mom', 'link', 'gulf', \"Marr's\", 'mat', 'Skid', 'Row', 'decides', 'sees', 'cup', 'steaming', 'awaiting', 'chat', 'informally', 'presents', 'Usually', 'withdrawn', 'relearns', 'mingle', 'Denverite', 'bum', 'beggar', 'sporting', 'sweets', 'readjust', 'mid-June', 'vast', 'safari', 'motel-keepers', 'bleak', 'Vacancy', 'suitcases', 'comic', 'reared', 'grandma', 'summertime', 'onslaught', '7-day', '2809', 'influx', 'testify', 'Scots', 'heather', 'wagons', 'roadside', 'restaurants', 'souvenir', 'snake', 'boasting', 'far-flung', 'over-night', 'motel-keeping', 'tastes', 'peculiarities', 'advertises', 'vented', 'carpeted', 'Innumerable', 'swimming', 'hospitable', 'poised', 'brink', 'Motorists', 'tourists', 'accommodated', 'village', 'luxury', 'fast-grossing', 'Boxwood', 'Winchester', 'accidentally', 'wall-to-wall', 'carpeting', '24-inch', 'bath', 'towels', '$8.50', 'tab', 'pressed-paper', 'Oxnard', 'Judith', 'Ellen', 'Munger', 'Ferris', '7034', 'bridegroom', 'Baines', 'Monica', 'UCLA', 'Theology', 'Honor', 'attendants', 'Sandra', 'Branum', 'McRoberts', 'Sequoia', 'Frances', 'Elvis', 'Semmes', 'Gamma', 'Mortar', 'Alton', 'Cater', 'Parmer', 'Alpha', 'Tau', 'Omega', 'Sigma', 'Pi', 'Grahamstown', 'Fellowship', 'Pabor', 'Hand', 'court-length', 'accented', 'appliques', 'gardenias', 'bridesmaids', 'Dawson', 'Hinsdale', 'Reeder', 'Cecil', 'Conn.', 'groomsmen', 'McEachern', 'Neumann', 'Mayfair', 'newlyweds', 'Arlington', '2705', 'Fitzhugh', 'Floresville', 'Beam', 'featuring', 'flared', 'headdress', 'orchids', \"sister's\", 'Lewelleyn', 'Lovelace', 'Cedric', 'Burgher', 'Marcile', 'Loving', '8861', 'Gaston', \"Woman's\", 'Night', 'gayety', 'colorful', 'hospitality', 'excitement', 'Beat', \"Lanin's\", 'Louchheim', 'globetrotter', 'specialties', 'Scenic', 'scenic', 'grillwork', 'Hollander', 'Brothers', \"Shop's\", 'bric-a-brac', 'shelves', \"shop's\", '1213', 'Bundle', 'suburbs', 'deposited', 'dinners', 'Bernhard', 'Blumenthal', 'fund-raisers', 'Agencies', 'competence', '$840,000', 'husbands', 'Glazer', 'staffing', 'Kapnek', 'Newburger', 'hostesses', 'Loeb', 'Lichtenstein', 'secretarial', 'Kaufnabb', 'Weinberg', 'Goodman', 'controllers', 'Quell', 'admittance', 'P.m.', \"David's\", 'pre-Fair', 'dessert', 'Wilkinson', 'Coles', 'Lacy', 'Chance', 'Harcourt', 'Moller', 'Zeising', 'Kilhour', 'Cauffman', 'Baringer', 'Clyde', 'Newman', 'Natalie', 'Collett', 'Newbold', 'commentator', 'Models', 'Meyle', 'Hole', 'Harrity', 'Kloman', 'Wolcott', 'Boyd', 'Mrs', 'Putt', 'Col.', 'Clifton', 'Lisle', 'invites', 'camping-out', 'year-round', 'sub-zero', 'temperatures', 'Cotty', 'Felske', 'Meet', 'Artist', 'sculpture', 'preview', 'sponsors', 'Proceeds', 'Noted', 'Tyson', 'Delaware', 'Valley', 'Marc', 'Shahn', 'Nicholas', 'Marsicano', 'Loen', 'Avery', 'portrait', 'wins', 'Wissahickon', 'fund-raiser', 'co-chairmen', 'Assisting', 'Malmud', 'Fernberger', 'Cushman', 'Berton', 'Korman', 'Jacques', 'Zinman', 'Kamens', 'Langsdorf', 'Liss', 'Blumberg', 'Bregman', 'Kershbaum', 'Sabol', 'Volney', 'Ludwick', 'Evans', 'Kimbolton', 'Rockhall', 'App', 'Voorhees', 'Coulson', 'Fairless', 'Glennon', 'Brigantine', 'Eileen', 'Heinze', 'Lehner', 'Ingo', 'Dussa', 'Bietnar', 'Haaek', 'Brelin', 'Hoaps', 'Delray', 'Clearwater', 'Cmdr.', 'USN.', 'Greenwich', \"latter's\", 'Walbridge', 'DeForest', 'Newtown', 'Ashman', 'Merner', 'Bermuda', 'Godwin', 'Nell', 'McGehee', 'Stella', 'Hayward', 'Tulane', 'Epsilon', 'fraternity', 'Majesties', 'jointly', 'Shrove', 'Rex', 'hosts', 'Walkers', \"McConnell's\", 'Socola', 'Waveland', 'Vieux', 'Carre', 'honoree', 'Dane', 'Katherine', 'Sweet', 'Briar', 'rejoin', 'Achaeans', 'masquerade', 'Muncipal', 'Misses', 'Irwin', 'Leatherman', 'Robinsonville', 'Helene', 'Rowley', 'ablaze', 'array', 'ballgowns', \"maskers'\", 'tomato-red', 'Jordan', 'frock', 'fringed', 'tiers', 'crimson', 'slippers', 'maids', 'greenish', 'Fenwick', 'ashes', 'roses', 'slipper', 'Feringa', \"Achaeans'\", 'eggshell', 'filmy', 'decolletage', 'trimmed', 'tulle', \"Reily's\", 'olive-green', 'embroidered', 'bodice', 'threads', 'sequins', 'beads', '12:01', \"railroad's\", 'loading', 'principally', 'necessitated', 'regrettable', 'supervisors', '3,325', 'Sufficient', 'furlough', 'furloughed', 'thug', 'robbing', 'Wiley', '900', 'bandit', 'assailant', 'Verstandig', '2100', 'Aiken', '$150', 'choking', 'one-room', 'Darnell', 'Boy', 'mile', 'Severna', 'mechanically', 'Ellwood', 'long-time', 'Cites', 'memory', \"Jenkins's\", 'hate', 'permanent', 'Pullen', 'Commissioners', 'Zoning', 'misunderstandings', 'notes', 'Bertorelli', 'Doctors', 'partially', 'paralyzed', 'barber', '229', 'Piraro', 'deficiencies', 'Fifth', 'salting', 'crews', 'storms', 'Conceding', 'Equipment', 'snowfall', 'halting', 'Sent', 'manual', 'Work', 'banned', 'chains', 'Admitting', 'overlooked', 'merchants', 'survive', 'Recounting', 'observations', 'clearance', 'inefficient', 'poorly', 'blades', 'layer', 'freezes', '15-year-old', 'murdered', 'Bay-front', 'Spring', 'detention', 'Malone', 'Dresbach', 'rifle', 'Elmer', 'Hagner', 'Benjamin', 'Michaelson', 'remanding', 'Younger', '1-1/2-story', 'Manor', 'first-floor', 'shootings', 'Dresbachs', 'Trooper', 'Grzesiak', \"Dresbachs'\", 'Edgewater', 'Finan', 'Ferdinand', 'Sybert', 'judgeship', 'swearing-in', 'countian', '1947', \"university's\", 'outset', 'guiding', 'spirits', '$77,389,000', '$20,447,000', '$47,101,000', '$9,841,000', 'cumulative', 'amounted', '$634,517,000', 'ten-month', '$253,355,000', '$278,877,000', '$102,285,000', 'consists', 'availability', 'prosperity', 'apartment-building', 'choosing', 'seekers', 'maintaining', 'Trouble-free', 'long-life', 'components', 'Sixty-seven', '165-unit', 'Harbor', 'Apartments', 'comprise', 'two-story', 'three-story', 'Various', 'stairs', 'balconies', 'masonry', 'Heating', 'gas-fired', 'Johns-Manville', 'Vital', 'implication', 'still-building', 'London-based', 'soviet', 'killer', 'hunter', 'subs', 'derived', 'Bow', 'divorced', 'whisking', 'strongrooms', 'presumed', 'Canadian', 'passport', 'candid', 'wrapping', 'Flashed', 'shadowy', 'Kroger', 'bookseller', 'Joyce', 'cottage', 'dots', 'dot', 'magnification', 'manuscript', 'Dunlop', 'sorely', 'maiden', 'bedridden', '76', 'Refuses', 'K.J.P.', 'Baraclough', 'Klaus', 'naturalized', 'altered', '1960s', 'behavior', 'communist', '$29,000', 'currency', 'Mervin', 'Griffith-Jones', \"general's\", 'asserted', 'paymaster', 'undersea', 'grimly', 'warfare', 'Symonds', 'drawings', 'reproduced', 'undeveloped', 'Vic', 'untold', 'Almost', 'reveal', 'blabbed', 'propelling', \"Skipjack's\", 'teardrop', 'potent', 'atom', 'cooled', 'reactors', 'Thru', 'steam', 'turbines', 'complexity', 'propeller', 'Albacore', 'Reputedly', 'outrun', 'reputedly', '70,000', 'refueling', 'hunter-killer', 'gear', 'torpedoes', \"Gee's\", 'purse', 'Interested', 'detector', 'ASDIC', 'detecting', 'Range', 'Designs', 'radiomen', 'nabbed', 'signals', 'wavelengths', 'codes', 'hidden', 'cigaret', 'lighters', \"Lonsdale's\", \"Krogers'\", 'fastened', 'lid', 'Oddly', 'rumor', 'malice', 'enmity', 'racket', 'addicts', 'aiming', 'criminals', 'jealousies', 'grievances', 'creditable', 'mentions', 'compensations', 'Tree', 'Connelly', \"clients'\", '$4,700', 'heroin', 'peddler', 'Otis', '6934', 'Moses', 'Mardis', '5835', 'bondsman', 'adjourned', 'Jeremiah', 'Hope', 'Jessy', 'Maroy', 'indicted', 'Buaford', '7026', 'robbed', \"physician's\", 'eyebrow', '$40', '$214', 'Policemen', 'Wabash', 'boarded', 'Dunbar', 'Vocational', '30th', 'skylarking', 'supervisor', 'ensued', 'reformatory', '1935', 'Lang', 'pardon', 'Bookwalter', 'Carpentier', 'Stratton', 'commuted', 'lover', 'relationship', 'wealthy', 'forbidden', 'chase', 'icy', '3211', 'Corcoran', 'Plee-Zing', '2544', 'brokerage', 'sped', 'spun', 'Johns', '21-year-old', 'bludgeon', 'visible', 'emotion', 'court-appointed', 'Stepson', 'vindicated', 'stepson', 'cloud', 'suspicion', \"else's\", 'Lives', 'rebuild', 'grandfather', 'southwest', 'Ledge', 'barn', 'killing', 'retracted', 'Charges', 'Prosecutor', 'sentencing', 'Locked', '4:05', '13-1/2', 'locked', 'overnight', 'canvassed', 'Olive', 'Heideman', 'Elsie', \"Pohl's\", 'valid', 'surviving', 'aftermath', 'homeowners', 'hard-hit', '34220', 'Viceroy', 'bottled', \"Anne's\", '31978', 'Mt.', 'Olivet', 'Cemetery', 'rested', 'caskets', 'Lyle', 'Elliott', '31730', 'fueled', 'stove', \"grandmother's\", 'upstairs', '2274', 'Cornell', 'fumes', 'ignited', 'electricity', \"Christine's\", 'Darlene', 'Dennis', 'Bernardine', 'roofer', 'arrears', 'split-level', 'tragedy', 'A135', 'Neighbor', '2269', 'Serra', 'supplying', \"Kowalski's\", 'sister-in-law', '22111', '2731', 'Pall', 'Mall', '$135', '$400', 'Tareytown', 'Homeowners', 'door-to-door', 'canvass', '480', 'northeast', '553', 'Village', 'Fuhrmann', '5155', 'revealed', 'Y-Teen', 'surpluses', 'Funds', \"Fuhrmann's\", '770', \"Furhmann's\", 'spontaneous', 'fondness', 'sympathy', '3505o', 'Expresses', 'properly', 'alert', '10-year-old', '9230', 'Vernor', 'grader', 'Scripps', 'Kercheval', 'belatedly', 'crosswalk', 'Gets', 'narrowly', 'Commandeering', 'Returning', '2433', 'Given', 'no-driving', 'Correction', 'showdown', 'Help', 'Vientiane', 'offensive', 'truce', 'reconvened', 'Delhi', 'verify', '14-power', 'Plea', 'Tiao', 'Sopsaisana', 'worsens', 'full-fledged', 'Winthrop', 'Heavy', 'minister', 'describing', 'Vietnamese', 'Thakhek', 'southern-central', 'sources', 'firing', 'squads', 'tribunals', 'decreeing', 'captured', 'suspected', 'collaborators', 'dawn', 'revolutionary', 'tribunal', 'ex-marine', 'smuggling', 'Legion', 'disbanded', \"Castro's\", 'seized', 'boatload', 'roundup', 'Raymont', 'Berrellez', 'dragnet', 'jails', 'priests', 'concentration', 'prisoners', 'pseudynom', 'Bucharest', 'Armenian', 'Revolutionary', 'ARF', '33-man', 'taxing', 'roadblock', 'conforms', 'aforementioned', 'provisions', 'taxation', 'affiliated', 'Urged', 'newspaper', 'Wheel', \"trustees'\", 'Teaching', 'paramount', 'recognize', 'obligation', 'Insofar', 'governing', 'documents', 'Corporate', 'derives', 'jeopardizing', 'desiring', 'fulfillment', 'riding', 'Waddell', '1688', 'Knoll', 'Cir.', 'Hammons', 'evidently', 'rain-slick', 'occupants', 'Olvey', '963', 'Ponce', 'Coleman', '704', 'SE', 'lacerations', 'bruises', 'first-run', 'Appeal', 'Rights', 'identically', 'worded', 'Downtown', 'Gather', 'eve', 'likelihood', 'three-day', 'sporadic', 'inability', 'indifference', 'integrate', 'nonviolent', 'extensive', 'presence', 'uptown', 'Buckhead', '357', 'Venable', 'S', 'W', 'Cafeteria', 'Pittsboro', 'Bessie', 'Bloom', 'Gettysburg', 'Apartment', '101b', 'Oakland', \"Blanchard's\", 'Hearn', 'officiating', 'Emma', 'Odom', 'Fergeson', 'Tenn.', 'Stoll', 'S.C.', 'Wansley', 'Wallace', 'Wilmington', 'N.C.', '24-year-old', 'assaulting', 'subdue', 'Patrolmen', '1671', 'Nakoma', '511', '11-month-old', 'ripped', 'latch', 'scratching', 'subdued', 'uniforms', 'battery', 'resisting', 'disturbance', 'cursing', 'disability', 'entries', 'transfers', 'employments', 'wistfully', 'intensifying', 'fast-spreading', 'pest', '132,000', 'infested', 'entomologist', 'Low-flying', 'granular-type', 'chemical', 'heptachlor', '30,000', '37,000', '65,000', 'Bibb', '37,679', 'treating', '20,000', 'Bleckley', 'Tift', 'infest', 'attacking', 'livestock', 'menace', 'allergic', 'venom', 'north-bound', 'electric', 'computers', 'cameras', 'congestion', 'intersection', 'daylight', 'Cain', 'Piedmont', 'junction', 'Northeast', 'Expressways', 'crashes', 'fiery', 'crash', '4-year-old', 'Claude', 'Maynor', 'Troopers', 'path', '111', 'Bursts', 'overturned', 'skidding', 'tractor-trailer', 'burst', 'Bester', 'Hammett', 'Rte.', 'Herrington', 'flaming', \"month's\", 'GA', '$58,918', 'budgeted', '$66,000', '$7,082', 'slackening', 'oks', 'pact', 'newly-appointed', 'Webster', 'Ennis', 'Keizer', 'considerable', 'converting', 'renew', '$8', 'adapting', 'Administrator', 'unique', 'handicapped', 'regrets', 'wheels', 'directing', 'answerable', 'conversion', 'familiarity', 'Do', 'arguments', \"commission's\", 'vice-chairman', 'Patterson', 'Physicians', 'crippling', 'weaknesses', 'communications', 'F', 'robber', 'Lavaughn', 'getaway', 'Woodyard', \"Bros.'\", 'Grocery', '2825', 'Burnside', 'McNeil', 'Hillsdale', 'Secret', 'Logan', 'culminates', 'robberies', 'papers', '12-year-old', 'Elaine', '9329', 'Schuyler', 'Bess', 'Kaiser', 'bicycle-auto', 'collision', 'Gateway', 'Shopping', 'Forsyth', '1926', 'Riverview', 'Abbey', '1886', 'logging', 'Macwhyte', 'Horstman', 'Lucy', 'Beatrice', 'Kiefferm', 'Dalles', 'decertify', '1565', 'Retail', 'Clerks', 'AFL-CIO', 'NLRB', 'potentially', '67', 'theatrical', 'collapsed', '6124', 'functions', 'collaborated', 'entertainers', 'Durante', 'Silvers', '20-piece', 'Harmony', 'lodge', 'AF', 'AM', 'Kader', 'Shrine', 'Elks', '142', 'Voiture', \"Musician's\", '99', 'Heights', 'Nevah', 'Sholom', 'Congregation', 'Tearle', 'Dorenzo', 'Birdie', 'Gevurtz', 'Aaron', 'Holman', 'interment', 'Neveh', 'Zebek', 'cemetery', 'omitted', '16-year-old', 'judged', 'Tim', 'top-ranking', '4,500', '11-year', 'JA', 'Scolatti', 'first-place', 'pocket-size', '$2,170', 'barbecue', 'spices', 'stockholders', 'Youngsters', 'full-scale', 'culmination', 'Participants', 'Bond', 'distributed', 'g-p', 'Advisors', 'Breuer', '5847', 'Nevada', 'Ct.', 'Kathleen', 'Reifenrath', 'Wegener', 'Kolb', 'Shelby', 'Carlson', \"County's\", '36th', 'FFA', \"day's\", 'flower', 'horsemanship', 'clown', 'Attendance', 'five-day', 'fairgoers', 'Exhibition', 'Wick', 'Walters', 'all-county', 'baton', 'twirler', 'Nuttall', 'Reedville', 'Finalists', \"county's\", 'Results', 'Janet', 'sheep', 'Phyllis', 'Lorlyn', 'Traxel', 'Banks', 'Swine', 'Pumpkin', 'rabbit', 'judging', 'Tualatin', 'Batchelder', 'eggs', 'Wacklin', 'Sherwood', 'female', 'Haase', 'Corneilus', 'entrant', 'swine', 'championships', 'Strong', 'Cedar', 'Mill', 'cooked', 'Millie', 'Jansen', 'Verboort', 'Jody', 'Jaross', 'Borland', 'demonstration', 'filbert', 'assessors', 'assessments', 'Centredale', 'assessment', 'properties', 'quarterly', '734', 'shoulder', 'collided', 'DeSoto', 'onto', 'DiSimone', 'Thieves', '$3,675', 'furs', 'jewels', 'Kochanek', 'theft', 'intruders', 'Persian', 'lamb', 'wallet', 'diamond', '$900', '$325', '$125', 'Kochaneks', 'Nunes', 'investigated', 'thieves', 'Drawers', 'cabinets', 'bedrooms', 'sewing', 'stoppage', 'Elm', 'acid', 'jewelry', 'flowing', 'tide', 'two-family', '255', 'Brook', 'Cochran', 'rental', \"Pawtucket's\", 'garbage', 'rubbish', 'picketed', 'incinerator', 'Rotelli', 'Incinerator', '62-year-old', 'Smithfield', 'Circle', 'Fatima', 'Woonasquatucket', 'fractured', 'ribs', 'brushed', 'Alva', 'Maple', 'tearing', 'bumper', 'denting', 'fender', 'Fruit', \"Committee's\", 'improperly', 'Nolan', '3rd', 'Walsh', 'Tougas', \"superintendent's\", 'Vermeersch', 'Rosella', 'Lovett', '$55,000', 'damages', '83', 'Atwells', '$57,500', \"owners'\", '$52,500', 'one-story', '8,293', 'Saul', 'Hodosh', \"Santa's\", 'Journal-Bulletin', 'Claus', 'Persons', \"Journal-Bulletin's\", '823', 'acknowledged', 'quota', '$8,250', 'Scores', 'contributors', 'pennies', 'nickels', 'Fletcher', 'shotgun', 'discharged', 'heel', 'Hose', 'Thornton', 'companion', 'Simmonsville', '$4,177.37', '$50,000', 'alterations', '646', 'founder', 'Uncas', 'Mfg.', 'Cavaliere', 'Merit', 'Italy', 'decoration', 'Trichieri', 'consul', 'celebrating', 'bestowal', 'Newport-based', 'destroyer', 'escort', 'Newport', \"months'\", 'afloat', 'ashore', 'rescued', 'trawler', 'drifting', 'raft', 'sinking', 'stopping', 'Greenock', 'liberty', 'rendered', \"girl's\", 'Rider', 'burning', '59', 'Hartselle', 'interfering', \"mob's\", 'Greyhound', 'Riders', 'freed', 'wrongdoing', 'Hobart', 'Grooms', 'jury-tampering', 'excused', 'lenient', 'alternate', 'incidents', 'KKK', 'imprisonment', '130-year', '37-year-old', 'McN.', 'Graduate', 'Sciences', 'Newsom', 'Prentice-Hall', 'Princeton', 'associated', 'Asilomar', 'Vast', 'endangering', 'handing', '8-year-old', 'Convention', 'borer', 'plague', 'conservation', 'Wyoming', 'experiments', 'forgetting', 'efficient', 'enemies', 'insects', 'rodents', 'peck', 'blueberries', 'Wilderness', 'seashore', 'Reyes', 'preservation', 'wetlands', 'pesticides', 'co-ordination', 'ratification', 'sea', 'Reed', 'Rogers', 'Fonta', 'Wild', 'Sanctuary', 'Livermore', '645-acre', 'tidelands', 'Greenwood', 'Olney', 'Kentfield', 'inviolate', 'sanctuary', 'animals', 'Seventeen', 'Willy', 'rocket-bomb', 'attached', 'underbelly', 'pulse', 'airstrip', 'quiet-spoken', 'middle-aged', 'aeronautical', \"Lockheed's\", 'Missiles', 'Space', 'crashed', \"Hitler's\", 'super-secret', 'unknown', 'rocket-bombs', 'manned', 'warhead', 'stave', \"Fiedler's\", 'Squeezed', 'altitude', 'signaled', 'roaring', 'pulse-jet', 'engine', 'streaked', 'beneath', 'rocket', 'faint', 'speck', 'hurtling', 'sky', 'beautifully', 'valve', 'adjust', 'steering', 'surfaces', 'wings', 'equipped', 'ailerons', 'skid', 'bolted', 'fuselage', 'managed', 'maneuver', 'banked', 'airfield', 'Moments', 'skimmed', 'streamer', 'flights', 'Pilots', 'steer', 'suicide', 'dive', 'waterline', 'halted', 'Lockheed', 'spare', 'gliders', 'serene', 'challenging', 'Di', 'Massimo', 'Celebration', 'Scampini', 'Arata', 'Casassa', 'Molinari', 'Elected', 'Elios', 'Anderlini', 'Attilio', 'Beronio', 'Bianco', 'Frederic', 'Campagnoli', 'Cervetto', 'Armond', 'Martini', 'Duhagon', 'Mana', 'Moscone', 'Calude', 'Perasso', 'Petrini', 'Ratto', 'Reilly', 'theologian', 'endorsed', 'Disarmament', 'Quaker', 'Leading', 'newer', 'dread', 'grisly', 'Governments', 'obligated', 'ghastly', 'stupidity', 'jolt', 'complacency', '3300', 'Shore', 'acquaintance', 'syndicate', 'gangland', 'buddies', 'mob', 'racketeer', 'chiefs', 'Slim', 'Caesar', 'DiVarco', 'Monk', 'Allegretti', 'hoodlum', '$39,000', 'janitor', 'stevedore', 'pier', 'Connection', 'probing', 'connect', 'gangsters', 'tracing', '543', 'workmen', 'Liquor', '3247', 'Kedzie', 'Dominic', 'Senese', 'teamster', 'cousin', 'Accardo', 'onetime', 'Sanitation', '1215', 'supervise', '$1,600', \"Leavitt's\", \"warehouseman's\", \"salesman's\", 'bottling', \"workers'\", '$40,000', 'repaid', \"Glimco's\", \"drivers'\", '1213-15', 'micro-microcurie', 'meter', 'radioactive', 'occur', 'Curtis', '1630', 'suppressed', 'charging', 'embezzling', 'undetermined', 'Dearborn', 'Lien', \"Huff's\", 'Antone', 'embezzlement', \"mechanic's\", 'liens', '$109', 'lucrative', 'Charge', 'Blaber', '1020', 'cashed', 'card', '$28,700,000', 'Greek', 'Nazi', 'persecution', 'Probably', 'hottest', 'Dallas-headquartered', 'allotting', 'explaining', 'counted', 'lucky', 'underwriting', 'over-the-counter', 'Eppler', 'underwriter', '$17', '$22', 'circulating', 'Letters', 'reams', '185,000', '$11.50', 'cable', 'somehow', 'subscribe', 'Cable', 'translated', 'boiling', 'kinds', 'roughly', '64-cent', 'fancy', 'Lay', 'run-ups', 'run-up', 'resistant', 'ratios', 'executives', 'abilities', 'fittest', 'realizing', 'second-echelon', 'pound', \"Morton's\", \"Chip-o's\", 'avid', 'world-wide', 'coincidence', \"Ginner's\", '46th', '52-year', 'weighs', 'tons', '$250,000', 'safe', 'assumption', 'gins', '1896', 'occupied', '22-acre', \"1900's\", 'grown', 'Dallas-based', '1899', '1834', 'Factories', 'Prattville', 'cotton-growing', 'Southeastern', '1900', '300-450', 'Lummus', '1912', 'Factory', 'Lint', 'Cleaner', 'Unit', 'Ginning', 'cleaner', 'seed', 'heaters', 'boil', 'extraction', 'mechanical', 'Hinckley', 'burr', 'extractors', 'separators', 'piping', 'Stacy', 'belting', 'bearings', 'etc.', 'segment', 'doldrums', 'characterized', 'Registrations', 'Totaling', '3,399', \"February's\", '2,963', '4,441', 'quarter-to-quarter', 'comparison', '9,273', '3-month', '11,744', '1,212,000', 'April-June', 'prompt', 'makers', 'compacts', 'lower-priced', 'Buick', 'Chrysler', 'Mercury', 'Sales', 'Executives', 'winds', 'Distributive', 'salesmanship', 'classroom', 'instruction', 'fields', 'seniors', 'Owens', 'Isodine', 'Pharmical', 'Trigg', 'Arrington', 'Kaminsky', 'Adams', 'Janice', 'Whitney', 'Fil', 'Terral', 'Adamson', 'Tommie', 'Paschall', 'Crozier', 'Tech.', 'Paulah', 'Kestner', 'Hillcrest', 'Shay', 'Satterfield', 'Cluck', 'Deloris', 'Carrel', 'Carty', 'Edna', 'Neal', 'McLauchlin', 'Rylie', 'Seagoville', 'Wolverton', 'Sharon', 'Flanagan', 'Samuels', 'Hammond', 'Carolyn', 'Bert', 'Potter', 'Woodrow', 'fringe', 'Caron', 'Stallard', 'Mortgage', 'gather', 'momentum', 'Beryl', 'Trust', 'Palo', 'Alto', 'venture', 'Gaither', 'gauntlet', 'communism', 'bluntly', 'appropriations', 'conferees', 'cyclical', 'abrupt', 'Thesis', 'neo-stagnationist', 'thesis', 'declaring', 'pessimism', 'questionable', '1959-60', 'lesson', 'probability', 'Danger', 'stimulation', 'inflation', 'aggressively', 'tighten', 'monetary', 'phases', 'unsatisfactory', '1958-60', 'inappropriate', 'retrenching', 'resulting', 'Sacrifices', 'justify', 'heritage', 'blackmail', 'yourself', 'liable', 'erasing', 'Analysts', 'continuation', 'hoped-for', '675', 'sidelines', 'pivotal', 'snapback', 'Streeters', 'whopping', '8%', 'paving', '7.19', '687.87', '1,253', '695', '354', 'highs', 'lows', 'Trading', 'comparatively', 'dipped', '3.28', '3.98', 'envisioned', '1970s', 'Marketing', 'Bell', 'Howell', 'industrialist', 'unconventional', 'Creations', '1970', '40%', 'expenditures', 'marketed', 'log-jam', 'geometrically', 'equalizers', 'dares', 'know-how', 'all-automatic', 'Phelan', 'stockholder', '$120', 'Read', \"Gulf's\", 'holdings', '2,700,877', 'surrender', '923,076', 'Due', 'consisted', '4-7/8', '4-1/2%', 'subordinated', '1991', '$70', '1971', '1976', '$80', '1981', '$90', 'dwindled', '1.23', '1.58', 'Gains', '2-3/4', 'Teleprompter', 'Foil', 'Fairchild', 'Camera', 'Kawecki', 'Chemical', '2-1/2', 'Answer', 'Write', 'custodian', 'Fundamental', 'Television-Electronics', 'brain', 'programmed', 'irate', '60-day', 'complaining', 'shareholder', 'finds', 'mistake', 'Doyle', 'queries', 'alter', 'movements', 'satisfactorily', 'foreseeable', 'Railroads', 'Round', \"O's\", 'weaken', 'Bad', 'consolidation', 'precarious', '1930s', 'Tuohy', 'cross-examination', 'examiner', 'ICC', 'rebuffed', 'three-way', 'O-B', \"hemisphere's\", 'borrowing', \"Tuesday's\", 'weekly', '90-day', '2.325%', '2.295%', 'polled', 'one-third', 'resistance', 'renting', 'narrowed', 'saturation', 'Increase', \"Center's\", 'Expect', 'jump', '1,257,700', 'non-farm', 'Starts', 'Leaders', 'Elburn', 'Farm', 'tilts', 'battered', 'chair', 'Ehlers', 'competitor', 'experiencing', 'climbing', 'slash', 'fertilizer', 'yields', 'Fields', 'dense', 'efficiently', 'supports', 'Seven', '10%', '13%', '14%', 'lag', 'sections', 'upswing', 'drought-seared', 'notable', 'uptrend', 'extends', 'yardstick', 'gasoline', 'chemicals', 'conscious', 'Sioux', 'Iowa', 'picker', '$2,700', \"Dealers'\", '25%', 'affects', 'Tractor', 'Massey-Ferguson', 'Ltd.', 'Toronto', '2,418', '869', 'Staiger', 'inventories', 'stepped-up', 'shortages', 'Merritt', 'Motor', 'demanding', 'delivery', 'year-earlier', 'grain', 'cutback', 'planted', 'Total', 'forecast', '129%', '1947-49', 'economists', '$1.4', 'subsidies', '$639', 'receipts', 'marketings', '$39.5', '$1.5', '$12.7', 'index', 'mid-September', '242%', '1910-14', '237%', 'mid-July', 'mid-1960', 'pipe', 'mined', 'figuring', 'deducted', 'percentages', 'producers', 'assets', 'adjourning', 'softened', \"ruling's\", 'prior-year', 'clay-mining', 'allows', 'industries', 'Charitable', 'particulars', 'substantiation', 'donor', 'revenuers', 'deductibility', 'realty', 'disposed', 'liquidation', 'disallowed', 'bars', 'tax-freedom', 'stemmed', 'liquidations', 'Ninth', 'challenges', 'year-old', '$1,800', 'termination', 'cadet', 'entirety', 'pad', 'invoices', \"taxpayer's\", 'kickbacks', 'commenting', 'morality', 'transaction', 'kerosene', 'boats', 'railing', 'vessel', \"manufacturers'\", 'household-type', 'Hiring', \"one's\", 'tax-aided', 'spouse', 'distributions', 'coverage', 'pitfall', 'declare', 'discriminatory', 'Possible', 'upshots', 'briefs', 'Voters', 'imposition', 'supreme', 'wholly-owned', 'subsidiary', 'divulging', 'identity', 'parent', 'computed', 'entities', 'edged', 'seasonally', 'adjusted', '$18.2', '$18.9', 'seasonal', 'adjustment', 'pre-Easter', 'inclined', 'Adjusted', '2.5%', '$17.8', 'tasteful', 'titian-haired', 'personification', 'Exposition', 'Ballroom', 'Ferdinando', 'Sarmi', 'fashions', 'Rolnick', 'Byer-Rolnick', 'Hat', 'Wragge', 'casuals', 'Vivier', 'Dior', 'shoes', 'toes', 'lowered', 'heels', 'revolutionized', 'shoe', 'plaques', 'luncheons', 'Marcus', 'Beneficiary', 'showings', 'Crippled', 'Cerebral', 'Palsy', 'Treatment', 'loves', 'carefully', 'prefers', 'timeless', 'Occasionally', 'deserts', 'Fogelson', 'commuting', 'Bel-Air', 'ranch', 'Pecos', 'Therefore', 'mobile', \"moment's\", 'wrinkle', 'creations', 'designers', 'chemise', 'jersey', 'Irene', 'long-bodied', 'silhouette', 'femininity', 'Ceil', 'Balenciaga', 'struggling', 'actress', 'reminisces', 'glowing', 'pinks', 'reds', 'Scotch-Irish-Scandinavian', 'descent', 'Down', 'Ireland', \"father's\", 'Orkney', 'Isles', 'Reared', 'postgraduate', 'Grenoble', 'Repertory', 'starring', 'Arrow', 'Noel', 'Coward', 'motion-picture', 'Goodbye', 'Chips', 'Random', 'Harvest', 'Curie', 'Pride', 'Prejudice', 'Forsythe', 'Saga', 'Miniver', '1943', 'Honors', 'Campobello', 'Auntie', 'Mame', \"Brassbound's\", 'Conversion', 'Camille', \"Tussard's\", 'Waxworks', 'princess', 'Kiowa', 'tribe', 'colonel', 'adept', 'skeet', 'trout', 'fishing', 'Afro-Cuban', 'archaeology', 'Tuberculosis', 'Associations', 'oilman-rancher', 'Boys', 'vivid', 'opera', 'flourishes', 'Gander', 'coeds', 'ogled', 'dutifully', 'gravy', 'Stay', 'craven', 'women-trodden', 'apt', 'wrangler', 'groceries', '32,000', 'moans', 'dishes', 'cafeterias', 'McElvaney', 'Dining', \"athlete's\", 'ruggedly', 'pester', 'Hockaday', 'spice', 'chow', 'mastodons', 'Mostly', 'meat', 'go-go-go', 'hides', 'mayonnaise', \"athletes'\", 'stomachs', 'jumpy', 'physical', 'duress', 'bans', 'flavored', 'condiments', 'plates', 'hamburger', 'hotdogs', 'steak', 'maybe', 'pizza', 'broccoli', 'cauliflower', 'stoked', 'Cabot', 'Clement', 'Atlee', 'shiny', 'characters', 'Tibetan', 'monks', 'saffron', 'robes', 'cafeteria', 'Cadillac', 'Use', '6-ounce', 'Salt', 'pepper', 'Dip', 'melted', 'flour', '2-inch', '250-275', 'lightly', 'Add', 'cream', 'onion', 'juice', 'one-half', 'saute', 'mushrooms', 'canned', 'Sprinkle', 'Serve', 'slow-baked', 'sprinkle', 'seedless', 'Leave', 'Pontiac', 'Contemporary', 'Danish', 'straight-line', 'facets', 'dignity', 'utter', 'livability', 'avant', 'garde', 'boxy', \"'20's\", \"'40's\", 'correlated', 'Sanger-Harris', 'Studio', 'assembled', 'Called', 'lasting', 'avoids', 'monotony', 'wormy', 'chestnut', 'pecan', 'varieties', 'hand-woven', 'Philippine', 'tiles', 'marble', 'permanence', 'tiled', 'floors', 'windows', 'outdoors', 'custom-design', \"Titche's\", 'decorating', 'variation', 'Rounded', 'insets', 'softening', 'arches', 'tops', 'inlaid', 'Macassar', 'high-legged', 'easy-to-reach', 'snack', 'tucked', 'recessed', '60-inch', 'functional', 'chests', 'canted', 'headboard', 'heavier', 'styling', 'door-fronted', 'poster', 'mirror', 'Colorful', 'Eastman', 'Chromspun', 'magenta', 'predominating', 'Scotchgard', 'soil', 'wrinkles', 'Design', 'rooted', 'forms', 'wearing', 'label', \"Drexel's\", 'spider-leg', 'lustrous', 'walnut', 'See-through', 'combines', 'nostalgic', 'ladder', 'shoji', 'orange', 'Dignity', 'reflecting', 'substance', 'maturity', 'hand-screened', 'wood', 'bookcases', 'Mellow', 'bronzy-green-gold', 'gleam', 'hand-crafted', 'accessories', 'reiterate', 'carpet', 'wool', 'pile', 'Vagabonds', 'air-conditioned', 'Invitations', 'dignitaries', 'Ginghams', 'calico', 'western', 'attire', 'Stetsons', 'vests', 'Decorating', 'bluebonnets', 'stagecoach', 'silhouettes', 'sunbonnet', 'Abell', 'Messrs', 'McElyee', 'Fanning', 'Darrow', 'comprised', 'fun-loving', 'motto', 'Go', 'Somewhere', 'Anywhere', 'climaxed', 'Las', 'buses', 'Mineral', 'Kerrville', 'railway', 'vicinity', 'Serving', 'Schmalzried', 'yearbook', 'scrapbook', 'caramel', 'chocolate', 'frosting', 'Pillsbury', 'Bake-Off', '23-year-old', 'bake-offs', 'Clara', 'Hawaiian', 'yeast', 'bread', 'coconut', 'vanilla', 'glaze', 'Wellsville', 'baked', 'Bake-off', 'recipe', 'photographing', 'finalist', 'Welton', 'Becket', 'slides', 'renderings', 'three-building', 'Foliage', 'foliage', 'Messrs.', 'Cott', 'Niven', 'Bricker', 'Stetson', 'Drs.', 'Lafe', 'Ludwig', 'Leroy', 'Watson', '75th', 'originating', 'Midwest', 'practiced', '1917', 'Medical', 'Examiners', 'Giving', 'Ilona', 'Schmidl-Seeberg', 'Fritz', 'Kreisler', '10-hour', 'linen', 'needles', 'yarn', 'tapestries', 'continents', 'uprisings', 'tapestry', \"There's\", '90%', 'logistical', 'rainy', 'raincoats', 'finger-paint', 'grammar', 'Getting', 'Generally', 'entails', 'Did', \"weren't\", 'herself', \"they'd\", 'logic', 'impeccable', 'fool', 'capable', 'crackpots', 'Advance', 'notices', 'Published', 'Hord', 'edition', 'subtitled', \"morning's\", 'postman', 'Publisher', 'updated', 'compact', 'ever-changing', 'residences', 'denote', 'Cooper', 'Coopers', 'Worrell', 'Ghormley', 'Pen', 'Tudor', 'Carla', 'Craig', 'McFarland', 'Joanne', 'Curry', 'Ellsworth', 'Currys', 'Hartley', 'Gregg', 'Valerie', 'McAlister', 'Duque', 'Elizabeth', 'Browning', 'Brownings', 'Cynthia', 'Ludlow', 'Todd', 'Huntington', 'Huntingtons', 'listings', 'Listed', 'Haskins', 'Judy', 'McAlester', 'Pfau', 'Pauleys', 'Chantilly', 'Moulton', 'Moultons', 'Windsor', 'Beesemyers', 'Raoul', 'Esnards', 'exchanged', 'residence', 'Hazard', 'Laguna', 'Wangemans', 'Ransom', 'Oxford', 'Eng.', 'Olerichs', 'Aderholds', 'Henri', 'Chapelles', 'Berteros', 'Egerton', 'Crispin', 'Armisteads', 'Anthony', 'Longinotti', 'Carbones', 'Panama', 'Geddes', 'MacGregors', 'Althaus', \"Here's\", 'execute', 'Displayed', 'lamps', 'accent', 'wired', 'Measure', 'height', 'socket', \"puppet's\", 'Make', 'metal', 'tube', 'inverted', 'hang', 'Pulling', 'manipulate', 'fixture', 'tying', 'desired', 'resting', 'whims', 'drum', 'shade', 'disharmony', 'playtime', 'illustrated', 'reminiscent', 'circus', 'merry-go-round', 'scalloped', \"Today's\", 'home-owners', 'cabinetmakers', 'lurked', 'utilitarian', \"junior's\", 'tricked', 'nondescript', 'supposedly', 'knocks', 'relegated', 'homemakers', 'decorator', 'Leland', 'Housewives', 'craftsmen', 'innate', 'Solid', 'Eighteenth', \"Escape's\", 'Bonanza', 'bonanza', 'versatile', 'outfit', 'specializing', 'skits', 'vocals', 'instrumentals', 'distinctly', 'displaying', 'spotlights', 'Ciciulla', 'flanked', 'Grossman', 'guitar', 'batch', 'instruments', 'tuba', 'tambourine', 'augment', 'imagination', 'props', 'crazy-wonderful', 'nonsense', 'classed', 'slapstick', 'rated', 'nightclubs', 'chalk', \"let's\", 'noise', 'Bartha', 'Oceania', 'Cumbancheros', \"O'Clock\", 'Flip', 'Phillips', 'Fireside', 'Ranch', 'LaSalle', 'Jolly', 'accordion', 'Freida', 'Bahia', 'Cabana', 'Judson', 'brings', 'calypso', 'capers', 'Leighton', 'springing', 'ringsiders', 'Rum', 'Galt', 'Ocean', 'Skip', 'Hovarter', 'Reno-Lake', 'Tahoe', 'Rusty', 'Marskmen', 'Tune', 'Toppers', 'ex-schoolteacher', 'pursuing', 'rhythm', 'reminiscence', 'repartee', 'sidemen', 'smoother', 'substantially', 'format', 'Kemm', 'Wes', 'bass', 'trumpet', 'Kelly', 'keyboarding', \"Al's\", \"Maestro's\", 'rapport', 'skips', 'boogie', 'accompanying', 'bouncy', 'frantic', 'appraisal', 'Cafe', 'Kissak', 'bossman', 'Spot', 'retains', 'decor', 'crystal', 'chandeliers', 'undergone', 'remodeling', 'Latter', 'Chef', 'Yokel', 'specialize', 'steaks', 'chops', 'prime', 'beef', \"Tom's\", 'dish', 'stuffed', 'shrimp', 'Bandstand', 'DeCicco', 'Tic-Tac-Toe', \"Hubie's\", 'Lorain', 'preclude', 'reopening', 'Sunman', 'cornering', 'Vivacious', 'redhead', 'debuts', \"Governor's\", 'brunches', 'buffets', 'Mackey', \"Airline's\", 'Sunshine', 'Bimini', 'plotting', 'month-long', 'Drinkhouse', \"Pal's\", 'reunion', 'Playboy', \"Club's\", 'Gould', \"hasn't\", 'chum', 'Mexican', 'Tex', 'Which', 'sampled', 'Pualani', 'Randy', 'Avon', 'Searles', 'Papa', 'Gill', 'Bandish', 'Morgart', 'Mouse', 'Trap', 'Moffett', 'Rickshaw', 'Bea', 'Morley', 'Fazio', \"O'Hare\", 'Michaels', 'Escape', \"John's\", 'Placentia', 'Smallwood', 'productions', 'Le', \"D'Art\", 'Du', 'Carlo', 'Francesca', 'Rimini', 'Performers', 'symphony', 'Milenoff', 'foundation', 'Ximenez-Vargas', 'Espagnol', 'Jorge', 'Bolet', 'Dancers', 'Bali', 'Workshop', 'Gretchen', 'lecturer', '$2.50', 'Whelan', 'librarian-board', 'Tallahassee', 'Jacksonville', 'Orlando', 'Plant', 'acquaint', 'Aquinas', 'Subsequent', 'Stranahan', 'Pompano', 'Is', \"Communism's\", 'brainwashing', 'Anti-Communist', 'schoolers', 'antidote', 'Biblically', 'Communisn', 'enthralled', 'four-hour', 'lecture', 'Slack', 'Jon', 'Braun', 'Map', 'Operation', 'Abolition', 'Response', 'city-wide', 'Dade', 'MacWhorter', '3181', 'Ter.', 'Dedication', '10:50', 'twice-a-year', 'fundamentals', 'uphold', 'Rae', 'Pamela', 'Shari', 'bedtime', 'prayers', 'stories', 'two-year-old', 'miffed', 'prayer-time', \"Dade's\", 'Blanton', 'Lutheran', 'Treadwell', 'sexton', '7:45', 'Nazarene', '10:45', 'Riviera', 'pray', 'participate', 'preach', 'Successful', '9:40', 'ordained', \"Men's\", '6:15', 'picnic', 'preaching', 'Altar', 'Densmore', 'headmaster', \"Stephen's\", 'Episcopal', 'Coconut', 'Enrique', 'musical', 'conducting', 'engagements', \"symphony's\", 'Anniversary', 'Sinfonica', 'Siciliana', 'Palermo', 'Radio', 'Cologne', 'Gala', 'Concert', 'Orchestre', 'Philharmonique', 'Bordeau', 'Cecilia', \"Jorda's\", 'Guest', 'performers', 'conductors', 'renowned', 'violinists', 'Yehudi', 'Menuhin', 'Isaac', 'Stern', 'Ruggiero', 'Ricci', 'Abel', 'pianists', 'Fleisher', 'Slenczynka', 'Bishop', 'Leningrad', 'Petipa-Tschaikowsky', 'Sleeping', 'Beauty', 'incomparably', 'anytime', 'Imperial', 'vulgar', 'infantile', 'reactionary', 'persistent', 'indicates', 'stultifying', 'capitalist', 'boobify', 'choreography', 'undistinguished', 'shapeless', 'assemblage', 'self-plagiarisms', \"Kirov's\", 'utterly', 'captivating', 'Precise', 'enchantment', 'ova', 'eva', 'aya', 'exclusively', 'winners', 'contests', 'Omsk', 'Pinsk', 'Stalingr', 'oops', 'skip', 'discover', 'crowning', 'friendliness', 'Oh-the-pain-of-it', 'impoverished', 'Dukes', 'filial', 'Goldwater', 'Irina', 'Kolpakova', 'suavity', 'lightness', 'sparkle', 'refinement', 'incomparable', 'Hit', 'Alla', 'Sizova', 'delightful', 'Bluebird', 'Yuri', 'Soloviev', 'wonderfully', 'virile', 'acrobatic', 'poetic', 'Nijinsky', 'Vladilen', 'Semenov', 'danseur', 'noble', 'Konstantin', 'Shatilov', 'Inna', 'Zubkovskaya', 'Lilac', 'Fairy', 'Virsaladze', 'spacious', 'dreams', 'peasant', 'muted', 'pastel-like', 'harmonies', 'scenery', 'Evegeni', 'Dubovskoi', 'soloists', 'solos', 'concertmaster', 'Lumia', 'traveling', 'auspices', 'Players', 'Sustaining', 'ten-concert', '$16', 'Participating', '$9', 'erroneously', 'Chronicle', '1044', 'Chestnut', 'busied', '798', 'sponsoring', 'toy', '12th', 'Franciscans', 'discarded', 'off-duty', 'firehouses', 'Stonestown', 'mall', 'warehouse', '198', '676', 'listing', \"parent's\", 'Famed', 'cellist', 'Pablo', 'Casals', 'instrument', 'charmed', 'rehearsal', 'Munoz', 'Spanish-born', 'lend', 'naughty', 'stuff', 'ought', 'monument', 'sins', 'three-hour', 'Romans', 'harmless', 'Gray', 'naughtier', 'watchers', 'bored', 'senseless', 'sadism', 'Adventures', 'Ozzie', 'decadence', 'Strip', 'nymphomaniacs', 'private-eye', 'actors', 'unknowns', 'Lex', 'Anita', 'Ekberg', 'unfamiliar', 'Herridge', 'seaside', 'Producer', 'silent', 'boasted', 'tease', 'slip', 'drunk', 'knees', 'pillow', 'feathers', 'frigid', 'silly', 'fairies', 'Put', 'four-letter', 'pall', 'swinging', 'shocker', 'dud', 'detract', \"Chronicle's\", 'Paine', 'Knickerbocker', 'neatly', 'enthralling', 'heartbreaking', 'unlinked', 'glories', 'Monthly', 'Weeks', 'poets', 'USSR', '9:30', 'ventilates', '10:30', 'KQED', 'Summer', 'Festival', 'Capello', 'Musica', 'titled', 'Threshold', \"Francisco's\", 'venerable', 'Mandarin', 'Cantonese', 'Chiuchow', 'tip', 'briskly', 'racy', 'cap', 'leather', 'expensive', 'Where', 'fluid', 'enriching', 'Gas', 'debonair', 'fins', 'wind-and-water', 'oases', 'gulped', 'gallons', 'wiping', 'headlights', 'chrome', 'Tires', 'OK', 'Check', 'sir', 'polished', 'loving', 'nozzle', 'tank', 'gloomily', 'mileage', 'clobbers', 'Crunch', 'die', '$1.80', 'fair-weather', 'yesteryear', 'finned', 'fore', 'aft', 'darling', 'Dollar', 'tipped', 'caps', 'tuck', 'Cadillacs', 'doorman', 'much-copied', 'craftsman', 'snubbed', 'Presidents', 'furnishings', 'Decorators', 'acquired', \"Mansion's\", \"1800's\", 'heirs', 'descendants', 'Rutherford', 'Tranquility', 'Andover', 'Authenticated', 'uncommon', 'acquisition', 'consisting', 'sidechairs', 'armchairs', 'secure', \"AID's\", 'miniature', 'Americana', 'refurbishing', 'rarity', 'antiquarians', 'mantlepiece', 'attributed', 'McIntyre', 'woodcarver', 'competed', '1792', 'mantel', 'demolished', 'fireplace', 'painted', 'paneling', \"committee's\", 'Lenygon', \"Lenygon's\", 'associates', 'Lehman', 'McCluskey', 'Jussel', 'wellknown', 'Regional', '75-minute', \"people's\", 'lawn', '85-piece', 'greet', '325', 'crippled', 'cardiac', 'Concerts', 'Mansion', 'Star', 'Spangled', 'Banner', 'Band', 'grateful', 'mounting', 'shaking', 'white-clad', 'dozens', 'stretching', 'horizon', 'Displaying', 'England-born', 'chamber', 'Vermont', 'duplicated', 'sun-tanned', 'paused', 'blonde', 'Holbrook', 'Rainier', 'Handicapped', 'nuns', 'Sharpe', 'tag', 'red', 'lemonade', 'teenage', 'music-loving', 'rapt', 'liaison', 'Sousa', 'Stripes', 'Forever', 'Conductor', 'correspondence', '85-student', 'curator', 'tours', 'remaining', \"Rembrandt's\", 'self-portrait', 'sad', \"Raphael's\", 'Alba', 'Madonna', 'Monet', 'painting', 'Rheims', 'Cathedral', 'Gogh', 'impressionist', 'benches', 'downstairs', 'lobby', 'Bales', 'Confederacy', 'aide', 'blue-uniformed', 'Renaissance', 'preferred', 'Boucher', 'Courbet', 'Fra', 'Angelico', 'rotunda', 'fountain', 'seemingly', 'remote', 'collonaded', 'sphynxes', 'perched', '1733', 'nw.', 'bustling', '1859', '1891', 'high-ceilinged', 'eulogized', 'poet', 'journalist', 'soldier', 'musician', 'crypt', '1500', 'biennial', 'Ancient', 'Accepted', 'Jurisdiction', '5-day', '2:30', 'tomb', \"Nation's\", 'Washington-Alexandria', 'Alexandria', 'monotonous', 'chatting', 'Hurt', 'ignoring', 'disgusted', 'miserable', 'listened', 'poured', 'discussing', 'UGF', 'nearest', 'antagonisms', 'solving', 'evenings', 'bed-time', 'preceeded', 'rough-housing', 'Blacks', 'measured', 'Givers', 'Anticipated', 'Skyline', 'materialize', 'rangers', 'leisurely', 'colors', 'haze', 'inevitable', 'realities', 'decisive', 'define', 'deterioration', 'heightened', 'catastrophe', 'stakes', 'encounters', 'Churchill', 'full-dress', 'inroads', 'misunderstanding', 'illusory', 'denunciation', 'U-2', 'one-sided', 'concessions', 'negotiation', 'summitry', 'Pre-inaugural', 'intimated', 'inauguration', 'smiles', 'compel', 'awakening', 'shift', 'weakened', 'formulating', 'Above', 'hat', 'Attitude', 'concrete', 'adversary', 'probe', 'inflexible', 'sparing', 'tensions', 'caution', 'reflected', 'Llewellyn', 'dated', 'Novosibirsk', 'intense', 'councils', 'precisely', 'deteriorating', 'alarmingly', 'Deadlock', \"Russians'\", 'three-man', 'directorate', 'pressures', 'secretly', 'testing', 'troubled', 'stalemate', 'unchecked', 'tripartite', 'Initially', 'dampened', 'lest', 'episodes', 'dangerously', 'erroneous', \"West's\", 'blundered', 'impotency', 'penetration', 'Beyond', 'warnings', 'impunity', 'strengthened', 'Vietnam', 'overreach', 'cocky', 'aggressive', 'miscalculation', 'Iran', 'turning', 'midst', 'deliberations', 'Embassy', 'Firm', 'negotiating', '67-year-old', 'vigorous', 'well-informed', '44-year-old', 'reactions', 'disapproval', 'expectation', 'salutary', 'rely', 'instincts', 'adversaries', 'dragged', 'reluctantly', 'disabuse', 'notions', 'disunity', 'Finally', 'feelings', 'onus', 'belongs', 'Disapproval', 'interpret', 'panic', 'scope', 'biologist', 'adaptation', 'Mollusks', 'evolutionary', 'cancel', 'aptly', 'illustrate', 'accomplishment', 'brethren', 'cease', 'miracle', 'centuries', 'minorities', 'zeal', 'generosity', 'flattering', 'Viewing', 'retrospect', 'indeed', 'Official', 'allocation', 'Catholics', 'responded', \"bishops'\", \"pastors'\", 'Diocesan', 'resourcefulness', 'sacrifices', 'arithmetical', 'detachment', 'achieves', 'founded', 'supernatural', 'nourished', 'well-springs', 'dimension', 'uniquely', 'sparks', 'blunts', 'goaded', 'subsidized', 'parish', 'staffed', 'produces', 'family-community', 'anomalies', 'enrollments', 'clustered', 'co-educational', 'isolated', 'represent', 'riot', 'collegiate', 'temper', 'tone', 'resembled', 'resembles', 'pre-academic', 'intra-mural', 'Commenting', 'decision-making', 'teacher-employee', 'employee', 'inapt', 'outsider', 'acclimatized', 'democratic', 'secular', 'citizenship', 'emerges', 'loath', 'delegate', 'inhomogeneous', 'mortal', 'varying', 'temperament', 'capabilities', 'select', 'oft-repeated', 'phrase', 'attainment', 'pictured', 'framed', 'clerical-lay', 'Outside', 'partners', 'recruiting', 'Word', 'spreads', 'tightly', 'knit', 'Expressions', 'low-key', 'confirming', 'stereotype', 'boycott', 'guarantee', 'invests', 'coveted', 'salaries', 'Adequate', 'intangibles', 'Broadly', 'intangible', 'Religious', 'derive', 'underestimate', \"layman's\", 'reservoir', 'idealism', 'stimulus', 'dichotomy', 'in-group', 'baneful', 'envision', 'definitive', 'high-sounding', 'faked', 'Competent', 'versed', 'technique', 'pre-set', 'conclusions', 'destroying', \"students'\", 'familiar', 'useful', 'busy-work', 'ersatz', 'luncheon-table', 'campus', 'i.e.', 'administers', 'eating', 'Nebraska', 'fallacious', 'restricted', 'restriction', 'Or', 'Anatole', 'equality', 'forbid', 'begging', 'sleeping', 'generated', 'disrepute', 'fallen', \"McClellan's\", 'jurisdictional', 'squabbles', 'plagued', 'shocked', 'stoppages', 'trivial', 'sums', 'provoked', 'indignation', 'footing', \"employers'\", 'undertakes', 'Aircraft', 'Machinists', 'attributable', 'overtime', 'defective', '$7,500,000', 'regulation', \"contractor's\", 'unresponsive', 'evoked', 'justified', 'inform', 'undefined', 'Hypocrisy', 'foolish', 'Let', 'engaging', 'rig', 'allocate', 'price-setting', 'multi-product', 'manufacture', 'Accounting', 'varied', 'Naturally', 'enterprises', 'flex', 'muscles', 'survivors', 'Uncle', 'accuse', 'self-restraint', 'wide-open', 'decree', 'fellows', 'tool', 'govern', 'enforcers', 'facts', 'flood', 'mea', 'culpas', 'scapegoats', 'usefulness', 'Thurman', 'Folklore', 'Capitalism', '211', 'unconsciously', 'ideology', '214', 'uncontrolled', 'dictatorship', '215', 'invoked', 'Pp.', '228-229', 'empires', 'fantastic', \"management's\", 'evaluating', 'occasional', 'irrational', 'nolo', 'contendere', 'nominal', 'untrammeled', 'sentences', 'prosecutions', 'ineptness', 'fictitious', 'impersonal', 'devised', 'pretends', 'Quite', 'advocating', '1933', '7A', 'Industrial', 'Recovery', 'impolitic', 'Taft-Hartley', 'Landrum-Griffin', 'collective-bargaining', 'palmed', 'organizers', 'gigantic', 'tortured', 'reasoning', 'ambition', 'exercise', 'squarely', 'wheat', 'unsupported', 'subsidy', 'reacting', 'antagonism', 'imposes', 'eighteenth-', '1776', 'Wealth', 'Eighteenth-century', 'customs', 'outlawed', 'conspiracies', '1825', \"carpenters'\", 'ten-hour', 'denounced', 'combinations', 'convert', 'pious', 'hypocrisies', 'vs.', 'Justice', 'Savage', 'officious', 'improper', 'regulated', 'manufactured', 'article', 'exist', 'mechanic', 'Compare', 'Daily', 'defends', 'enacting', 'Hoffa', 'amend', 'Norris-LaGuardia', 'injunctions', 'extend', 'Aeronautics', 'assuring', 'airlines', 'deemed', 'exemption', 'steamship', 'irrationality', 'guise', 'giant', 'Danbury', 'Hatters', 'Loewe', 'consumers', '1914', 'stating', 'immunization', 'interpretation', 'emasculated', '1922', 'Mine', 'Coal', 'alleging', 'interfered', 'interrupt', 'indirect', 'three-front', 'Afterward', \"Tennessee's\", 'understatement', 'undermining', 'offensives', 'Hours', 'Dictator', 'blunt', 'consulate', 'eleven', '87', 'foreign-policy', 'self-respect', 'breakoff', 'Secretary-designate', 'Rusk', 'huddle', 'battalions', 'invaded', \"Pentagon's\", 'precautionary', 'readiness', 'Cutting', 'aircraft', 'carriers', 'Lexington', 'Bennington', 'Sea', 'swarm', 'troopships', 'marines', \"U.S.'s\", 'Okinawa', 'Task', '116', 'southward', 'signal', 'exaggeration', 'cautious', 'sorts', 'cold-war', 'Political', 'chaotic', 'mountainous', 'Indian', 'battleground', 'Indo-China', 'predictably', 'Foster', 'Dulles', 'specimen', 'appeasement', 'becoming', 'calamity', 'mourn', 'seize', 'northern', 'parading', 'intrigue', 'drops', 'Ilyushin', 'transports', \"Year's\", 'cool', 'acknowledgment', 'Considering', \"war's\", 'terribly', 'ominous', \"Gore's\", 'confront', 'turmoil', 'sluice', 'coyly', 'masquerades', 'Study', 'unspoken', 'menaced', 'bottleneck', 'counting', 'noses', 'Deadly', 'breaching', 'conservative-liberal', 'namely', '14-term', 'Meyers', 'Calmer', 'Caucusing', 'seniority', 'godliness', 'dour', 'gangling', 'choppy', 'gait', 'internationalist', 'diehard', 'initially', 'suspicious', 'constituents', 'segregationist', 'anti-Negro', '6-6', 'far-out', 'Democratic-sponsored', 'Rayburn-Johnson', 'embarrassing', 'Equal', 'pretext', \"Colmer's\", 'ouster', 'lukewarm', 'anti-Kennedy', 'Reprisals', 'unheard', 'forgive', 'prodigal', 'Dixiecrats', 'unscathed', 'rebellion', 'campaigned', 'anti-Colmer', 'reprisal', 'huddling', 'tense', 'Southerner', 'flatly', 'Mister', 'thereupon', 'inferior', 'News', \"Missouri's\", 'purple', 'Unconscionable', \"Speaker's\", 'Smith-Colmer', 'Appropriations', 'dreadful', 'excluding', 'pork-barrel', 'Sitting', 'pork', 'barrel', 'Vinson', 'Threat', 'raged', 'cloakrooms', 'caucuses', 'numbered', '260-member', 'smelling', 'purged', 'Mississippians', 'maverick', 'arenas', 'applying', 'whiplash', 'loomed', 'specter', 'costlier', 'Southerners', 'chairmanships', 'truncated', 'unworkable', \"Arkansas'\", 'Wilbur', 'deliberately', 'coolheaded', 'version', 'liberal-conservative', 'contrast', 'guerrilla', 'forma', \"guide's\", 'restrict', 'legislation-delaying', 'filibusters', 'wide-ranging', 'bipartisan', \"Minnesota's\", 'Hubert', \"Massachusetts'\", 'Leverett', 'Saltonstall', 'phalanx', 'traditionally', \"Mexico's\", 'notorious', 'hard-to-get', 'Dealer', 'upped', 'cloture', 'mere', 'modification', 'Congresses', 'binding', 'rounded', 'choke', 'Hopefully', 'perennial', 'virtually', 'convening', 'presiding', 'painful', 'chore', 'officiate', 'Electoral', 'tight', 'staunchest', 'harrowing', 'lap', 'pros', 'gaping', 'disbelief', 'licked', 'bite', 'midway', 'Course', 'teeth', '34', 'washed', 'rainstorm', '10th', 'double-bogeyed', 'scrambled', 'mishap', '2-over-par', '72-hole', 'scorecard', 'tears', 'trophy', 'seven-iron', 'strayed', 'lodged', 'sand', 'wedge', 'slope', 'Afterwards', 'last-round', 'hasty', 'agonizing', 'graciously', 'putted', 'recover', 'composure', 'visibly', 'overshot', 'putting', 'beside', \"Roberts'\", 'stared', 'amazement', '281', 'closest', 'second-place', 'lean', 'leathery', 'topnotch', 'jitters', 'overtake', 'disappointing', 'one-over-par', '210', '213', 'deliberate', 'Baltimorean', 'Half', 'holed', '206', 'washed-out', 'meteorological', 'footnotes', 'Unlike', 'spontaneously', 'sight', 'prestige', 'somewhere', 'paired', 'threesome', 'chapter', 'duels', 'whichever', 'undisputed', 'awed', 'outplayed', 'Thereafter', 'Instant', 'rivalry', 'instantly', 'drizzly', 'skiddy', 'moist', 'boldly', 'flag-stick', 'consequences', '4-under-par', 'enormous', 'horde', 'unquestionably', 'essentially', 'Nicklaus', 'Venturi', 'shaky', 'accurate', 'supersensitive', 'putter', \"Augusta's\", 'treacheries', 'geriatric', 'cloudless', 'gray', 'ugly', 'focus', 'destined', 'scoreboards', 'twosome', 'Hyndman', 'conspicuously', 'contender', 'tidal', 'Kel', 'Nagle', '2nd', 'parklike', 'landscape', 'answered', 'moments', 'lining', '25-foot', 'unmistakably', 'grimace', 'sink', '25-footer', 'vocalization', 'rolling', 'intervening', 'gifted', 'axiomatic', 'dominate', 'vehemence', 'mar', 'well-played', 'overpowered', 'obliterated', 'contemptuous', 'earnest', 'aggressiveness', 'stepped', '6th', '8th', 'downhill', 'dogleg', 'measuring', 'pine', 'separating', 'Having', '160', 'punching', 'settling', 'hoping', 'bunkered', \"you'd\", 'chipped', '220-yard', 'par-3', 'switched', '180-degrees', 'northwest', 'one-iron', 'three-wood', 'subsequent', 'bogeys', '450', 'double-header', 'awe', '145-pound', 'Gregory', 'Pearson', 'Angels', 'borders', 'amiable', 'ambled', 'grand-slam', \"teammate's\", 'successive', 'pinch-hitter', 'Pitchers', 'shrinking', 'zone', 'knock-down', 'Experts', 'thinning', 'Whatever', 'peril', 'endurance', 'doubly', 'jeopardy', 'incorrigible', 'epicure', 'Herman', 'thwarted', 'ultimately', 'challenger', 'amazing', 'seventeen', 'spurt', 'Double', 'Always', 'Foxx', '1932', '1938', 'Hack', 'spurred', 'zeroed', '43', 'Extend', 'paces', '162', 'mathematically', 'flourish', 'ideal', 'easier', 'Roommates', 'understandably', 'concede', 'quote', 'Valuable', 'MVP', '$251', 'air-conditioning', 'sleeps', 'couch', 'divide', 'cooking', 'breakfast', 'sandwich', 'Oldsmobile', '25-minute', 'roommates', 'strikingly', 'backgrounds', 'stars', 'Fargo', 'N.D.', 'halfbacks', 'minors', 'recalls', 'extent', 'hair', 'weigh', '17-1/2-inch', 'backs', 'overdeveloped', 'shoulders', 'purchases', \"Simpson's\", 'Light', 'classified', 'opus', 'Tropic', 'literary', 'broadened', \"teammates'\", 'minds', 'passages', 'aloud', 'trait', 'pleasant', 'photographers', 'volunteered', 'anecdote', 'dark-haired', '11-year-old', \"Berra's\", 'stunk', 'candidly', 'occasions', 'shuns', 'dumb', 'Tulsa', 'Dutch', 'Send', 'Reading', 'Kerby', 'Play', 'gentlemen', \"Idols'\", 'idols', 'heroes', 'kidding', 'idolize', 'ex-Yankee', 'aching', 'crushed', 'vow', '87-1/2', 'railroading', 'mining', 'head-and-shoulders', 'Hitting', 'right-handed', 'possess', 'stances', 'fierce', 'swings', 'bunters', 'nineteen', '3.1', '100-yard', 'dash', 'Aparicio', 'swift', 'base-stealing', 'fielders', 'weapon', 'dullest', 'inevitably', 'weaker', 'Appropriately', 'startling', '1919', 'disillusioned', 'disinterested', 'Into', 'Convair', 'Caroline', 'winged', 'Actor-Crooner', 'Sinatra', 'pal', 'Cinemactor', 'Lawford', 'brother-in-law', 'entourage', 'sweater', 'Eve', \"capital's\", 'Armory', 'glutted', 'Ella', 'Fitzgerald', 'Australia', 'cats', 'ensconced', \"armory's\", 'ringside', 'Inaugural', 'Couturier', \"ladies'\", 'ensembles', 'spills', 'stitch', 'catapulted', 'commandant', 'warless', 'Leatherneck', 'accumulation', 'vines', 'weeds', 'moldboard', 'lifted', 'hitched', 'rein', 'geeing', 'hawing', 'tilling', 'deplored', 'noncommissioned', 'belonged', 'someone', '1940', 'socks', 'window', 'Maurine', 'Neuberger', 'brotherly', 'buss', 'Elder', 'Statesman', 'Ambassador-designate', \"Island's\", 'Greene', 'swum', 'cerebrated', 'hearty', 'august', 'oldest', 'bobby-sox', 'Dreamboat', 'Cacophonist', 'Forte', 'tutors', \"10-o'clock\", 'Lacking', 'classmates', \"High's\", 'toneless', 'lad', 'Decathlon', 'Rafer', 'gumption', \"A.A.U.'s\", 'sportsman', 'tapped', 'cliffhanging', 'rallies', 'crowns', 'Tooling', 'Zealand', 'Prix', 'balding', 'Ace', 'Driver', 'Stirling', 'smothered', 'exhaust', 'self-crimination', 'slob', 'gaudy', 'ruddy', 'lazy', 'frustrating', 'Has', 'stirling', 'virtues', 'eulogizers', \"U.S.S.R.'s\", 'Izvestia', 'enterprisingly', 'Red-prone', 'Comedian', 'self-exile', '1952', 'confided', 'marveled', 'grandiose', 'experiment', 'spooned', 'impressions', 'glimpsed', 'captivated', 'sly', 'transatlantic', 'jetliners', 'enigma', 'vaguely', 'connotes', 'new-rich', 'eccentricity', 'ardor', 'collecting', 'headlines', '343', 'first-class', 'fabled', \"Philadelphia's\", 'legend', 'fortune', 'dying', 'boom', 'bargain', 'Modern', \"Art's\", 'Barr', 'barge', 'lavishly', 'drivers', 'bellboys', 'Cezannes', 'Braques', 'Matisses', 'Legers', 'Picasso', 'Giacometti', 'hung', 'burglarproof', 'Throw', 'housed', 'snubbing', 'Basel', 'Ernst', 'arranged', '$1,500,000', 'Rhine-Westphalia', 'prizes', 'scarcely', 'treasures', 'speculated', 'revenge', 'bare', 'Break', 'discriminate', 'applicant', '175', 'classrooms', 'admit', 'kindergarten', 'Alabama', 'Valedictorian', 'pretexts', 'skins', 'Morehouse', 'journalism', \"Detroit's\", 'tentatively', 'investigators', 'roommate', 'lasted', 'ritual', 'prostitution', 'beatnik', 'teahouse', 'evasive', 'lied', 'desegregated', \"Bootle's\", 'plaintiffs', 'Surprised', 'Catch', 'hunt', 'gripped', 'Midway', 'Out', 'statesmen', 'Conant', 'pondered', 'successors', \"Harvard's\", 'McGeorge', 'Bundy', 'Trustee', 'lure', 'scholars', 'happily', \"Caltech's\", 'Prize', 'physiology', 'discovering', 'genes', 'heredity', 'Cover', 'nine-year', 'reign', 'tidying', '21-year', 'typhoon', 'Idealist', 'Maynard', \"Hutchins'\", 'enrollment', 'endowment', '$139.3', 'heady', 'Caltech', 'sixth-sense', 'recruit', 'excite', 'researchers', 'speech-making', 'avidly', 'Journal', '$300', 'philosopher', 'finger', 'Leopold', 'grabbing', '900,000', 'wilderness', 'quarreling', 'historical', 'geography', \"Leopold's\", 'explorers', 'gunmen', 'culture', 'innumerable', 'dialects', 'religions', 'Mohammedanism', 'paganism', 'ancestor', 'animism', 'ranges', 'steamily', 'equatorial', 'temperate', 'patients', 'trampled', 'disparities', 'conscience', 'commencing', 'unmatched', 'colonialism', 'Ordinarily', 'imagines', 'infant', 'tin', 'cobalt', 'manganese', 'uranium', 'palm', 'beneficiaries', 'cartels', 'Inside', 'Gunther', 'describes', 'Societe', 'Generale', 'colossus', 'envisaged', 'Anaconda', 'Copper', 'Mutual', 'Insurance', 'producing', 'lumped', 'ruthless', 'exploited', 'compassion', 'instituted', 'obliged', 'dole', 'hungry', '25,000', 'puzzle', 'chatte', 'le', 'chien', 'carpenters', 'indefinite', 'fearing', 'elite', 'unrest', 'manifestly', 'unprepared', 'oversimplification', 'gale', 'prepare', 'colonies', 'clamoring', 'unsure', 'Pas', 'une', 'goutte', 'sang', 'pedagogue', 'mess', 'motivations', 'guiltless', 'splitting', 'Balkanizing', 'near-Balkanization', 'federalism', 'Third', 'notably', 'hurry', 'fragmentation', 'provincial', 'Leopoldville', 'Kivu', 'Equator', 'unfortunately', 'Western-style', 'bicameral', 'Well-wishers', 'assume', 'respectable', 'frictions', '25,000-man', 'officered', 'Twenty-four', 'tribesmen', 'commenced', 'well-armed', 'savage', 'cannibalistic', 'mutiny', 'rioting', 'raping', 'looting', 'Terror', 'engulfed', 'civilians', 'paratroops', 'mineral-rich', 'Confusion', 'succeeding', 'blamed', 'abstaining', 'Vague', 'withdrawal', 'Hammarskjold', 'preferable', 'nonwhite', 'Guinea', 'Mali', '19,000', 'Eire', 'Sweden', 'reluctant', 'withdraw', 'obstructed', 'complicated', \"U.N.'s\", 'initiating', 'secessionist', 'Kalonji', 'secede', 'meddle', 'dispatching', 'intervene', 'openly', 'exasperated', 'flung', 'redoubled', 'obstructionist', 'departed', 'uniformed', 'variously', 'mercenaries', '65%', 'directive', 'interfere', 'unify', 'federalize', 'Balkanize', 'smoldered', 'flickered', 'kidnaped', 'appropriate', 'occurrence', 'resort', 'eject', \"Lumumba's\", 'reconvention', \"McCloy's\", 'reliance', 'thorny', 'Tunis', 'imbroglio', 'quo', 'Mediterranean', 'Bahi', 'irreconcilable', 'Habib', 'Bourguiba', 'picks', 'Uruguay', 'Inter-American', 'Main', 'Alliance', 'Nationalist', \"China's\", 'dapper', 'diminutive', 'Cheng', 'Chiang', \"Kai-shek's\", 'emissary', 'Mongolia', 'woo', 'Peking', 'abstention', \"Mongolia's\", 'conferred', 'emissaries', 'Guatemala', 'Nepal', 'good-will', 'Ivory', 'skyjacked', 'four-jet', 'stopovers', 'night-coach', 'Flight', '1:35', 'Thirty-one', 'teen-age', '3:57', 'aisle', 'bent', 'sick', 'Desert', '52-year-old', 'mid-flight', 'Peruvian', 'tri-motor', 'Arequipa', 'Cuban-American', 'Electra', 'Newsweek', 'Stalling', 'skyjackers', 'refuel', 'Sacramento', 'recruits', 'awoke', 'nap', 'nut', 'recruiter', 'volunteer', 'Pfc.', 'Augustine', 'boxer', 'Immigration', '4:18', \"sheriff's\", 'surged', 'submachine', 'ordinarily', 'fuels', 'consumed', 'swap', 'propeller-driven', 'hijackers', \"Cuba's\", 'steal', 'embargo', 'shadows', 'Mountains', 'pry', 'luggage', 'subsequently', '50-year-old', 'ex-convict', 'Cody', 'high-school', 'Tension', 'slug', 'Officer', 'ultimatum', 'take-off', 'taxiing', 'raced', 'slugs', 'flattened', 'silenced', 'inboard', 'engines', 'Ambulances', '12:50', 'eased', 'distracted', 'stewardesses', 'Toni', 'Besset', 'pocket', \"Simmons'\", 'nodded', 'Frog-marched', '$100,000', 'kidnapping', 'transporting', 'peddle', '36-year-old', 'Taking', 'precedence', 'unaccustomed', 'unanimity', '0', 'peacetime', '225,000', '160,000', 'hold-back', 'mutterers', 'labeled', 'prudently', '$46.7', 'tacked', '$754', 'B-52', 'bombers', 'Strategic', 'Command', '224-170', '$5.2', 'Debate', 'all-important', 'foreign-aid', 'Food', 'stew', 'Mulligatawny', 'poor-mouth', 'lowliest', 'ceased', 'enlivened', 'Maine', 'menu', 'drab', 'smelts', 'soft-shell', 'crabs', 'grapefruit', 'bean', 'soup', 'Dubois', 'ventured', 'haute', 'cuisine', '$10,000-per-year', 'French-born', 'maitre', \"d'hotel\", 'Holders', 'Long-term', 'Result', 'payoff', 'speculative', 'Things', 'streams', 'speculations', 'investments', 'tending', \"Poor's\", 'slipped', 'bucked', 'rises', 'outnumber', 'Tax-free', 'more-than-ordinary', 'risen', 'unmarried', 'investor', '$16,000', '$32,000', 'Swelling', '12-month', 'Blyth', 'lags', 'Indication', 'slumped', '186', '173', 'Costs', '121', 'Slow', 'successes', '187-mile', 'Toll', 'Success', \"engineers'\", 'rosy', 'toll-rate', 'extensions', 'Richmond-Petersburg', 'Easier', \"motorists'\", 'illustration', '62', 'Wichita', 'Kans.', 'deficiency', 'opportunities', 'Skyway', 'planners', 'default', 'defaulted', 'Already', 'margins', 'attracting', 'break-even', 'competitively', 'Luther', 'toured', \"Italy's\", 'typewriters', 'calculating', 'cabled', 'Follow', 'Plan', 'fraction', 'skilled', 'earns', 'infrequent', \"Underwood's\", 'layout', 'design-conscious', 'sales-conscious', 'advertising-conscious', 'inflow', 'vigor', 'Important', 'textile-importing', 'textile-exporting', 'noting', 'industrialized', 'less-developed', 'exporting', 'Idea', 'high-wage', 'Lancashire', 'Pact', 'None', 'capture', 'loudly', 'protest', 'Spanish', 'Portuguese', 'pour', 'unrestrictedly', 'Pakistanis', 'chafing', 'bilateral', 'Gradual', 'stabilization', 'clue', 'Note', 'shrinkage', 'transferring', 'feasible', 'Special', 'Import', 'forcing', 'shrink', \"What's\", 'handwriting', 'highest-paid', \"steelmakers'\", 'mouths', 'steelmaker', 'takings', 'markets', '$2.80', 'ton', 'cheaper', 'rail', 'mechanization', 'attactive', 'nationalized', 'twisting', 'Productivity', 'Communist-led', 'unprofitable', 'borrower', 'five-cent', 'rentals', 'apologetically', 'Behind', 'variations', 'ever-present', 'grist', '15,000', 'readers', 'lovers', 'clientele', 'diversified', 'hopelessly', 'startlingly', 'exceed', \"librarian's\", 'richest', 'plight', 'proportionately', 'Confronted', 'limitations', 'bounty', 'contrasts', 'density', 'cross-section', 'extreme', 'upper', 'sparsely', 'populated', 'high-density', 'ample', 'thriving', 'wary', 'well-stocked', 'cherish', 'joining', 'radical', 'autonomy', 'preserved', 'advantages', 'foresee', 'distant', 'co-op', 'requires', 'nucleus', 'develops', 'thirty', 'fifty', 'capita', 'inclusive', 'recognizes', 'broaden', 'everyday', '1965', 'Basic', 'tools', 'backbone', 'specialization', 'microfilm', 'founding', 'periodicals', 'connected', 'teletype', 'truck', 'canvas', 'psychology', 'religion', 'Freeport', 'biography', 'centered', 'Levittown', 'Hewlett-Woodmere', 'repository', 'wholly', 'quarter-century', 'comprehensive', 'saves', 'discounts', 'bookkeeping', 'billing', 'Books', 'resource', 'Schools', 'documentary', 'classics', 'Nanook', \"Emperor's\", 'Nightingale', 'Balloon', 'Workshops', 'understands', 'responsibilities', 'conducts', 'well-planned', 'book-review', 'book-selection', 'Sample', 'copies', 'evaluate', 'Story', 'pre-school', 'grassroots', 'prepares', 'booklists', 'brochures', 'publishes', 'Sum', 'Substance', 'newsletter', 'governed', 'geographically', 'bear', 'Librarians', 'borne', 'multiplying', 'newcomers', 'maligned', 'teen-agers', 'co-ops', 'citizen', 'advances', 'discriminating', 'slave', 'spiritual', 'restraint', 'falls', 'grows', 'translate', 'inadequacy', 'vigorously', '25,000,000', '50,000,000', '124', '1,509', '66', 'pupils', 'render', 'vitally', '16-22', 'richer', 'fuller']\n"
          ]
        },
        {
          "output_type": "stream",
          "name": "stderr",
          "text": [
            "/usr/local/lib/python3.7/dist-packages/ipykernel_launcher.py:8: DeprecationWarning: \n",
            "  Function evaluate() has been deprecated.  Use accuracy(gold)\n",
            "  instead.\n",
            "  \n"
          ]
        },
        {
          "output_type": "display_data",
          "data": {
            "text/plain": [
              "<Figure size 432x288 with 1 Axes>"
            ],
            "image/png": "[encoded data removed]"
          },
          "metadata": {
            "needs_background": "light"
          }
        }
      ]
    },
    {
      "cell_type": "code",
      "source": [
        "# import nltk\n",
        "# text = word_tokenize(\"And now for something completely different\")\n",
        "# nltk.pos_tag(text)"
      ],
      "metadata": {
        "colab": {
          "base_uri": "https://localhost:8080/",
          "height": 200
        },
        "id": "0zC3iy2oveet",
        "outputId": "dd655767-4a16-440e-e6a5-d14e25a0a787"
      },
      "execution_count": null,
      "outputs": [
        {
          "output_type": "error",
          "ename": "NameError",
          "evalue": "ignored",
          "traceback": [
            "\u001b[0;31m---------------------------------------------------------------------------\u001b[0m",
            "\u001b[0;31mNameError\u001b[0m                                 Traceback (most recent call last)",
            "\u001b[0;32m<ipython-input-36-610dc6cbb354>\u001b[0m in \u001b[0;36m<module>\u001b[0;34m\u001b[0m\n\u001b[1;32m      1\u001b[0m \u001b[0;32mimport\u001b[0m \u001b[0mnltk\u001b[0m\u001b[0;34m\u001b[0m\u001b[0;34m\u001b[0m\u001b[0m\n\u001b[0;32m----> 2\u001b[0;31m \u001b[0mtext\u001b[0m \u001b[0;34m=\u001b[0m \u001b[0mword_tokenize\u001b[0m\u001b[0;34m(\u001b[0m\u001b[0;34m\"And now for something completely different\"\u001b[0m\u001b[0;34m)\u001b[0m\u001b[0;34m\u001b[0m\u001b[0;34m\u001b[0m\u001b[0m\n\u001b[0m\u001b[1;32m      3\u001b[0m \u001b[0mnltk\u001b[0m\u001b[0;34m.\u001b[0m\u001b[0mpos_tag\u001b[0m\u001b[0;34m(\u001b[0m\u001b[0mtext\u001b[0m\u001b[0;34m)\u001b[0m\u001b[0;34m\u001b[0m\u001b[0;34m\u001b[0m\u001b[0m\n",
            "\u001b[0;31mNameError\u001b[0m: name 'word_tokenize' is not defined"
          ]
        }
      ]
    },
    {
      "cell_type": "markdown",
      "metadata": {
        "id": "ZuIBGWsF_YTU"
      },
      "source": [
        "### N-Gram Tagging"
      ]
    },
    {
      "cell_type": "markdown",
      "metadata": {
        "id": "Q7VNrjPN_YTV"
      },
      "source": [
        "Unigram Tagging. For each token, assign the tag that is most likely for that particular token. Training of a UNIGRAM tagger and evaluation\n"
      ]
    },
    {
      "cell_type": "code",
      "metadata": {
        "id": "rMfzXgds_YTW",
        "outputId": "7cd9734d-992a-41fc-89e9-39024efd7873",
        "colab": {
          "base_uri": "https://localhost:8080/"
        }
      },
      "source": [
        "from nltk.corpus import brown\n",
        "brown_tagged_sents = brown.tagged_sents(categories='news')\n",
        "brown_sents = brown.sents(categories='news')\n",
        "unigram_tagger = nltk.UnigramTagger(brown_tagged_sents)\n",
        "unigram_tagger.tag(brown_sents[2007])\n",
        "print('\\n Perc of Correctly tagged tokens -> ', round(unigram_tagger.evaluate(brown_tagged_sents)*100),'%')"
      ],
      "execution_count": null,
      "outputs": [
        {
          "output_type": "execute_result",
          "data": {
            "text/plain": [
              "[('Various', 'JJ'),\n",
              " ('of', 'IN'),\n",
              " ('the', 'AT'),\n",
              " ('apartments', 'NNS'),\n",
              " ('are', 'BER'),\n",
              " ('of', 'IN'),\n",
              " ('the', 'AT'),\n",
              " ('terrace', 'NN'),\n",
              " ('type', 'NN'),\n",
              " (',', ','),\n",
              " ('being', 'BEG'),\n",
              " ('on', 'IN'),\n",
              " ('the', 'AT'),\n",
              " ('ground', 'NN'),\n",
              " ('floor', 'NN'),\n",
              " ('so', 'QL'),\n",
              " ('that', 'CS'),\n",
              " ('entrance', 'NN'),\n",
              " ('is', 'BEZ'),\n",
              " ('direct', 'JJ'),\n",
              " ('.', '.')]"
            ]
          },
          "metadata": {},
          "execution_count": 10
        },
        {
          "output_type": "stream",
          "name": "stderr",
          "text": [
            "/usr/local/lib/python3.7/dist-packages/ipykernel_launcher.py:6: DeprecationWarning: \n",
            "  Function evaluate() has been deprecated.  Use accuracy(gold)\n",
            "  instead.\n",
            "  \n"
          ]
        },
        {
          "output_type": "stream",
          "name": "stdout",
          "text": [
            "\n",
            " Perc of Correctly tagged tokens ->  93 %\n"
          ]
        }
      ]
    },
    {
      "cell_type": "markdown",
      "metadata": {
        "id": "7c7ywA3i_YTZ"
      },
      "source": [
        "Separating training and testing data sets. Notice the different scores between train (used to build system 90%) and test (not used while building the system 10%)."
      ]
    },
    {
      "cell_type": "code",
      "metadata": {
        "id": "4UnxaMmO_YTa",
        "outputId": "5a149f90-1cc8-4817-c356-ed9cae48350f",
        "colab": {
          "base_uri": "https://localhost:8080/"
        }
      },
      "source": [
        "size = int(len(brown_tagged_sents) * 0.75)\n",
        "size\n",
        "train_sents = brown_tagged_sents[:size]\n",
        "test_sents = brown_tagged_sents[size:]\n",
        "unigram_tagger = nltk.UnigramTagger(train_sents)\n",
        "print('\\n')\n",
        "print('\\n Perc of Correctly tagged tokens on training data -> ', round(unigram_tagger.evaluate(train_sents)*100),'%')\n",
        "print('\\n Perc of Correctly tagged tokens on testing data  -> ', round(unigram_tagger.evaluate(test_sents)*100),'%')"
      ],
      "execution_count": null,
      "outputs": [
        {
          "output_type": "execute_result",
          "data": {
            "text/plain": [
              "3467"
            ]
          },
          "metadata": {},
          "execution_count": 40
        },
        {
          "output_type": "stream",
          "name": "stdout",
          "text": [
            "\n",
            "\n"
          ]
        },
        {
          "output_type": "stream",
          "name": "stderr",
          "text": [
            "/usr/local/lib/python3.7/dist-packages/ipykernel_launcher.py:7: DeprecationWarning: \n",
            "  Function evaluate() has been deprecated.  Use accuracy(gold)\n",
            "  instead.\n",
            "  import sys\n"
          ]
        },
        {
          "output_type": "stream",
          "name": "stdout",
          "text": [
            "\n",
            " Perc of Correctly tagged tokens on training data ->  94 %\n",
            "\n",
            " Perc of Correctly tagged tokens on testing data  ->  81 %\n"
          ]
        },
        {
          "output_type": "stream",
          "name": "stderr",
          "text": [
            "/usr/local/lib/python3.7/dist-packages/ipykernel_launcher.py:8: DeprecationWarning: \n",
            "  Function evaluate() has been deprecated.  Use accuracy(gold)\n",
            "  instead.\n",
            "  \n"
          ]
        }
      ]
    },
    {
      "cell_type": "markdown",
      "metadata": {
        "id": "jHBu2oT8_YTd"
      },
      "source": [
        "Bigram tagger. Notice perfomance difference between training and testing sentence."
      ]
    },
    {
      "cell_type": "code",
      "metadata": {
        "id": "_hMH9DE7_YTe",
        "outputId": "5645be70-a9be-4f5b-97ff-42336469703e",
        "colab": {
          "base_uri": "https://localhost:8080/"
        }
      },
      "source": [
        "bigram_tagger = nltk.BigramTagger(train_sents)\n",
        "bigram_tagger.tag(brown_sents[2007])\n",
        "unseen_sent = brown_sents[4203]\n",
        "bigram_tagger.tag(unseen_sent)\n",
        "\n",
        "\n",
        "print('\\n')\n",
        "print('\\n Perc of Correctly tagged tokens on training data -> ', round(bigram_tagger.evaluate(train_sents)*100),'%')\n",
        "print('\\n Perc of Correctly tagged tokens on testing data  -> ', round(bigram_tagger.evaluate(test_sents)*100),'%')"
      ],
      "execution_count": null,
      "outputs": [
        {
          "output_type": "execute_result",
          "data": {
            "text/plain": [
              "[('Various', 'JJ'),\n",
              " ('of', 'IN'),\n",
              " ('the', 'AT'),\n",
              " ('apartments', 'NNS'),\n",
              " ('are', 'BER'),\n",
              " ('of', 'IN'),\n",
              " ('the', 'AT'),\n",
              " ('terrace', 'NN'),\n",
              " ('type', 'NN'),\n",
              " (',', ','),\n",
              " ('being', 'BEG'),\n",
              " ('on', 'IN'),\n",
              " ('the', 'AT'),\n",
              " ('ground', 'NN'),\n",
              " ('floor', 'NN'),\n",
              " ('so', 'CS'),\n",
              " ('that', 'CS'),\n",
              " ('entrance', 'NN'),\n",
              " ('is', 'BEZ'),\n",
              " ('direct', 'JJ'),\n",
              " ('.', '.')]"
            ]
          },
          "metadata": {},
          "execution_count": 38
        },
        {
          "output_type": "execute_result",
          "data": {
            "text/plain": [
              "[('The', 'AT'),\n",
              " ('population', 'NN'),\n",
              " ('of', 'IN'),\n",
              " ('the', 'AT'),\n",
              " ('Congo', 'NP'),\n",
              " ('is', 'BEZ'),\n",
              " ('13.5', None),\n",
              " ('million', None),\n",
              " (',', None),\n",
              " ('divided', None),\n",
              " ('into', None),\n",
              " ('at', None),\n",
              " ('least', None),\n",
              " ('seven', None),\n",
              " ('major', None),\n",
              " ('``', None),\n",
              " ('culture', None),\n",
              " ('clusters', None),\n",
              " (\"''\", None),\n",
              " ('and', None),\n",
              " ('innumerable', None),\n",
              " ('tribes', None),\n",
              " ('speaking', None),\n",
              " ('400', None),\n",
              " ('separate', None),\n",
              " ('dialects', None),\n",
              " ('.', None)]"
            ]
          },
          "metadata": {},
          "execution_count": 38
        },
        {
          "output_type": "stream",
          "name": "stdout",
          "text": [
            "\n",
            "\n"
          ]
        },
        {
          "output_type": "stream",
          "name": "stderr",
          "text": [
            "/usr/local/lib/python3.7/dist-packages/ipykernel_launcher.py:8: DeprecationWarning: \n",
            "  Function evaluate() has been deprecated.  Use accuracy(gold)\n",
            "  instead.\n",
            "  \n"
          ]
        },
        {
          "output_type": "stream",
          "name": "stdout",
          "text": [
            "\n",
            " Perc of Correctly tagged tokens on training data ->  79 %\n",
            "\n",
            " Perc of Correctly tagged tokens on testing data  ->  10 %\n"
          ]
        },
        {
          "output_type": "stream",
          "name": "stderr",
          "text": [
            "/usr/local/lib/python3.7/dist-packages/ipykernel_launcher.py:9: DeprecationWarning: \n",
            "  Function evaluate() has been deprecated.  Use accuracy(gold)\n",
            "  instead.\n",
            "  if __name__ == '__main__':\n"
          ]
        }
      ]
    },
    {
      "cell_type": "markdown",
      "metadata": {
        "id": "HYo0BHeX_YTi"
      },
      "source": [
        "### Transformation Based Tagging\n",
        "\n",
        "Brill tagging (Supervised Learning Method) -> Guess the tag for each word and go back and fix mistakes by applying rules. (see 6   Transformation-Based Tagging in https://www.nltk.org/book/ch05.html)\n",
        "\n"
      ]
    },
    {
      "cell_type": "code",
      "metadata": {
        "id": "LnuUxu9J_YTi",
        "outputId": "0a4f185f-83b2-42a4-add2-1687a151e2d8",
        "colab": {
          "base_uri": "https://localhost:8080/",
          "height": 972
        }
      },
      "source": [
        "import nltk\n",
        "\n",
        "              \n",
        "from nltk.tbl import demo as brill_tagger\n",
        "brill_tagger.demo()\n"
      ],
      "execution_count": null,
      "outputs": [
        {
          "output_type": "stream",
          "text": [
            "Loading tagged data from treebank... \n",
            "Read testing data (200 sents/5251 wds)\n",
            "Read training data (800 sents/19933 wds)\n",
            "Read baseline data (800 sents/19933 wds) [reused the training set]\n",
            "Trained baseline tagger\n",
            "    Accuracy on test set: 0.8366\n",
            "Training tbl tagger...\n",
            "TBL train (fast) (seqs: 800; tokens: 19933; tpls: 24; min score: 3; min acc: None)\n",
            "Finding initial useful rules...\n",
            "    Found 12799 useful rules.\n",
            "\n",
            "           B      |\n",
            "   S   F   r   O  |        Score = Fixed - Broken\n",
            "   c   i   o   t  |  R     Fixed = num tags changed incorrect -> correct\n",
            "   o   x   k   h  |  u     Broken = num tags changed correct -> incorrect\n",
            "   r   e   e   e  |  l     Other = num tags changed incorrect -> incorrect\n",
            "   e   d   n   r  |  e\n",
            "------------------+-------------------------------------------------------\n",
            "  23  23   0   0  | POS->VBZ if Pos:PRP@[-2,-1]\n",
            "  18  19   1   0  | NN->VB if Pos:-NONE-@[-2] & Pos:TO@[-1]\n",
            "  14  14   0   0  | VBP->VB if Pos:MD@[-2,-1]\n",
            "  12  12   0   0  | VBP->VB if Pos:TO@[-1]\n",
            "  11  11   0   0  | VBD->VBN if Pos:VBD@[-1]\n",
            "  11  11   0   0  | IN->WDT if Pos:-NONE-@[1] & Pos:VBP@[2]\n",
            "  10  11   1   0  | VBN->VBD if Pos:PRP@[-1]\n",
            "   9  10   1   0  | VBD->VBN if Pos:VBZ@[-1]\n",
            "   8   8   0   0  | NN->VB if Pos:MD@[-1]\n",
            "   7   7   0   1  | VB->NN if Pos:DT@[-1]\n",
            "   7   7   0   0  | VB->VBP if Pos:PRP@[-1]\n",
            "   7   7   0   0  | IN->WDT if Pos:-NONE-@[1] & Pos:VBZ@[2]\n",
            "   7   8   1   0  | IN->RB if Word:as@[2]\n",
            "   6   6   0   0  | VBD->VBN if Pos:VBP@[-2,-1]\n",
            "   6   6   0   1  | IN->WDT if Pos:-NONE-@[1] & Pos:VBD@[2]\n",
            "   5   5   0   0  | POS->VBZ if Pos:-NONE-@[-1]\n",
            "   5   5   0   0  | VB->VBP if Pos:NNS@[-1]\n",
            "   5   5   0   0  | VBD->VBN if Word:be@[-2,-1]\n",
            "   4   4   0   0  | POS->VBZ if Pos:``@[-2]\n",
            "   4   4   0   0  | VBP->VB if Pos:VBD@[-2,-1]\n",
            "   4   6   2   3  | RP->RB if Pos:CD@[1,2]\n",
            "   4   4   0   0  | RB->JJ if Pos:DT@[-1] & Pos:NN@[1]\n",
            "   4   4   0   0  | NN->VBP if Pos:NNS@[-2] & Pos:RB@[-1]\n",
            "   4   5   1   0  | VBN->VBD if Pos:NNP@[-2] & Pos:NNP@[-1]\n",
            "   4   4   0   0  | IN->WDT if Pos:-NONE-@[1] & Pos:MD@[2]\n",
            "   4   8   4   0  | VBD->VBN if Word:*@[1]\n",
            "   4   4   0   0  | JJS->RBS if Word:most@[0] & Word:the@[-1] & Pos:DT@[-1]\n",
            "   3   3   0   0  | VBD->VBN if Pos:VBN@[-1]\n",
            "   3   4   1   0  | VBN->VB if Pos:TO@[-1]\n",
            "   3   4   1   1  | IN->RB if Pos:.@[1]\n",
            "   3   3   0   0  | JJ->RB if Pos:VBD@[1]\n",
            "   3   3   0   0  | PRP$->PRP if Pos:TO@[1]\n",
            "   3   3   0   0  | NN->VBP if Pos:NNS@[-1] & Pos:DT@[1]\n",
            "   3   3   0   0  | VBP->VB if Word:n't@[-2,-1]\n",
            "Trained tbl tagger in 2.98 seconds\n",
            "    Accuracy on test set: 0.8572\n",
            "Tagging the test data\n"
          ],
          "name": "stdout"
        }
      ]
    }
  ]
}